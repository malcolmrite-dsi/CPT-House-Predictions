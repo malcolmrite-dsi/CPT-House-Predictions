{
  "nbformat": 4,
  "nbformat_minor": 0,
  "metadata": {
    "colab": {
      "name": "Web_Scraping_Code_Suburbs.ipynb",
      "provenance": [],
      "toc_visible": true,
      "mount_file_id": "14XXS9kXJL5YK2z0IZg_Md8lC0PJNbL-V",
      "authorship_tag": "ABX9TyO67Z1ZPHUkliGftyxnKfPH",
      "include_colab_link": true
    },
    "kernelspec": {
      "name": "python3",
      "display_name": "Python 3"
    }
  },
  "cells": [
    {
      "cell_type": "markdown",
      "metadata": {
        "id": "view-in-github",
        "colab_type": "text"
      },
      "source": [
        "<a href=\"https://colab.research.google.com/github/malcolmrite-dsi/CPT-House-Predictions/blob/master/Web_Scraping_Code_Suburbs.ipynb\" target=\"_parent\"><img src=\"https://colab.research.google.com/assets/colab-badge.svg\" alt=\"Open In Colab\"/></a>"
      ]
    },
    {
      "cell_type": "markdown",
      "metadata": {
        "id": "QmOzKDMJWWqL",
        "colab_type": "text"
      },
      "source": [
        "# Importing Libraries"
      ]
    },
    {
      "cell_type": "markdown",
      "metadata": {
        "id": "rKOUewpGWujH",
        "colab_type": "text"
      },
      "source": [
        "\n",
        "*   BeautifulSoup: Handles the actual web scraping.\n",
        "*   CSV: A python library that creates the csv file from the scraped text\n",
        "*   requests: Library that sends an HTML request to the web server.\n",
        "\n",
        "\n",
        "\n",
        "\n"
      ]
    },
    {
      "cell_type": "code",
      "metadata": {
        "id": "DfLvh-J3WOqQ",
        "colab_type": "code",
        "colab": {}
      },
      "source": [
        "from bs4 import BeautifulSoup as bs\n",
        "import csv\n",
        "import requests"
      ],
      "execution_count": 9,
      "outputs": []
    },
    {
      "cell_type": "markdown",
      "metadata": {
        "id": "I7M90Pwyb2po",
        "colab_type": "text"
      },
      "source": [
        "# Open the CSV File"
      ]
    },
    {
      "cell_type": "markdown",
      "metadata": {
        "id": "wF1PSy8Nele5",
        "colab_type": "text"
      },
      "source": [
        "Opens a new csv file and sets the headers for that file"
      ]
    },
    {
      "cell_type": "code",
      "metadata": {
        "id": "_c_wuZT2Wf_5",
        "colab_type": "code",
        "colab": {
          "base_uri": "https://localhost:8080/",
          "height": 34
        },
        "outputId": "f2b28c02-2bdc-40e6-d493-8963e49aef47"
      },
      "source": [
        "df = open(\"drive/My Drive/cpt-suburbs.csv\",\"w\")\n",
        "csv_writer = csv.writer(df)\n",
        "csv_writer.writerow([\"Suburb\"])"
      ],
      "execution_count": 21,
      "outputs": [
        {
          "output_type": "execute_result",
          "data": {
            "text/plain": [
              "8"
            ]
          },
          "metadata": {
            "tags": []
          },
          "execution_count": 21
        }
      ]
    },
    {
      "cell_type": "markdown",
      "metadata": {
        "id": "v6WzbSA3e2ex",
        "colab_type": "text"
      },
      "source": [
        "# Send HTML Request"
      ]
    },
    {
      "cell_type": "code",
      "metadata": {
        "id": "fihyWHD_fAyy",
        "colab_type": "code",
        "colab": {}
      },
      "source": [
        "src = {}\n",
        "\n",
        "src[1] = requests.get(f\"https://en.wikipedia.org/wiki/List_of_Cape_Town_suburbs\").text\n",
        "page = bs(src[1], 'lxml')\n"
      ],
      "execution_count": null,
      "outputs": []
    },
    {
      "cell_type": "markdown",
      "metadata": {
        "id": "cgxBAV21RXZb",
        "colab_type": "text"
      },
      "source": [
        "# Testing Each Scrape"
      ]
    },
    {
      "cell_type": "markdown",
      "metadata": {
        "id": "1PUnaPb3hZMc",
        "colab_type": "text"
      },
      "source": [
        "## Get Price"
      ]
    },
    {
      "cell_type": "code",
      "metadata": {
        "id": "Hipg6pKjhrrN",
        "colab_type": "code",
        "colab": {}
      },
      "source": [
        "all_prices = page.find_all('a')\n",
        "for price in all_prices:\n",
        "  print(price.text.strip())"
      ],
      "execution_count": null,
      "outputs": []
    },
    {
      "cell_type": "markdown",
      "metadata": {
        "id": "qa6b1L2Ysg9t",
        "colab_type": "text"
      },
      "source": [
        "# Bringing it All Together"
      ]
    },
    {
      "cell_type": "markdown",
      "metadata": {
        "id": "j1XrfNrhsg2E",
        "colab_type": "text"
      },
      "source": [
        "Iterating over the page. Extracting all the \"a\" values. The values are then placed in the created csv file."
      ]
    },
    {
      "cell_type": "code",
      "metadata": {
        "id": "pmWfexG5s9ae",
        "colab_type": "code",
        "colab": {}
      },
      "source": [
        "\n",
        "\n",
        "src = requests.get(f\"https://en.wikipedia.org/wiki/List_of_Cape_Town_suburbs\").text\n",
        "page = bs(src, 'lxml')\n",
        "    \n",
        "all_descriptions = page.find_all('a')\n",
        "\n",
        "for i, loc in enumerate(all_descriptions):\n",
        "  desc = str(loc).split()\n",
        "  \n",
        "  csv_writer.writerow([all_descriptions[i].text.strip()])\n",
        "      \n",
        "    \n",
        "df.close()\n"
      ],
      "execution_count": 22,
      "outputs": []
    }
  ]
}
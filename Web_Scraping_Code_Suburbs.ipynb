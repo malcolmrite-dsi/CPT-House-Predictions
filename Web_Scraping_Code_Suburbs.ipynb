{
  "nbformat": 4,
  "nbformat_minor": 0,
  "metadata": {
    "colab": {
      "name": "Web_Scraping_Code_Suburbs.ipynb",
      "provenance": [],
      "toc_visible": true,
      "mount_file_id": "14XXS9kXJL5YK2z0IZg_Md8lC0PJNbL-V",
      "authorship_tag": "ABX9TyOOI0EIiR/XllJ+ah8RSedq",
      "include_colab_link": true
    },
    "kernelspec": {
      "name": "python3",
      "display_name": "Python 3"
    }
  },
  "cells": [
    {
      "cell_type": "markdown",
      "metadata": {
        "id": "view-in-github",
        "colab_type": "text"
      },
      "source": [
        "<a href=\"https://colab.research.google.com/github/malcolmrite-dsi/CPT-House-Predictions/blob/master/Web_Scraping_Code_Suburbs.ipynb\" target=\"_parent\"><img src=\"https://colab.research.google.com/assets/colab-badge.svg\" alt=\"Open In Colab\"/></a>"
      ]
    },
    {
      "cell_type": "markdown",
      "metadata": {
        "id": "QmOzKDMJWWqL",
        "colab_type": "text"
      },
      "source": [
        "# Importing Libraries"
      ]
    },
    {
      "cell_type": "markdown",
      "metadata": {
        "id": "rKOUewpGWujH",
        "colab_type": "text"
      },
      "source": [
        "\n",
        "*   BeautifulSoup: Handles the actual web scraping.\n",
        "*   CSV: A python library that creates the csv file from the scraped text\n",
        "*   requests: Library that sends an HTML request to the web server.\n",
        "\n",
        "\n",
        "\n",
        "\n"
      ]
    },
    {
      "cell_type": "code",
      "metadata": {
        "id": "DfLvh-J3WOqQ",
        "colab_type": "code",
        "colab": {}
      },
      "source": [
        "from bs4 import BeautifulSoup as bs\n",
        "import csv\n",
        "import requests"
      ],
      "execution_count": 2,
      "outputs": []
    },
    {
      "cell_type": "markdown",
      "metadata": {
        "id": "I7M90Pwyb2po",
        "colab_type": "text"
      },
      "source": [
        "# Open the CSV File"
      ]
    },
    {
      "cell_type": "markdown",
      "metadata": {
        "id": "wF1PSy8Nele5",
        "colab_type": "text"
      },
      "source": [
        "Opens a new csv file and sets the headers for that file"
      ]
    },
    {
      "cell_type": "code",
      "metadata": {
        "id": "_c_wuZT2Wf_5",
        "colab_type": "code",
        "colab": {
          "base_uri": "https://localhost:8080/",
          "height": 34
        },
        "outputId": "e109432c-2aa4-4b13-8d98-75e10e8f1b53"
      },
      "source": [
        "df = open(\"drive/My Drive/cpt-suburbs.csv\",\"w\")\n",
        "csv_writer = csv.writer(df)\n",
        "csv_writer.writerow([\"Suburb\"])"
      ],
      "execution_count": 7,
      "outputs": [
        {
          "output_type": "execute_result",
          "data": {
            "text/plain": [
              "8"
            ]
          },
          "metadata": {
            "tags": []
          },
          "execution_count": 7
        }
      ]
    },
    {
      "cell_type": "markdown",
      "metadata": {
        "id": "v6WzbSA3e2ex",
        "colab_type": "text"
      },
      "source": [
        "# Send HTML Request"
      ]
    },
    {
      "cell_type": "code",
      "metadata": {
        "id": "fihyWHD_fAyy",
        "colab_type": "code",
        "colab": {}
      },
      "source": [
        "src = {}\n",
        "\n",
        "src[1] = requests.get(f\"https://en.wikipedia.org/wiki/List_of_Cape_Town_suburbs\").text\n",
        "page = bs(src[1], 'lxml')\n"
      ],
      "execution_count": 3,
      "outputs": []
    },
    {
      "cell_type": "markdown",
      "metadata": {
        "id": "cgxBAV21RXZb",
        "colab_type": "text"
      },
      "source": [
        "# Testing Each Scrape"
      ]
    },
    {
      "cell_type": "markdown",
      "metadata": {
        "id": "1PUnaPb3hZMc",
        "colab_type": "text"
      },
      "source": [
        "## Get Price"
      ]
    },
    {
      "cell_type": "code",
      "metadata": {
        "id": "Hipg6pKjhrrN",
        "colab_type": "code",
        "colab": {
          "base_uri": "https://localhost:8080/",
          "height": 1000
        },
        "outputId": "fbb5d177-50b2-4880-9caf-f00723634ac4"
      },
      "source": [
        "all_prices = page.find_all('a')\n",
        "for price in all_prices:\n",
        "  print(price.text.strip())"
      ],
      "execution_count": 4,
      "outputs": [
        {
          "output_type": "stream",
          "text": [
            "\n",
            "Jump to navigation\n",
            "Jump to search\n",
            "City of Cape Town\n",
            "South Africa\n",
            "Cape Town\n",
            "suburbs\n",
            "exurbs\n",
            "postcode\n",
            "1 Atlantic Seaboard\n",
            "2 Cape Flats\n",
            "3 City Bowl\n",
            "4 Helderberg\n",
            "5 Northern Suburbs\n",
            "6 South Peninsula\n",
            "7 Southern Suburbs\n",
            "8 West Coast\n",
            "9 References\n",
            "edit\n",
            "Bakoven\n",
            "Bantry Bay\n",
            "Camps Bay\n",
            "Clifton\n",
            "Fresnaye\n",
            "Green Point\n",
            "Hout Bay\n",
            "Imizamo Yethu\n",
            "Llandudno\n",
            "Mouille Point\n",
            "Sea Point\n",
            "Three Anchor Bay\n",
            "edit\n",
            "Athlone\n",
            "Bishop Lavis\n",
            "Bonteheuwel\n",
            "Crawford\n",
            "Crossroads\n",
            "Epping\n",
            "Gugulethu\n",
            "Hanover Park\n",
            "Kalksteenfontein\n",
            "Khayelitsha\n",
            "Langa\n",
            "Lavender Hill\n",
            "Manenberg\n",
            "Mitchells Plain\n",
            "Nyanga\n",
            "Ottery\n",
            "Pelican Park\n",
            "Philippi\n",
            "Samora Machel\n",
            "Strandfontein\n",
            "Valhalla Park\n",
            "Vrygrond\n",
            "edit\n",
            "Bo-Kaap\n",
            "Devil's Peak Estate\n",
            "De Waterkant\n",
            "Foreshore\n",
            "Gardens\n",
            "Higgovale\n",
            "Lower Vrede\n",
            "Oranjezicht\n",
            "Salt River\n",
            "Schotsche Kloof\n",
            "Tamboerskloof\n",
            "University Estate\n",
            "Vredehoek\n",
            "Walmer Estate\n",
            "Woodstock\n",
            "Zonnebloem\n",
            "edit\n",
            "Firgrove\n",
            "Gordon's Bay\n",
            "Macassar\n",
            "Sir Lowry's Pass Village\n",
            "Somerset West\n",
            "Strand\n",
            "edit\n",
            "Belhar\n",
            "Bellville\n",
            "Brackenfell\n",
            "Bothasig\n",
            "Brooklyn\n",
            "Delft\n",
            "Durbanville\n",
            "Edgemead\n",
            "Elsie's River\n",
            "Goodwood\n",
            "Kensington\n",
            "Kraaifontein\n",
            "Kuils River\n",
            "Loevenstein\n",
            "Maitland\n",
            "Milnerton\n",
            "Monte Vista\n",
            "Panorama\n",
            "Parow\n",
            "Plattekloof\n",
            "Rugby\n",
            "Thornton\n",
            "edit\n",
            "Muizenberg\n",
            "Noordhoek\n",
            "Cape Point\n",
            "Capri Village\n",
            "Clovelly\n",
            "Fish Hoek\n",
            "Glencairn\n",
            "Kalk Bay\n",
            "Kommetjie\n",
            "Lakeside\n",
            "Marina da Gama\n",
            "Masiphumelele\n",
            "Muizenberg\n",
            "Noordhoek\n",
            "Ocean View\n",
            "Scarborough\n",
            "Simon's Town\n",
            "St James\n",
            "Sunnydale\n",
            "Sun Valley\n",
            "Vrygrond\n",
            "edit\n",
            "Bergvliet\n",
            "Bishopscourt\n",
            "Claremont\n",
            "Constantia\n",
            "[1]\n",
            "Diep River\n",
            "Grassy Park\n",
            "Harfield Village\n",
            "Heathfield\n",
            "Kenilworth\n",
            "Kenwyn\n",
            "Kirstenhof\n",
            "Kreupelbosch\n",
            "Lansdowne\n",
            "Lotus River\n",
            "Meadowridge\n",
            "Mowbray\n",
            "Ndabeni\n",
            "Newlands\n",
            "Observatory\n",
            "Pinelands\n",
            "Plumstead\n",
            "Retreat\n",
            "Rondebosch\n",
            "Rondebosch East\n",
            "Rosebank\n",
            "SouthField\n",
            "Steenberg\n",
            "Tokai\n",
            "Wynberg\n",
            "Wetton\n",
            "edit\n",
            "Atlantis\n",
            "Bloubergstrand\n",
            "Darling\n",
            "Mamre\n",
            "Melkbosstrand\n",
            "Milnerton\n",
            "Montague Gardens\n",
            "Parklands\n",
            "Table View\n",
            "West Beach\n",
            "edit\n",
            "^\n",
            "\"CONSTANTIA Postal Code (WC)\"\n",
            "v\n",
            "t\n",
            "e\n",
            "City of Cape Town Metropolitan Municipality\n",
            "Western Cape\n",
            "Cape Town\n",
            "Bakoven\n",
            "Bantry Bay\n",
            "Camps Bay\n",
            "Clifton\n",
            "Fresnaye\n",
            "Green Point\n",
            "Llandudno\n",
            "Mouille Point\n",
            "Sea Point\n",
            "Three Anchor Bay\n",
            "\n",
            "Atlantis\n",
            "Bloubergstrand\n",
            "Brooklyn\n",
            "Century City\n",
            "Dunoon\n",
            "Duynefontein\n",
            "Joe Slovo Park\n",
            "Mamre\n",
            "Melkbosstrand\n",
            "Milnerton\n",
            "Parklands\n",
            "Table View\n",
            "Cape Flats\n",
            "Athlone\n",
            "Bishop Lavis\n",
            "Crawford\n",
            "Crossroads\n",
            "Gugulethu\n",
            "Hanover Park\n",
            "Heideveld\n",
            "Kenwyn\n",
            "Khayelitsha\n",
            "QQ Section\n",
            "Lansdowne\n",
            "Lavender Hill\n",
            "Manenberg\n",
            "Mitchells Plain\n",
            "Nyanga\n",
            "Ottery\n",
            "Philippi\n",
            "Rondebosch East\n",
            "Strandfontein\n",
            "City Centre\n",
            "Bo-Kaap\n",
            "De Waterkant\n",
            "Devil's Peak Estate\n",
            "District Six\n",
            "Foreshore\n",
            "Gardens\n",
            "Higgovale\n",
            "Oranjezicht\n",
            "Robben Island\n",
            "Schotsche Kloof\n",
            "Tamboerskloof\n",
            "University Estate\n",
            "Vredehoek\n",
            "Walmer Estate\n",
            "Woodstock\n",
            "Zonnebloem\n",
            "Helderberg\n",
            "Eerste River\n",
            "Faure\n",
            "Gordon's Bay\n",
            "Macassar\n",
            "Sir Lowry's Pass Village\n",
            "Somerset West\n",
            "Parel Vallei\n",
            "Strand\n",
            "Lwandle\n",
            "Nomzamo\n",
            "Belhar\n",
            "Bellville\n",
            "Boston\n",
            "Eversdal\n",
            "Kenridge\n",
            "Stellenberg\n",
            "Blue Downs\n",
            "Bonteheuwel\n",
            "Bothasig\n",
            "Brackenfell\n",
            "Delft\n",
            "Blikkiesdorp\n",
            "Durbanville\n",
            "Edgemead\n",
            "Elsie's River\n",
            "Epping\n",
            "Fisantekraal\n",
            "Goodwood\n",
            "Kensington\n",
            "Kraaifontein\n",
            "Kuils River\n",
            "Langa\n",
            "Joe Slovo\n",
            "Maitland\n",
            "Mfuleni\n",
            "Monte Vista\n",
            "Ndabeni\n",
            "Norwood\n",
            "Panorama\n",
            "Parow\n",
            "Philadelphia\n",
            "Pinelands\n",
            "Richwood\n",
            "Thornton\n",
            "Tygerberg\n",
            "Wallacedene\n",
            "Southern Suburbs\n",
            "Bergvliet\n",
            "Bishopscourt\n",
            "Claremont\n",
            "Constantia\n",
            "Diep River\n",
            "Grassy Park\n",
            "Harfield Village\n",
            "Heathfield\n",
            "Kenilworth\n",
            "Lotus River\n",
            "Meadowridge\n",
            "Mowbray\n",
            "Muizenberg\n",
            "Newlands\n",
            "Observatory\n",
            "Plumstead\n",
            "Retreat\n",
            "Rondebosch\n",
            "Rosebank\n",
            "Salt River\n",
            "Steenberg\n",
            "Tokai\n",
            "Wetton\n",
            "Wynberg\n",
            "South Peninsula\n",
            "Capri Village\n",
            "Clovelly\n",
            "Da Gama Park\n",
            "Fish Hoek\n",
            "Glencairn\n",
            "Hangberg\n",
            "Hout Bay\n",
            "Imizamo Yethu\n",
            "Kalk Bay\n",
            "Kommetjie\n",
            "Masiphumelele\n",
            "Noordhoek\n",
            "Ocean View\n",
            "Scarborough\n",
            "Simon's Town\n",
            "St James\n",
            "https://en.wikipedia.org/w/index.php?title=List_of_Cape_Town_suburbs&oldid=977711665\n",
            "Categories\n",
            "Suburbs of Cape Town\n",
            "Lists of suburbs in South Africa\n",
            "Cape Town-related lists\n",
            "EngvarB from May 2013\n",
            "Use dmy dates from May 2013\n",
            "Talk\n",
            "Contributions\n",
            "Create account\n",
            "Log in\n",
            "Article\n",
            "Talk\n",
            "Read\n",
            "Edit\n",
            "View history\n",
            "\n",
            "Main page\n",
            "Contents\n",
            "Current events\n",
            "Random article\n",
            "About Wikipedia\n",
            "Contact us\n",
            "Donate\n",
            "Help\n",
            "Learn to edit\n",
            "Community portal\n",
            "Recent changes\n",
            "Upload file\n",
            "What links here\n",
            "Related changes\n",
            "Upload file\n",
            "Special pages\n",
            "Permanent link\n",
            "Page information\n",
            "Cite this page\n",
            "Wikidata item\n",
            "Download as PDF\n",
            "Printable version\n",
            "Afrikaans\n",
            "Deutsch\n",
            "Italiano\n",
            "Edit links\n",
            "Creative Commons Attribution-ShareAlike License\n",
            "\n",
            "Terms of Use\n",
            "Privacy Policy\n",
            "Wikimedia Foundation, Inc.\n",
            "Privacy policy\n",
            "About Wikipedia\n",
            "Disclaimers\n",
            "Contact Wikipedia\n",
            "Mobile view\n",
            "Developers\n",
            "Statistics\n",
            "Cookie statement\n",
            "\n",
            "\n"
          ],
          "name": "stdout"
        }
      ]
    },
    {
      "cell_type": "markdown",
      "metadata": {
        "id": "xnr4MsxPn4zU",
        "colab_type": "text"
      },
      "source": [
        "## Get Bedrooms, Bathrooms and Parkings"
      ]
    },
    {
      "cell_type": "code",
      "metadata": {
        "id": "HpAvAy55oTPr",
        "colab_type": "code",
        "colab": {}
      },
      "source": [
        "all_floor_areas = page.find_all('span', class_= \"p24_size\")\n",
        "all_bedrooms = page.find_all('span', class_= \"p24_featureDetails\", title=\"Bedrooms\")\n",
        "all_bathrooms = page.find_all('span', class_= \"p24_featureDetails\", title=\"Bathrooms\")\n",
        "all_parking = page.find_all('span', class_= \"p24_featureDetails\", title=\"Parking Spaces\")\n",
        "\n",
        "for price in all_parking:\n",
        "  print(price.text.strip())"
      ],
      "execution_count": null,
      "outputs": []
    },
    {
      "cell_type": "markdown",
      "metadata": {
        "id": "k5KUS2uOrquo",
        "colab_type": "text"
      },
      "source": [
        "## Get Description (Suburb)"
      ]
    },
    {
      "cell_type": "code",
      "metadata": {
        "id": "-XxHa5EhrpVJ",
        "colab_type": "code",
        "colab": {
          "base_uri": "https://localhost:8080/",
          "height": 386
        },
        "outputId": "2fa9dd09-0bad-403d-8768-8eebe7cb1c44"
      },
      "source": [
        "all_locations = page.find_all('span', class_= \"p24_location\")\n",
        "for price in all_locations:\n",
        "  print(price.contents)"
      ],
      "execution_count": null,
      "outputs": [
        {
          "output_type": "stream",
          "text": [
            "['Muizenberg']\n",
            "['Kenilworth Upper']\n",
            "['Ottery']\n",
            "['Sea Point']\n",
            "['Tokai']\n",
            "['Camps Bay']\n",
            "['Thornton']\n",
            "['Kenilworth Upper']\n",
            "['Gardens']\n",
            "['Sea Point']\n",
            "['Constantia']\n",
            "['Parkwood']\n",
            "['Kenilworth Upper']\n",
            "['Pinelands']\n",
            "['Green Point']\n",
            "['Bantry Bay']\n",
            "['Sea Point']\n",
            "['Epping Industrial']\n",
            "['Kenilworth']\n",
            "['Sea Point']\n",
            "['Camps Bay']\n",
            "['Airport Industria']\n"
          ],
          "name": "stdout"
        }
      ]
    },
    {
      "cell_type": "markdown",
      "metadata": {
        "id": "qa6b1L2Ysg9t",
        "colab_type": "text"
      },
      "source": [
        "# Bringing it All Together"
      ]
    },
    {
      "cell_type": "markdown",
      "metadata": {
        "id": "j1XrfNrhsg2E",
        "colab_type": "text"
      },
      "source": [
        "Iterating over the first 50 pages that is set to most recent. To ensure data is based on recent trends. The values are then placed in the created csv file."
      ]
    },
    {
      "cell_type": "code",
      "metadata": {
        "id": "pmWfexG5s9ae",
        "colab_type": "code",
        "colab": {}
      },
      "source": [
        "\n",
        "\n",
        "src = requests.get(f\"https://en.wikipedia.org/wiki/List_of_Cape_Town_suburbs\").text\n",
        "page = bs(src, 'lxml')\n",
        "    \n",
        "all_descriptions = page.find_all('span', class_= \"p24_title\")\n",
        "\n",
        "for i, loc in enumerate(all_descriptions):\n",
        "  desc = str(loc).split()\n",
        "  if type(desc) == str:\n",
        "    csv_writer.writerow([all_descriptions[i].text.strip()])\n",
        "      \n",
        "    \n",
        "df.close()\n"
      ],
      "execution_count": 8,
      "outputs": []
    },
    {
      "cell_type": "code",
      "metadata": {
        "id": "hf3y24WM6JXo",
        "colab_type": "code",
        "colab": {}
      },
      "source": [
        "    \n",
        "all_prices\n",
        "    "
      ],
      "execution_count": null,
      "outputs": []
    },
    {
      "cell_type": "code",
      "metadata": {
        "id": "SHZ_gxhOwJyz",
        "colab_type": "code",
        "colab": {}
      },
      "source": [
        ""
      ],
      "execution_count": null,
      "outputs": []
    }
  ]
}
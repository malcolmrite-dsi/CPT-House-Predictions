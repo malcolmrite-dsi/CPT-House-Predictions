{
  "nbformat": 4,
  "nbformat_minor": 0,
  "metadata": {
    "colab": {
      "name": "Web_Scraping_Code.ipynb",
      "provenance": [],
      "toc_visible": true,
      "mount_file_id": "1dC7rACXbLRcswo3ZommC3mwu05bi6k4e",
      "authorship_tag": "ABX9TyNaq7RIsBL8aJfCk8ueBM+K",
      "include_colab_link": true
    },
    "kernelspec": {
      "name": "python3",
      "display_name": "Python 3"
    }
  },
  "cells": [
    {
      "cell_type": "markdown",
      "metadata": {
        "id": "view-in-github",
        "colab_type": "text"
      },
      "source": [
        "<a href=\"https://colab.research.google.com/github/malcolmrite-dsi/CPT-House-Predictions/blob/master/Web_Scraping_Code.ipynb\" target=\"_parent\"><img src=\"https://colab.research.google.com/assets/colab-badge.svg\" alt=\"Open In Colab\"/></a>"
      ]
    },
    {
      "cell_type": "markdown",
      "metadata": {
        "id": "QmOzKDMJWWqL",
        "colab_type": "text"
      },
      "source": [
        "# Importing Libraries"
      ]
    },
    {
      "cell_type": "markdown",
      "metadata": {
        "id": "rKOUewpGWujH",
        "colab_type": "text"
      },
      "source": [
        "\n",
        "*   BeautifulSoup: Handles the actual web scraping.\n",
        "*   CSV: A python library that creates the csv file from the scraped text\n",
        "*   requests: Library that sends an HTML request to the web server.\n",
        "\n",
        "\n",
        "\n",
        "\n"
      ]
    },
    {
      "cell_type": "code",
      "metadata": {
        "id": "DfLvh-J3WOqQ",
        "colab_type": "code",
        "colab": {}
      },
      "source": [
        "from bs4 import BeautifulSoup as bs\n",
        "import csv\n",
        "import requests"
      ],
      "execution_count": 4,
      "outputs": []
    },
    {
      "cell_type": "markdown",
      "metadata": {
        "id": "I7M90Pwyb2po",
        "colab_type": "text"
      },
      "source": [
        "# Open the CSV File"
      ]
    },
    {
      "cell_type": "markdown",
      "metadata": {
        "id": "wF1PSy8Nele5",
        "colab_type": "text"
      },
      "source": [
        "Opens a new csv file and sets the headers for that file"
      ]
    },
    {
      "cell_type": "code",
      "metadata": {
        "id": "_c_wuZT2Wf_5",
        "colab_type": "code",
        "colab": {
          "base_uri": "https://localhost:8080/",
          "height": 34
        },
        "outputId": "205a35e4-6394-4319-b5a0-05c324491d58"
      },
      "source": [
        "df = open(\"cpthouseprices.csv\",\"w\")\n",
        "csv_writer = csv.writer(df)\n",
        "csv_writer.writerow([\"Bedrooms\", \"Bathrooms\", \"Parking\", \"FloorSize\", \"Suburb\", \"Price\"])"
      ],
      "execution_count": 6,
      "outputs": [
        {
          "output_type": "execute_result",
          "data": {
            "text/plain": [
              "51"
            ]
          },
          "metadata": {
            "tags": []
          },
          "execution_count": 6
        }
      ]
    },
    {
      "cell_type": "markdown",
      "metadata": {
        "id": "v6WzbSA3e2ex",
        "colab_type": "text"
      },
      "source": [
        "# Send HTML Request"
      ]
    },
    {
      "cell_type": "code",
      "metadata": {
        "id": "fihyWHD_fAyy",
        "colab_type": "code",
        "colab": {
          "base_uri": "https://localhost:8080/",
          "height": 34
        },
        "outputId": "2f48e689-929e-4092-8a05-21bf58c1e0ec"
      },
      "source": [
        "src = {}\n",
        "\n",
        "src[1] = requests.get(f\"https://www.property24.com/for-sale/cape-town/western-cape/432/p{1}\").text\n",
        "page = bs(src[1], 'lxml')\n"
      ],
      "execution_count": 20,
      "outputs": [
        {
          "output_type": "stream",
          "text": [
            "<div class=\"p24_price\">{{price}}</div>\n"
          ],
          "name": "stdout"
        }
      ]
    },
    {
      "cell_type": "markdown",
      "metadata": {
        "id": "1PUnaPb3hZMc",
        "colab_type": "text"
      },
      "source": [
        "# Get Price"
      ]
    },
    {
      "cell_type": "code",
      "metadata": {
        "id": "Hipg6pKjhrrN",
        "colab_type": "code",
        "colab": {
          "base_uri": "https://localhost:8080/",
          "height": 874
        },
        "outputId": "34b78943-1630-498a-e60d-e423298f37f8"
      },
      "source": [
        "all_prices = page.find_all('div', class_= \"p24_price\")\n",
        "for price in all_prices:\n",
        "  print(price.text)"
      ],
      "execution_count": 21,
      "outputs": [
        {
          "output_type": "stream",
          "text": [
            "{{price}}\n",
            "\n",
            "\n",
            "\n",
            "\n",
            "\n",
            "\n",
            "\n",
            "\n",
            "\r\n",
            "                    R 975 000\r\n",
            "                \n",
            "\r\n",
            "                    R 4 950 000\r\n",
            "                \n",
            "\r\n",
            "                    R 1 385 000\r\n",
            "                \n",
            "\r\n",
            "                    R 9 900 000\r\n",
            "                \n",
            "\r\n",
            "                    R 9 900 000\r\n",
            "                \n",
            "\r\n",
            "                    R 3 800 000\r\n",
            "                \n",
            "\r\n",
            "                    R 6 480 000\r\n",
            "                \n",
            "\r\n",
            "                    R 28 000 000\r\n",
            "                \n",
            "\r\n",
            "                    R 55 000 000\r\n",
            "                \n",
            "\r\n",
            "                    POA\r\n",
            "                \n",
            "\r\n",
            "                    R 2 500 000\r\n",
            "                \n",
            "\r\n",
            "                    R 1 400 000\r\n",
            "                \n",
            "\n",
            "\n",
            "\n",
            "From R 3 700 000 To R 10 850 000\r\n",
            "                                    \n",
            "\n"
          ],
          "name": "stdout"
        }
      ]
    }
  ]
}
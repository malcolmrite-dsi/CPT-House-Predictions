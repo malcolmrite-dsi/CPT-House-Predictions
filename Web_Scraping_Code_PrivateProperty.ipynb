{
  "nbformat": 4,
  "nbformat_minor": 0,
  "metadata": {
    "colab": {
      "name": "Web_Scraping_Code_PrivateProperty.ipynb",
      "provenance": [],
      "toc_visible": true,
      "mount_file_id": "1M6eqUFdyGkgAUiZ4szM0DWrDxP9C5fws",
      "authorship_tag": "ABX9TyMjquF4KGEjP2hFYBXSE7d+",
      "include_colab_link": true
    },
    "kernelspec": {
      "name": "python3",
      "display_name": "Python 3"
    }
  },
  "cells": [
    {
      "cell_type": "markdown",
      "metadata": {
        "id": "view-in-github",
        "colab_type": "text"
      },
      "source": [
        "<a href=\"https://colab.research.google.com/github/malcolmrite-dsi/CPT-House-Predictions/blob/master/Web_Scraping_Code_PrivateProperty.ipynb\" target=\"_parent\"><img src=\"https://colab.research.google.com/assets/colab-badge.svg\" alt=\"Open In Colab\"/></a>"
      ]
    },
    {
      "cell_type": "markdown",
      "metadata": {
        "id": "QmOzKDMJWWqL",
        "colab_type": "text"
      },
      "source": [
        "# Importing Libraries"
      ]
    },
    {
      "cell_type": "markdown",
      "metadata": {
        "id": "rKOUewpGWujH",
        "colab_type": "text"
      },
      "source": [
        "\n",
        "*   BeautifulSoup: Handles the actual web scraping.\n",
        "*   CSV: A python library that creates the csv file from the scraped text\n",
        "*   requests: Library that sends an HTML request to the web server.\n",
        "\n",
        "\n",
        "\n",
        "\n"
      ]
    },
    {
      "cell_type": "code",
      "metadata": {
        "id": "DfLvh-J3WOqQ",
        "colab_type": "code",
        "colab": {}
      },
      "source": [
        "from bs4 import BeautifulSoup as bs\n",
        "import csv\n",
        "import requests"
      ],
      "execution_count": null,
      "outputs": []
    },
    {
      "cell_type": "markdown",
      "metadata": {
        "id": "I7M90Pwyb2po",
        "colab_type": "text"
      },
      "source": [
        "# Open the CSV File"
      ]
    },
    {
      "cell_type": "markdown",
      "metadata": {
        "id": "wF1PSy8Nele5",
        "colab_type": "text"
      },
      "source": [
        "Opens a new csv file and sets the headers for that file"
      ]
    },
    {
      "cell_type": "code",
      "metadata": {
        "id": "_c_wuZT2Wf_5",
        "colab_type": "code",
        "colab": {
          "base_uri": "https://localhost:8080/",
          "height": 34
        },
        "outputId": "834f0d17-868f-4989-cad8-7ec5e181ffc1"
      },
      "source": [
        "df = open(\"drive/My Drive/cpt-houseprices_priv_prop.csv\",\"w\")\n",
        "csv_writer = csv.writer(df)\n",
        "csv_writer.writerow([\"Description\", \"Suburb\", \"Price\"])"
      ],
      "execution_count": null,
      "outputs": [
        {
          "output_type": "execute_result",
          "data": {
            "text/plain": [
              "26"
            ]
          },
          "metadata": {
            "tags": []
          },
          "execution_count": 24
        }
      ]
    },
    {
      "cell_type": "markdown",
      "metadata": {
        "id": "v6WzbSA3e2ex",
        "colab_type": "text"
      },
      "source": [
        "# Send HTML Request"
      ]
    },
    {
      "cell_type": "code",
      "metadata": {
        "id": "fihyWHD_fAyy",
        "colab_type": "code",
        "colab": {}
      },
      "source": [
        "src = {}\n",
        "\n",
        "src[1] = requests.get(f\"https://www.privateproperty.co.za/for-sale/western-cape/cape-town/atlantic-seaboard/1683?pt=5,2,10&sorttype=3&page=1\").text\n",
        "page = bs(src[1], 'lxml')\n"
      ],
      "execution_count": null,
      "outputs": []
    },
    {
      "cell_type": "markdown",
      "metadata": {
        "id": "cgxBAV21RXZb",
        "colab_type": "text"
      },
      "source": [
        "# Testing Each Scrape"
      ]
    },
    {
      "cell_type": "markdown",
      "metadata": {
        "id": "1PUnaPb3hZMc",
        "colab_type": "text"
      },
      "source": [
        "## Get Price"
      ]
    },
    {
      "cell_type": "code",
      "metadata": {
        "id": "Hipg6pKjhrrN",
        "colab_type": "code",
        "colab": {
          "base_uri": "https://localhost:8080/",
          "height": 420
        },
        "outputId": "2588f1e4-8a1a-40c0-d982-67a36a072f51"
      },
      "source": [
        "all_prices = page.find_all('div', class_= \"priceDescription\")\n",
        "for price in all_prices:\n",
        "  print(price.text.strip())"
      ],
      "execution_count": null,
      "outputs": [
        {
          "output_type": "stream",
          "text": [
            "R 4 950 000\n",
            "R 13 950 000\n",
            "R 11 900 000\n",
            "R 8 500 000\n",
            "R 3 500 000\n",
            "R 15 999 000\n",
            "R 12 995 000\n",
            "R 1 525 000\n",
            "R 5 495 000\n",
            "R 2 350 000\n",
            "R 4 750 000\n",
            "R 2 800 000\n",
            "R 9 950 000\n",
            "R 23 000 000\n",
            "R 19 995 000\n",
            "R 5 500 000\n",
            "R 30 000 000\n",
            "R 2 250 000\n",
            "R 7 950 000\n",
            "R 1 995 000\n",
            "R 18 995 000\n",
            "R 5 400 000\n",
            "R 7 995 000\n",
            "R 1 000 000\n"
          ],
          "name": "stdout"
        }
      ]
    },
    {
      "cell_type": "markdown",
      "metadata": {
        "id": "xnr4MsxPn4zU",
        "colab_type": "text"
      },
      "source": [
        "## Get Bedrooms, Bathrooms and Parkings"
      ]
    },
    {
      "cell_type": "code",
      "metadata": {
        "id": "HpAvAy55oTPr",
        "colab_type": "code",
        "colab": {}
      },
      "source": [
        "'''all_floor_areas = page.find_all('span', class_= \"p24_size\")\n",
        "all_bedrooms = page.find_all('span', class_= \"p24_featureDetails\", title=\"Bedrooms\")\n",
        "all_bathrooms = page.find_all('span', class_= \"p24_featureDetails\", title=\"Bathrooms\")\n",
        "all_parking = page.find_all('span', class_= \"p24_featureDetails\", title=\"Parking Spaces\")\n",
        "\n",
        "for price in all_parking:\n",
        "  print(price.text.strip())'''"
      ],
      "execution_count": null,
      "outputs": []
    },
    {
      "cell_type": "markdown",
      "metadata": {
        "id": "k5KUS2uOrquo",
        "colab_type": "text"
      },
      "source": [
        "## Get Description (Suburb)"
      ]
    },
    {
      "cell_type": "code",
      "metadata": {
        "id": "-XxHa5EhrpVJ",
        "colab_type": "code",
        "colab": {
          "base_uri": "https://localhost:8080/",
          "height": 420
        },
        "outputId": "a3b6d7e3-14de-409c-eba0-ceeabf33301d"
      },
      "source": [
        "all_locations = page.find_all('div', class_= \"suburb\")\n",
        "for price in all_locations:\n",
        "  print(price.text.strip())"
      ],
      "execution_count": null,
      "outputs": [
        {
          "output_type": "stream",
          "text": [
            "Sea Point\n",
            "Camps Bay\n",
            "Green Point\n",
            "Waterfront\n",
            "Bantry Bay\n",
            "Sea Point\n",
            "Waterfront\n",
            "Sea Point\n",
            "Fresnaye\n",
            "Sea Point\n",
            "Green Point\n",
            "Foreshore\n",
            "Bakoven\n",
            "Sea Point\n",
            "Waterfront\n",
            "Fresnaye\n",
            "Sea Point\n",
            "Green Point\n",
            "Bantry Bay\n",
            "Sea Point\n",
            "Bantry Bay\n",
            "Foreshore\n",
            "Green Point\n",
            "Mouille Point\n"
          ],
          "name": "stdout"
        }
      ]
    },
    {
      "cell_type": "markdown",
      "metadata": {
        "id": "qa6b1L2Ysg9t",
        "colab_type": "text"
      },
      "source": [
        "# Bringing it All Together"
      ]
    },
    {
      "cell_type": "markdown",
      "metadata": {
        "id": "j1XrfNrhsg2E",
        "colab_type": "text"
      },
      "source": [
        "Iterating over the first 50 pages that is set to most recent. To ensure data is based on recent trends. The values are then placed in the created csv file."
      ]
    },
    {
      "cell_type": "code",
      "metadata": {
        "id": "pmWfexG5s9ae",
        "colab_type": "code",
        "colab": {
          "base_uri": "https://localhost:8080/",
          "height": 1000
        },
        "outputId": "10d7a1d6-a8a6-48d0-f6af-27a540fa8d93"
      },
      "source": [
        "areas = [\"atlantic-seaboard/1683\", \"bellville/737\",\"brackenfell/883\", \"cape-flats/56\", \"cape-town-city-bowl/59\", \"durbanville/739\",\"goodwood/740\",\"hout-bay/1684\",\"kraaifontein/885\",\"kuilsriver/738\",\"milnerton/1399\" ,\"parow/2497\",\"peninsula-false-bay/57\", \"southern-suburbs/58\", \"tableview-and-blouberg/60\" ]\n",
        "pages = [51, 21, 16, 21, 51, 31, 16, 16, 9, 21, 31, 21, 31, 51, 56]\n",
        "for aCount, area in enumerate(areas):\n",
        "  print(\"Area\",area)\n",
        "  for i in range(1,pages[aCount]):\n",
        "      print(\"Page\",i)\n",
        "      src = requests.get(f\"https://www.privateproperty.co.za/for-sale/western-cape/cape-town/{area}?pt=5,2,10&sorttype=3&page={i}\").text\n",
        "      page = bs(src, 'lxml')\n",
        "      \n",
        "      all_descriptions = page.find_all('div', class_= \"title\")\n",
        "\n",
        "      all_locations = page.find_all('div', class_= \"suburb\")\n",
        "      \n",
        "      all_prices = (page.find_all('div', class_= \"priceDescription\"))   \n",
        "\n",
        "\n",
        "      for i, loc in enumerate(range(15)):\n",
        "        csv_writer.writerow([all_descriptions[i].text.strip(), all_locations[i].text.strip(), all_prices[i].text.strip()])\n",
        "        \n",
        "      \n",
        "df.close()"
      ],
      "execution_count": null,
      "outputs": [
        {
          "output_type": "stream",
          "text": [
            "Area atlantic-seaboard/1683\n",
            "Page 1\n",
            "Page 2\n",
            "Page 3\n",
            "Page 4\n",
            "Page 5\n",
            "Page 6\n",
            "Page 7\n",
            "Page 8\n",
            "Page 9\n",
            "Page 10\n",
            "Page 11\n",
            "Page 12\n",
            "Page 13\n",
            "Page 14\n",
            "Page 15\n",
            "Page 16\n",
            "Page 17\n",
            "Page 18\n",
            "Page 19\n",
            "Page 20\n",
            "Page 21\n",
            "Page 22\n",
            "Page 23\n",
            "Page 24\n",
            "Page 25\n",
            "Page 26\n",
            "Page 27\n",
            "Page 28\n",
            "Page 29\n",
            "Page 30\n",
            "Page 31\n",
            "Page 32\n",
            "Page 33\n",
            "Page 34\n",
            "Page 35\n",
            "Page 36\n",
            "Page 37\n",
            "Page 38\n",
            "Page 39\n",
            "Page 40\n",
            "Page 41\n",
            "Page 42\n",
            "Page 43\n",
            "Page 44\n",
            "Page 45\n",
            "Page 46\n",
            "Page 47\n",
            "Page 48\n",
            "Page 49\n",
            "Page 50\n",
            "Area bellville/737\n",
            "Page 1\n",
            "Page 2\n",
            "Page 3\n",
            "Page 4\n",
            "Page 5\n",
            "Page 6\n",
            "Page 7\n",
            "Page 8\n",
            "Page 9\n",
            "Page 10\n",
            "Page 11\n",
            "Page 12\n",
            "Page 13\n",
            "Page 14\n",
            "Page 15\n",
            "Page 16\n",
            "Page 17\n",
            "Page 18\n",
            "Page 19\n",
            "Page 20\n",
            "Area brackenfell/883\n",
            "Page 1\n",
            "Page 2\n",
            "Page 3\n",
            "Page 4\n",
            "Page 5\n",
            "Page 6\n",
            "Page 7\n",
            "Page 8\n",
            "Page 9\n",
            "Page 10\n",
            "Page 11\n",
            "Page 12\n",
            "Page 13\n",
            "Page 14\n",
            "Page 15\n",
            "Area cape-flats/56\n",
            "Page 1\n",
            "Page 2\n",
            "Page 3\n",
            "Page 4\n",
            "Page 5\n",
            "Page 6\n",
            "Page 7\n",
            "Page 8\n",
            "Page 9\n",
            "Page 10\n",
            "Page 11\n",
            "Page 12\n",
            "Page 13\n",
            "Page 14\n",
            "Page 15\n",
            "Page 16\n",
            "Page 17\n",
            "Page 18\n",
            "Page 19\n",
            "Page 20\n",
            "Area cape-town-city-bowl/59\n",
            "Page 1\n",
            "Page 2\n",
            "Page 3\n",
            "Page 4\n",
            "Page 5\n",
            "Page 6\n",
            "Page 7\n",
            "Page 8\n",
            "Page 9\n",
            "Page 10\n",
            "Page 11\n",
            "Page 12\n",
            "Page 13\n",
            "Page 14\n",
            "Page 15\n",
            "Page 16\n",
            "Page 17\n",
            "Page 18\n",
            "Page 19\n",
            "Page 20\n",
            "Page 21\n",
            "Page 22\n",
            "Page 23\n",
            "Page 24\n",
            "Page 25\n",
            "Page 26\n",
            "Page 27\n",
            "Page 28\n",
            "Page 29\n",
            "Page 30\n",
            "Page 31\n",
            "Page 32\n",
            "Page 33\n",
            "Page 34\n",
            "Page 35\n",
            "Page 36\n",
            "Page 37\n",
            "Page 38\n",
            "Page 39\n",
            "Page 40\n",
            "Page 41\n",
            "Page 42\n",
            "Page 43\n",
            "Page 44\n",
            "Page 45\n",
            "Page 46\n",
            "Page 47\n",
            "Page 48\n",
            "Page 49\n",
            "Page 50\n",
            "Area durbanville/739\n",
            "Page 1\n",
            "Page 2\n",
            "Page 3\n",
            "Page 4\n",
            "Page 5\n",
            "Page 6\n",
            "Page 7\n",
            "Page 8\n",
            "Page 9\n",
            "Page 10\n",
            "Page 11\n",
            "Page 12\n",
            "Page 13\n",
            "Page 14\n",
            "Page 15\n",
            "Page 16\n",
            "Page 17\n",
            "Page 18\n",
            "Page 19\n",
            "Page 20\n",
            "Page 21\n",
            "Page 22\n",
            "Page 23\n",
            "Page 24\n",
            "Page 25\n",
            "Page 26\n",
            "Page 27\n",
            "Page 28\n",
            "Page 29\n",
            "Page 30\n",
            "Area goodwood/740\n",
            "Page 1\n",
            "Page 2\n",
            "Page 3\n",
            "Page 4\n",
            "Page 5\n",
            "Page 6\n",
            "Page 7\n",
            "Page 8\n",
            "Page 9\n",
            "Page 10\n",
            "Page 11\n",
            "Page 12\n",
            "Page 13\n",
            "Page 14\n",
            "Page 15\n",
            "Area hout-bay/1684\n",
            "Page 1\n",
            "Page 2\n",
            "Page 3\n",
            "Page 4\n",
            "Page 5\n",
            "Page 6\n",
            "Page 7\n",
            "Page 8\n",
            "Page 9\n",
            "Page 10\n",
            "Page 11\n",
            "Page 12\n",
            "Page 13\n",
            "Page 14\n",
            "Page 15\n",
            "Area kraaifontein/885\n",
            "Page 1\n",
            "Page 2\n",
            "Page 3\n",
            "Page 4\n",
            "Page 5\n",
            "Page 6\n",
            "Page 7\n",
            "Page 8\n",
            "Area kuilsriver/738\n",
            "Page 1\n",
            "Page 2\n",
            "Page 3\n",
            "Page 4\n",
            "Page 5\n",
            "Page 6\n",
            "Page 7\n",
            "Page 8\n",
            "Page 9\n",
            "Page 10\n",
            "Page 11\n",
            "Page 12\n",
            "Page 13\n",
            "Page 14\n",
            "Page 15\n",
            "Page 16\n",
            "Page 17\n",
            "Page 18\n",
            "Page 19\n",
            "Page 20\n",
            "Area milnerton/1399\n",
            "Page 1\n",
            "Page 2\n",
            "Page 3\n",
            "Page 4\n",
            "Page 5\n",
            "Page 6\n",
            "Page 7\n",
            "Page 8\n",
            "Page 9\n",
            "Page 10\n",
            "Page 11\n",
            "Page 12\n",
            "Page 13\n",
            "Page 14\n",
            "Page 15\n",
            "Page 16\n",
            "Page 17\n",
            "Page 18\n",
            "Page 19\n",
            "Page 20\n",
            "Page 21\n",
            "Page 22\n",
            "Page 23\n",
            "Page 24\n",
            "Page 25\n",
            "Page 26\n",
            "Page 27\n",
            "Page 28\n",
            "Page 29\n",
            "Page 30\n",
            "Area parow/2497\n",
            "Page 1\n",
            "Page 2\n",
            "Page 3\n",
            "Page 4\n",
            "Page 5\n",
            "Page 6\n",
            "Page 7\n",
            "Page 8\n",
            "Page 9\n",
            "Page 10\n",
            "Page 11\n",
            "Page 12\n",
            "Page 13\n",
            "Page 14\n",
            "Page 15\n",
            "Page 16\n",
            "Page 17\n",
            "Page 18\n",
            "Page 19\n",
            "Page 20\n",
            "Area peninsula-false-bay/57\n",
            "Page 1\n",
            "Page 2\n",
            "Page 3\n",
            "Page 4\n",
            "Page 5\n",
            "Page 6\n",
            "Page 7\n",
            "Page 8\n",
            "Page 9\n",
            "Page 10\n",
            "Page 11\n",
            "Page 12\n",
            "Page 13\n",
            "Page 14\n",
            "Page 15\n",
            "Page 16\n",
            "Page 17\n",
            "Page 18\n",
            "Page 19\n",
            "Page 20\n",
            "Page 21\n",
            "Page 22\n",
            "Page 23\n",
            "Page 24\n",
            "Page 25\n",
            "Page 26\n",
            "Page 27\n",
            "Page 28\n",
            "Page 29\n",
            "Page 30\n",
            "Area southern-suburbs/58\n",
            "Page 1\n",
            "Page 2\n",
            "Page 3\n",
            "Page 4\n",
            "Page 5\n",
            "Page 6\n",
            "Page 7\n",
            "Page 8\n",
            "Page 9\n",
            "Page 10\n",
            "Page 11\n",
            "Page 12\n",
            "Page 13\n",
            "Page 14\n",
            "Page 15\n",
            "Page 16\n",
            "Page 17\n",
            "Page 18\n",
            "Page 19\n",
            "Page 20\n",
            "Page 21\n",
            "Page 22\n",
            "Page 23\n",
            "Page 24\n",
            "Page 25\n",
            "Page 26\n",
            "Page 27\n",
            "Page 28\n",
            "Page 29\n",
            "Page 30\n",
            "Page 31\n",
            "Page 32\n",
            "Page 33\n",
            "Page 34\n",
            "Page 35\n",
            "Page 36\n",
            "Page 37\n",
            "Page 38\n",
            "Page 39\n",
            "Page 40\n",
            "Page 41\n",
            "Page 42\n",
            "Page 43\n",
            "Page 44\n",
            "Page 45\n",
            "Page 46\n",
            "Page 47\n",
            "Page 48\n",
            "Page 49\n",
            "Page 50\n",
            "Area tableview-and-blouberg/60\n",
            "Page 1\n",
            "Page 2\n",
            "Page 3\n",
            "Page 4\n",
            "Page 5\n",
            "Page 6\n",
            "Page 7\n",
            "Page 8\n",
            "Page 9\n",
            "Page 10\n",
            "Page 11\n",
            "Page 12\n",
            "Page 13\n",
            "Page 14\n",
            "Page 15\n",
            "Page 16\n",
            "Page 17\n",
            "Page 18\n",
            "Page 19\n",
            "Page 20\n",
            "Page 21\n",
            "Page 22\n",
            "Page 23\n",
            "Page 24\n",
            "Page 25\n",
            "Page 26\n",
            "Page 27\n",
            "Page 28\n",
            "Page 29\n",
            "Page 30\n",
            "Page 31\n",
            "Page 32\n",
            "Page 33\n",
            "Page 34\n",
            "Page 35\n",
            "Page 36\n",
            "Page 37\n",
            "Page 38\n",
            "Page 39\n",
            "Page 40\n",
            "Page 41\n",
            "Page 42\n",
            "Page 43\n",
            "Page 44\n",
            "Page 45\n",
            "Page 46\n",
            "Page 47\n",
            "Page 48\n",
            "Page 49\n",
            "Page 50\n",
            "Page 51\n",
            "Page 52\n",
            "Page 53\n",
            "Page 54\n",
            "Page 55\n"
          ],
          "name": "stdout"
        }
      ]
    },
    {
      "cell_type": "code",
      "metadata": {
        "id": "hf3y24WM6JXo",
        "colab_type": "code",
        "colab": {}
      },
      "source": [
        "all_prices    "
      ],
      "execution_count": null,
      "outputs": []
    },
    {
      "cell_type": "code",
      "metadata": {
        "id": "SHZ_gxhOwJyz",
        "colab_type": "code",
        "colab": {}
      },
      "source": [
        ""
      ],
      "execution_count": null,
      "outputs": []
    }
  ]
}
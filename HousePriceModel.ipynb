{
  "nbformat": 4,
  "nbformat_minor": 0,
  "metadata": {
    "colab": {
      "name": "HousePriceModel.ipynb",
      "provenance": [],
      "toc_visible": true,
      "mount_file_id": "1nl_fL9AksatMOr5ac8WotegJQWmURox0",
      "authorship_tag": "ABX9TyPteB/Xjj9XkDa2igX1Dqhh",
      "include_colab_link": true
    },
    "kernelspec": {
      "name": "python3",
      "display_name": "Python 3"
    }
  },
  "cells": [
    {
      "cell_type": "markdown",
      "metadata": {
        "id": "view-in-github",
        "colab_type": "text"
      },
      "source": [
        "<a href=\"https://colab.research.google.com/github/malcolmrite-dsi/CPT-House-Predictions/blob/master/HousePriceModel.ipynb\" target=\"_parent\"><img src=\"https://colab.research.google.com/assets/colab-badge.svg\" alt=\"Open In Colab\"/></a>"
      ]
    },
    {
      "cell_type": "markdown",
      "metadata": {
        "id": "Kj4WT74YbBCu",
        "colab_type": "text"
      },
      "source": [
        "# Importing the Libraries"
      ]
    },
    {
      "cell_type": "code",
      "metadata": {
        "id": "0xHPvCMzaiBx",
        "colab_type": "code",
        "colab": {}
      },
      "source": [
        "import pandas as pd\n",
        "import numpy as np"
      ],
      "execution_count": 1,
      "outputs": []
    },
    {
      "cell_type": "code",
      "metadata": {
        "id": "dEm3aYIMd9kj",
        "colab_type": "code",
        "colab": {}
      },
      "source": [
        "\n",
        "from sklearn.linear_model import LinearRegression\n",
        "from sklearn.ensemble import RandomForestRegressor\n",
        "\n",
        "from sklearn.metrics import mean_absolute_error\n",
        "\n",
        "from scipy import stats\n",
        "import statsmodels.api as sm \n",
        "\n",
        "# example of evaluating chained multioutput regression with an SVM model\n",
        "from numpy import mean\n",
        "from numpy import std\n",
        "from numpy import absolute\n",
        "from sklearn.model_selection import cross_val_score\n",
        "from sklearn.model_selection import RepeatedKFold"
      ],
      "execution_count": 19,
      "outputs": []
    },
    {
      "cell_type": "markdown",
      "metadata": {
        "id": "JKhWNHXqbUel",
        "colab_type": "text"
      },
      "source": [
        "# Import Split Datasets"
      ]
    },
    {
      "cell_type": "code",
      "metadata": {
        "id": "EkJRwVOkbY7p",
        "colab_type": "code",
        "colab": {}
      },
      "source": [
        "X_train_80 = np.genfromtxt('drive/My Drive/v1_X_train_80.csv',delimiter=',')\n",
        "X_test_20 = np.genfromtxt(\"drive/My Drive/v1_X_test_20.csv\",delimiter=',')\n",
        "Y_train_80 = np.genfromtxt(\"drive/My Drive/v1_Y_train_80.csv\",delimiter=',')\n",
        "Y_test_20 = np.genfromtxt(\"drive/My Drive/v1_Y_test_20.csv\",delimiter=',')\n"
      ],
      "execution_count": 3,
      "outputs": []
    },
    {
      "cell_type": "code",
      "metadata": {
        "id": "_c0zdj-zdfUP",
        "colab_type": "code",
        "colab": {
          "base_uri": "https://localhost:8080/",
          "height": 134
        },
        "outputId": "dadb4603-5c6f-4387-ba61-ce209417669d"
      },
      "source": [
        "X_train_80"
      ],
      "execution_count": 4,
      "outputs": [
        {
          "output_type": "execute_result",
          "data": {
            "text/plain": [
              "array([[ 0.,  0.,  0., ...,  3., 35.,  2.],\n",
              "       [ 0.,  0.,  0., ...,  4., 76.,  2.],\n",
              "       [ 0.,  0.,  0., ...,  3., 81.,  3.],\n",
              "       ...,\n",
              "       [ 0.,  0.,  0., ...,  2., 62.,  2.],\n",
              "       [ 0.,  0.,  0., ...,  3., 25.,  2.],\n",
              "       [ 0.,  0.,  0., ...,  3., 65.,  2.]])"
            ]
          },
          "metadata": {
            "tags": []
          },
          "execution_count": 4
        }
      ]
    },
    {
      "cell_type": "markdown",
      "metadata": {
        "id": "pe0pU2jefNzy",
        "colab_type": "text"
      },
      "source": [
        "# Feature Scaling"
      ]
    },
    {
      "cell_type": "code",
      "metadata": {
        "id": "WlmTtVGte63s",
        "colab_type": "code",
        "colab": {}
      },
      "source": [
        "from sklearn.preprocessing import StandardScaler\n",
        "sc = StandardScaler()\n",
        "X_train_80 = sc.fit_transform(X_train_80)\n"
      ],
      "execution_count": 5,
      "outputs": []
    },
    {
      "cell_type": "code",
      "metadata": {
        "id": "TTmBDZR2i5Sh",
        "colab_type": "code",
        "colab": {
          "base_uri": "https://localhost:8080/",
          "height": 235
        },
        "outputId": "505a8440-d62a-41d6-bdd9-dce8f7e93045"
      },
      "source": [
        "X_train_80"
      ],
      "execution_count": 6,
      "outputs": [
        {
          "output_type": "execute_result",
          "data": {
            "text/plain": [
              "array([[-0.01278693,  0.        , -0.03133426, ...,  0.06078483,\n",
              "        -0.93117454, -0.26189981],\n",
              "       [-0.01278693,  0.        , -0.03133426, ...,  0.5786411 ,\n",
              "         0.81433925, -0.26189981],\n",
              "       [-0.01278693,  0.        , -0.03133426, ...,  0.06078483,\n",
              "         1.02720679,  2.18023606],\n",
              "       ...,\n",
              "       [-0.01278693,  0.        , -0.03133426, ..., -0.45707144,\n",
              "         0.21831015, -0.26189981],\n",
              "       [-0.01278693,  0.        , -0.03133426, ...,  0.06078483,\n",
              "        -1.35690961, -0.26189981],\n",
              "       [-0.01278693,  0.        , -0.03133426, ...,  0.06078483,\n",
              "         0.34603067, -0.26189981]])"
            ]
          },
          "metadata": {
            "tags": []
          },
          "execution_count": 6
        }
      ]
    },
    {
      "cell_type": "code",
      "metadata": {
        "id": "kIsXuvDNffXx",
        "colab_type": "code",
        "colab": {}
      },
      "source": [
        "X_test_20 = sc.fit_transform(X_test_20)"
      ],
      "execution_count": 7,
      "outputs": []
    },
    {
      "cell_type": "markdown",
      "metadata": {
        "id": "WEbKru8gd6Uu",
        "colab_type": "text"
      },
      "source": [
        "# Modelling"
      ]
    },
    {
      "cell_type": "code",
      "metadata": {
        "id": "AcHu5CzGd5dQ",
        "colab_type": "code",
        "colab": {
          "base_uri": "https://localhost:8080/",
          "height": 134
        },
        "outputId": "f2272d30-67ea-4d62-c967-e16ed280f7bf"
      },
      "source": [
        "reg = RandomForestRegressor(n_estimators = 500, random_state = 1, criterion=\"mse\")\n",
        "    # Fit Model\n",
        "reg.fit(X_train_80, Y_train_80)\n"
      ],
      "execution_count": 13,
      "outputs": [
        {
          "output_type": "execute_result",
          "data": {
            "text/plain": [
              "RandomForestRegressor(bootstrap=True, ccp_alpha=0.0, criterion='mse',\n",
              "                      max_depth=None, max_features='auto', max_leaf_nodes=None,\n",
              "                      max_samples=None, min_impurity_decrease=0.0,\n",
              "                      min_impurity_split=None, min_samples_leaf=1,\n",
              "                      min_samples_split=2, min_weight_fraction_leaf=0.0,\n",
              "                      n_estimators=500, n_jobs=None, oob_score=False,\n",
              "                      random_state=1, verbose=0, warm_start=False)"
            ]
          },
          "metadata": {
            "tags": []
          },
          "execution_count": 13
        }
      ]
    },
    {
      "cell_type": "markdown",
      "metadata": {
        "id": "4C00AgBymt2i",
        "colab_type": "text"
      },
      "source": [
        "# Cross Validation"
      ]
    },
    {
      "cell_type": "code",
      "metadata": {
        "id": "055M6UKimtZz",
        "colab_type": "code",
        "colab": {
          "base_uri": "https://localhost:8080/",
          "height": 34
        },
        "outputId": "77d6a1a1-a7a5-49c4-88b8-4461f7d3fb86"
      },
      "source": [
        "# define the evaluation procedure\n",
        "cv = RepeatedKFold(n_splits=5, n_repeats=1, random_state=1)\n",
        "# evaluate the model and collect the scores\n",
        "n_scores = cross_val_score(reg, X_train_80, Y_train_80, scoring='neg_mean_absolute_error', cv=cv, n_jobs=-1)\n",
        "# force the scores to be positive\n",
        "n_scores = absolute(n_scores)\n",
        "# summarize performance\n",
        "print('MAE: %.3f (%.3f)' % (mean(n_scores), std(n_scores)))"
      ],
      "execution_count": 20,
      "outputs": [
        {
          "output_type": "stream",
          "text": [
            "MAE: 2316508.538 (141204.118)\n"
          ],
          "name": "stdout"
        }
      ]
    },
    {
      "cell_type": "markdown",
      "metadata": {
        "id": "L7gHDk7XmxhK",
        "colab_type": "text"
      },
      "source": [
        "# Predictions"
      ]
    },
    {
      "cell_type": "code",
      "metadata": {
        "id": "M6gEoeBxetE6",
        "colab_type": "code",
        "colab": {
          "base_uri": "https://localhost:8080/",
          "height": 34
        },
        "outputId": "80e059e9-5a88-4d0c-86de-4f2fea62682d"
      },
      "source": [
        "y_pred = reg.predict(X_test_20)\n",
        "val_mae = mean_absolute_error(y_pred, Y_test_20)\n",
        "print(\"Validation MAE when not specifying max_leaf_nodes: {:,.0f}\".format(val_mae))"
      ],
      "execution_count": 21,
      "outputs": [
        {
          "output_type": "stream",
          "text": [
            "Validation MAE when not specifying max_leaf_nodes: 2,541,928\n"
          ],
          "name": "stdout"
        }
      ]
    },
    {
      "cell_type": "code",
      "metadata": {
        "id": "JFCKGIf6gmqQ",
        "colab_type": "code",
        "colab": {
          "base_uri": "https://localhost:8080/",
          "height": 34
        },
        "outputId": "0373a086-4f27-488a-f715-e5f4468e1f09"
      },
      "source": [
        "mean(y_pred)"
      ],
      "execution_count": 26,
      "outputs": [
        {
          "output_type": "execute_result",
          "data": {
            "text/plain": [
              "3568482.752196607"
            ]
          },
          "metadata": {
            "tags": []
          },
          "execution_count": 26
        }
      ]
    }
  ]
}
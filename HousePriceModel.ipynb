{
  "nbformat": 4,
  "nbformat_minor": 0,
  "metadata": {
    "colab": {
      "name": "HousePriceModel.ipynb",
      "provenance": [],
      "toc_visible": true,
      "mount_file_id": "1nl_fL9AksatMOr5ac8WotegJQWmURox0",
      "authorship_tag": "ABX9TyN/uCLmBCTnisFtOqrB/8bN",
      "include_colab_link": true
    },
    "kernelspec": {
      "name": "python3",
      "display_name": "Python 3"
    }
  },
  "cells": [
    {
      "cell_type": "markdown",
      "metadata": {
        "id": "view-in-github",
        "colab_type": "text"
      },
      "source": [
        "<a href=\"https://colab.research.google.com/github/malcolmrite-dsi/CPT-House-Predictions/blob/master/HousePriceModel.ipynb\" target=\"_parent\"><img src=\"https://colab.research.google.com/assets/colab-badge.svg\" alt=\"Open In Colab\"/></a>"
      ]
    },
    {
      "cell_type": "markdown",
      "metadata": {
        "id": "Kj4WT74YbBCu",
        "colab_type": "text"
      },
      "source": [
        "# Importing the Libraries"
      ]
    },
    {
      "cell_type": "code",
      "metadata": {
        "id": "0xHPvCMzaiBx",
        "colab_type": "code",
        "colab": {}
      },
      "source": [
        "import pandas as pd\n",
        "import numpy as np"
      ],
      "execution_count": 1,
      "outputs": []
    },
    {
      "cell_type": "code",
      "metadata": {
        "id": "dEm3aYIMd9kj",
        "colab_type": "code",
        "colab": {}
      },
      "source": [
        "\n",
        "from sklearn.linear_model import LinearRegression\n",
        "from sklearn.ensemble import RandomForestRegressor\n",
        "\n",
        "from sklearn.metrics import mean_absolute_error\n",
        "\n",
        "from scipy import stats\n",
        "import statsmodels.api as sm "
      ],
      "execution_count": 22,
      "outputs": []
    },
    {
      "cell_type": "markdown",
      "metadata": {
        "id": "JKhWNHXqbUel",
        "colab_type": "text"
      },
      "source": [
        "# Import Split Datasets"
      ]
    },
    {
      "cell_type": "code",
      "metadata": {
        "id": "EkJRwVOkbY7p",
        "colab_type": "code",
        "colab": {}
      },
      "source": [
        "X_train_80 = np.genfromtxt('drive/My Drive/v1_X_train_80.csv',delimiter=',')\n",
        "X_test_20 = np.genfromtxt(\"drive/My Drive/v1_X_test_20.csv\",delimiter=',')\n",
        "Y_train_80 = np.genfromtxt(\"drive/My Drive/v1_Y_train_80.csv\",delimiter=',')\n",
        "Y_test_20 = np.genfromtxt(\"drive/My Drive/v1_Y_test_20.csv\",delimiter=',')\n"
      ],
      "execution_count": 2,
      "outputs": []
    },
    {
      "cell_type": "code",
      "metadata": {
        "id": "_c0zdj-zdfUP",
        "colab_type": "code",
        "colab": {
          "base_uri": "https://localhost:8080/",
          "height": 134
        },
        "outputId": "b5a3e69d-1db3-47db-a116-3ec279c5ad8b"
      },
      "source": [
        "X_train_80"
      ],
      "execution_count": 3,
      "outputs": [
        {
          "output_type": "execute_result",
          "data": {
            "text/plain": [
              "array([[  0.,   1.,   0., ...,   0.,   0.,  68.],\n",
              "       [  0.,   1.,   0., ...,   0.,   0.,  56.],\n",
              "       [  0.,   1.,   0., ...,   0.,   0.,  21.],\n",
              "       ...,\n",
              "       [  1.,   0.,   0., ...,   0.,   0.,  27.],\n",
              "       [  0.,   0.,   1., ...,   1.,   0.,  16.],\n",
              "       [  0.,   1.,   0., ...,   0.,   0., 100.]])"
            ]
          },
          "metadata": {
            "tags": []
          },
          "execution_count": 3
        }
      ]
    },
    {
      "cell_type": "markdown",
      "metadata": {
        "id": "pe0pU2jefNzy",
        "colab_type": "text"
      },
      "source": [
        "# Feature Scaling"
      ]
    },
    {
      "cell_type": "code",
      "metadata": {
        "id": "WlmTtVGte63s",
        "colab_type": "code",
        "colab": {}
      },
      "source": [
        "from sklearn.preprocessing import StandardScaler\n",
        "sc = StandardScaler()\n",
        "X_train_80 = sc.fit_transform(X_train_80)\n"
      ],
      "execution_count": 4,
      "outputs": []
    },
    {
      "cell_type": "code",
      "metadata": {
        "id": "TTmBDZR2i5Sh",
        "colab_type": "code",
        "colab": {
          "base_uri": "https://localhost:8080/",
          "height": 235
        },
        "outputId": "54636f2d-ae50-4c28-b88a-2c8b9785f277"
      },
      "source": [
        "X_train_80"
      ],
      "execution_count": 17,
      "outputs": [
        {
          "output_type": "execute_result",
          "data": {
            "text/plain": [
              "array([[-0.42447636,  1.4061553 , -0.6096948 , ..., -0.9228164 ,\n",
              "        -0.2093435 ,  0.52404391],\n",
              "       [-0.42447636,  1.4061553 , -0.6096948 , ..., -0.9228164 ,\n",
              "        -0.2093435 ,  0.12414244],\n",
              "       [-0.42447636,  1.4061553 , -0.6096948 , ..., -0.9228164 ,\n",
              "        -0.2093435 , -1.04223684],\n",
              "       ...,\n",
              "       [ 2.3558438 , -0.711159  , -0.6096948 , ..., -0.9228164 ,\n",
              "        -0.2093435 , -0.8422861 ],\n",
              "       [-0.42447636, -0.711159  ,  1.64016488, ...,  1.08363917,\n",
              "        -0.2093435 , -1.20886245],\n",
              "       [-0.42447636,  1.4061553 , -0.6096948 , ..., -0.9228164 ,\n",
              "        -0.2093435 ,  1.59044782]])"
            ]
          },
          "metadata": {
            "tags": []
          },
          "execution_count": 17
        }
      ]
    },
    {
      "cell_type": "code",
      "metadata": {
        "id": "kIsXuvDNffXx",
        "colab_type": "code",
        "colab": {}
      },
      "source": [
        "X_test_20 = sc.fit_transform(X_test_20)"
      ],
      "execution_count": 5,
      "outputs": []
    },
    {
      "cell_type": "markdown",
      "metadata": {
        "id": "WEbKru8gd6Uu",
        "colab_type": "text"
      },
      "source": [
        "# Modelling"
      ]
    },
    {
      "cell_type": "code",
      "metadata": {
        "id": "AcHu5CzGd5dQ",
        "colab_type": "code",
        "colab": {
          "base_uri": "https://localhost:8080/",
          "height": 134
        },
        "outputId": "7a56724e-2a7a-4e54-bdda-f4a975c92b35"
      },
      "source": [
        "reg = RandomForestRegressor(n_estimators = 200, random_state = 1)\n",
        "    # Fit Model\n",
        "reg.fit(X_train_80, Y_train_80)\n"
      ],
      "execution_count": 23,
      "outputs": [
        {
          "output_type": "execute_result",
          "data": {
            "text/plain": [
              "RandomForestRegressor(bootstrap=True, ccp_alpha=0.0, criterion='mse',\n",
              "                      max_depth=None, max_features='auto', max_leaf_nodes=None,\n",
              "                      max_samples=None, min_impurity_decrease=0.0,\n",
              "                      min_impurity_split=None, min_samples_leaf=1,\n",
              "                      min_samples_split=2, min_weight_fraction_leaf=0.0,\n",
              "                      n_estimators=200, n_jobs=None, oob_score=False,\n",
              "                      random_state=1, verbose=0, warm_start=False)"
            ]
          },
          "metadata": {
            "tags": []
          },
          "execution_count": 23
        }
      ]
    },
    {
      "cell_type": "code",
      "metadata": {
        "id": "M6gEoeBxetE6",
        "colab_type": "code",
        "colab": {
          "base_uri": "https://localhost:8080/",
          "height": 34
        },
        "outputId": "c82ef311-63da-4e26-e036-91e0bf927cea"
      },
      "source": [
        "y_pred = reg.predict(X_test_20)\n",
        "val_mae = mean_absolute_error(y_pred, Y_test_20)\n",
        "print(\"Validation MAE when not specifying max_leaf_nodes: {:,.0f}\".format(val_mae))"
      ],
      "execution_count": 24,
      "outputs": [
        {
          "output_type": "stream",
          "text": [
            "Validation MAE when not specifying max_leaf_nodes: 3,189,608\n"
          ],
          "name": "stdout"
        }
      ]
    },
    {
      "cell_type": "code",
      "metadata": {
        "id": "JFCKGIf6gmqQ",
        "colab_type": "code",
        "colab": {
          "base_uri": "https://localhost:8080/",
          "height": 756
        },
        "outputId": "7ea2f55d-70c7-4c7e-9e29-3edd2da8e49c"
      },
      "source": [
        "y_pred"
      ],
      "execution_count": 25,
      "outputs": [
        {
          "output_type": "execute_result",
          "data": {
            "text/plain": [
              "array([ 2961575.        ,  1451364.17640693,  1528647.40079365,\n",
              "        2222578.00515627,  7157707.51984127,  2336718.94612117,\n",
              "        9437442.23214286,  1100121.97079365,  3616041.01309524,\n",
              "        2901129.11061161,  2880165.47619048,  1404964.58333333,\n",
              "        5912904.83333333,  2329213.38633589,  5684443.48214286,\n",
              "        7805823.5701656 , 11495797.54884005,  3088763.92857143,\n",
              "        3078718.35714286,  2513925.        ,  2887827.38005051,\n",
              "        2051546.70238095,  1759552.08333333, 12393593.79093129,\n",
              "        2329213.38633589,  2201326.51256796,  2329213.38633589,\n",
              "        7157707.51984127,  2207223.33333333,  4584458.0731907 ,\n",
              "        1363867.6084885 ,  2880165.47619048,  8044281.34920635,\n",
              "        1907604.78998779,  1208638.89568765, 12736287.48681874,\n",
              "        4860997.14285714, 10800332.68127706,  1404964.58333333,\n",
              "        5656241.73014486,  3173760.5       ,  2397500.41666667,\n",
              "        1451364.17640693,  1436833.39285714,  2201326.51256796,\n",
              "        2681357.51190476,  9047982.61904762,  7758304.13190476,\n",
              "        3257729.26628936,  8723182.28438228,  7157707.51984127,\n",
              "        3257729.26628936,  1508128.44246032,  1415392.91666667,\n",
              "        1418575.42640693, 10068933.86363636, 10068933.86363636,\n",
              "        1450574.87319625,  1450574.87319625,  1208638.89568765,\n",
              "        1080571.65746032,  2860977.54761905,  2222578.00515627,\n",
              "       11425532.49      ,  2503217.77777778,  2201326.51256796,\n",
              "       11748933.33333333, 10792876.99599012,  2566567.19047619,\n",
              "        9271815.32738095,  1422030.05952381,  1081919.23214286,\n",
              "        3257729.26628936, 10792876.99599012,  3196963.80654762,\n",
              "        1210759.52824559,  4598221.64116307,  5654235.96906565,\n",
              "        2305154.11666667,  1511352.77406634,  7552802.13785714,\n",
              "        2880165.47619048,  2542908.92857143,  2235480.05952381,\n",
              "        2667775.51587302,  2937633.33333333,  2834092.55952381,\n",
              "        2329213.38633589,  2471097.81400966,  3300711.50793651,\n",
              "        1057229.99      , 12274447.19246032,  2834092.55952381,\n",
              "        4598221.64116307, 11495797.54884005,  1725517.01785714,\n",
              "        1436833.39285714,  2029910.83333333,  3152126.75875296,\n",
              "       11573666.66666666,  1962439.70238095,  1357839.89880952,\n",
              "        2922572.34848485,  1920696.30952381,  1568691.25      ,\n",
              "        1907604.78998779,  1118429.20238095,  6420295.        ,\n",
              "        3938332.08333333,  9271815.32738095,  2397500.41666667,\n",
              "       11573666.66666666, 12393593.79093129,  2571074.3452381 ,\n",
              "        5957811.75907426,  6534224.00793651,  3001255.70436508,\n",
              "        2326630.        ,  6585409.76174603,  7571134.13190476,\n",
              "        2860977.54761905,  3007990.        ,  2667775.51587302,\n",
              "        1450574.87319625, 13244574.49404762,  1357895.33730159,\n",
              "        1118429.20238095, 11495797.54884005,  2860977.54761905,\n",
              "        3533834.995     ,  1357839.89880952])"
            ]
          },
          "metadata": {
            "tags": []
          },
          "execution_count": 25
        }
      ]
    }
  ]
}
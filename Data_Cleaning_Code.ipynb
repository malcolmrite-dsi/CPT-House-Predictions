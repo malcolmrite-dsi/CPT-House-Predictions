{
  "nbformat": 4,
  "nbformat_minor": 0,
  "metadata": {
    "colab": {
      "name": "Data_Cleaning_Code",
      "provenance": [],
      "toc_visible": true,
      "mount_file_id": "1iKRgrGHfJgq9kQZoqVoYAKt8eAhh-3XZ",
      "authorship_tag": "ABX9TyOJO07+EzEuu5XZWVZQP6Kq",
      "include_colab_link": true
    },
    "kernelspec": {
      "name": "python3",
      "display_name": "Python 3"
    }
  },
  "cells": [
    {
      "cell_type": "markdown",
      "metadata": {
        "id": "view-in-github",
        "colab_type": "text"
      },
      "source": [
        "<a href=\"https://colab.research.google.com/github/malcolmrite-dsi/CPT-House-Predictions/blob/master/Data_Cleaning_Code.ipynb\" target=\"_parent\"><img src=\"https://colab.research.google.com/assets/colab-badge.svg\" alt=\"Open In Colab\"/></a>"
      ]
    },
    {
      "cell_type": "markdown",
      "metadata": {
        "id": "4BiOaTPxTU9F",
        "colab_type": "text"
      },
      "source": [
        "# Importing Libraries"
      ]
    },
    {
      "cell_type": "code",
      "metadata": {
        "id": "QUBvgsZs0Qpn",
        "colab_type": "code",
        "colab": {
          "base_uri": "https://localhost:8080/",
          "height": 0
        },
        "outputId": "fef4b231-89fc-4642-a733-192c97da32a6"
      },
      "source": [
        "import pandas as pd\n",
        "import numpy as np\n",
        "\n",
        "import matplotlib.pyplot as plt\n",
        "import seaborn as sns"
      ],
      "execution_count": 1,
      "outputs": [
        {
          "output_type": "stream",
          "text": [
            "/usr/local/lib/python3.6/dist-packages/statsmodels/tools/_testing.py:19: FutureWarning: pandas.util.testing is deprecated. Use the functions in the public API at pandas.testing instead.\n",
            "  import pandas.util.testing as tm\n"
          ],
          "name": "stderr"
        }
      ]
    },
    {
      "cell_type": "code",
      "metadata": {
        "id": "qNgcGzyWUZfe",
        "colab_type": "code",
        "colab": {}
      },
      "source": [
        "#Importing One Hot Encoding libraries\n",
        "from sklearn.compose import ColumnTransformer\n",
        "from sklearn.preprocessing import OneHotEncoder\n",
        "from sklearn import preprocessing\n",
        "from sklearn.impute import SimpleImputer"
      ],
      "execution_count": 2,
      "outputs": []
    },
    {
      "cell_type": "markdown",
      "metadata": {
        "id": "pflhCJyaXtAh",
        "colab_type": "text"
      },
      "source": [
        "# Importing the Datasets"
      ]
    },
    {
      "cell_type": "markdown",
      "metadata": {
        "id": "Sj3BTN0uXy0w",
        "colab_type": "text"
      },
      "source": [
        "## Property 24 Dataset"
      ]
    },
    {
      "cell_type": "code",
      "metadata": {
        "id": "_uJMSIiCXkCw",
        "colab_type": "code",
        "colab": {
          "base_uri": "https://localhost:8080/",
          "height": 0
        },
        "outputId": "2825afdd-c49c-46ae-920c-1e86b2404b33"
      },
      "source": [
        "p24_df = pd.read_csv(\"drive/My Drive/cpt-houseprices_p24.csv\")\n",
        "p24_df.head()"
      ],
      "execution_count": 3,
      "outputs": [
        {
          "output_type": "execute_result",
          "data": {
            "text/html": [
              "<div>\n",
              "<style scoped>\n",
              "    .dataframe tbody tr th:only-of-type {\n",
              "        vertical-align: middle;\n",
              "    }\n",
              "\n",
              "    .dataframe tbody tr th {\n",
              "        vertical-align: top;\n",
              "    }\n",
              "\n",
              "    .dataframe thead th {\n",
              "        text-align: right;\n",
              "    }\n",
              "</style>\n",
              "<table border=\"1\" class=\"dataframe\">\n",
              "  <thead>\n",
              "    <tr style=\"text-align: right;\">\n",
              "      <th></th>\n",
              "      <th>Description</th>\n",
              "      <th>Suburb</th>\n",
              "      <th>Price</th>\n",
              "    </tr>\n",
              "  </thead>\n",
              "  <tbody>\n",
              "    <tr>\n",
              "      <th>0</th>\n",
              "      <td>1 Bedroom Apartment</td>\n",
              "      <td>Muizenberg</td>\n",
              "      <td>R 3 500 000</td>\n",
              "    </tr>\n",
              "    <tr>\n",
              "      <th>1</th>\n",
              "      <td>Commercial Property</td>\n",
              "      <td>De Waterkant</td>\n",
              "      <td>R 1 845 000</td>\n",
              "    </tr>\n",
              "    <tr>\n",
              "      <th>2</th>\n",
              "      <td>House</td>\n",
              "      <td>Gardens</td>\n",
              "      <td>R 1 895 000</td>\n",
              "    </tr>\n",
              "    <tr>\n",
              "      <th>3</th>\n",
              "      <td>Commercial Property</td>\n",
              "      <td>Kirstenhof</td>\n",
              "      <td>R 12 000 000</td>\n",
              "    </tr>\n",
              "    <tr>\n",
              "      <th>4</th>\n",
              "      <td>4 Bedroom House</td>\n",
              "      <td>Cape Town City Centre</td>\n",
              "      <td>R 995 000</td>\n",
              "    </tr>\n",
              "  </tbody>\n",
              "</table>\n",
              "</div>"
            ],
            "text/plain": [
              "           Description                 Suburb         Price\n",
              "0  1 Bedroom Apartment             Muizenberg   R 3 500 000\n",
              "1  Commercial Property           De Waterkant   R 1 845 000\n",
              "2                House                Gardens   R 1 895 000\n",
              "3  Commercial Property             Kirstenhof  R 12 000 000\n",
              "4      4 Bedroom House  Cape Town City Centre     R 995 000"
            ]
          },
          "metadata": {
            "tags": []
          },
          "execution_count": 3
        }
      ]
    },
    {
      "cell_type": "markdown",
      "metadata": {
        "id": "-h6kap5Htk6r",
        "colab_type": "text"
      },
      "source": [
        "## RE/MAX Properties Dataset"
      ]
    },
    {
      "cell_type": "code",
      "metadata": {
        "id": "mesKV0sZtxEJ",
        "colab_type": "code",
        "colab": {
          "base_uri": "https://localhost:8080/",
          "height": 0
        },
        "outputId": "01103252-1154-4095-9150-904a00e594e9"
      },
      "source": [
        "remax_df = pd.read_csv(\"drive/My Drive/cpt-houseprices_remax.csv\")\n",
        "remax_df.head()"
      ],
      "execution_count": 4,
      "outputs": [
        {
          "output_type": "execute_result",
          "data": {
            "text/html": [
              "<div>\n",
              "<style scoped>\n",
              "    .dataframe tbody tr th:only-of-type {\n",
              "        vertical-align: middle;\n",
              "    }\n",
              "\n",
              "    .dataframe tbody tr th {\n",
              "        vertical-align: top;\n",
              "    }\n",
              "\n",
              "    .dataframe thead th {\n",
              "        text-align: right;\n",
              "    }\n",
              "</style>\n",
              "<table border=\"1\" class=\"dataframe\">\n",
              "  <thead>\n",
              "    <tr style=\"text-align: right;\">\n",
              "      <th></th>\n",
              "      <th>Description</th>\n",
              "      <th>Price</th>\n",
              "    </tr>\n",
              "  </thead>\n",
              "  <tbody>\n",
              "    <tr>\n",
              "      <th>0</th>\n",
              "      <td>5 Bedroom House in Belgravia</td>\n",
              "      <td>R1 790 000</td>\n",
              "    </tr>\n",
              "    <tr>\n",
              "      <th>1</th>\n",
              "      <td>3 Bedroom Townhouse in Kenilworth</td>\n",
              "      <td>R2 775 000</td>\n",
              "    </tr>\n",
              "    <tr>\n",
              "      <th>2</th>\n",
              "      <td>4 Bedroom House in Ferness Estate</td>\n",
              "      <td>R2 700 000</td>\n",
              "    </tr>\n",
              "    <tr>\n",
              "      <th>3</th>\n",
              "      <td>4 Bedroom House in Sybrand Park</td>\n",
              "      <td>R2 600 000</td>\n",
              "    </tr>\n",
              "    <tr>\n",
              "      <th>4</th>\n",
              "      <td>3 Bedroom House in Coniston Park</td>\n",
              "      <td>R1 495 000</td>\n",
              "    </tr>\n",
              "  </tbody>\n",
              "</table>\n",
              "</div>"
            ],
            "text/plain": [
              "                         Description       Price\n",
              "0       5 Bedroom House in Belgravia  R1 790 000\n",
              "1  3 Bedroom Townhouse in Kenilworth  R2 775 000\n",
              "2  4 Bedroom House in Ferness Estate  R2 700 000\n",
              "3    4 Bedroom House in Sybrand Park  R2 600 000\n",
              "4   3 Bedroom House in Coniston Park  R1 495 000"
            ]
          },
          "metadata": {
            "tags": []
          },
          "execution_count": 4
        }
      ]
    },
    {
      "cell_type": "markdown",
      "metadata": {
        "id": "J6f-vKJi_-g2",
        "colab_type": "text"
      },
      "source": [
        "## Private Property Dataset"
      ]
    },
    {
      "cell_type": "code",
      "metadata": {
        "id": "kP2ckSceAEvS",
        "colab_type": "code",
        "colab": {
          "base_uri": "https://localhost:8080/",
          "height": 0
        },
        "outputId": "c1e0ca63-d035-4527-ef5b-09c9b8b5e4b7"
      },
      "source": [
        "priv_df = pd.read_csv(\"drive/My Drive/cpt-houseprices_priv_prop.csv\")\n",
        "priv_df.head()"
      ],
      "execution_count": 5,
      "outputs": [
        {
          "output_type": "execute_result",
          "data": {
            "text/html": [
              "<div>\n",
              "<style scoped>\n",
              "    .dataframe tbody tr th:only-of-type {\n",
              "        vertical-align: middle;\n",
              "    }\n",
              "\n",
              "    .dataframe tbody tr th {\n",
              "        vertical-align: top;\n",
              "    }\n",
              "\n",
              "    .dataframe thead th {\n",
              "        text-align: right;\n",
              "    }\n",
              "</style>\n",
              "<table border=\"1\" class=\"dataframe\">\n",
              "  <thead>\n",
              "    <tr style=\"text-align: right;\">\n",
              "      <th></th>\n",
              "      <th>Description</th>\n",
              "      <th>Suburb</th>\n",
              "      <th>Price</th>\n",
              "    </tr>\n",
              "  </thead>\n",
              "  <tbody>\n",
              "    <tr>\n",
              "      <th>0</th>\n",
              "      <td>Agents in this Area</td>\n",
              "      <td>Sea Point</td>\n",
              "      <td>R 4 950 000</td>\n",
              "    </tr>\n",
              "    <tr>\n",
              "      <th>1</th>\n",
              "      <td>Atlantic Seaboard</td>\n",
              "      <td>Camps Bay</td>\n",
              "      <td>R 13 950 000</td>\n",
              "    </tr>\n",
              "    <tr>\n",
              "      <th>2</th>\n",
              "      <td>Suburb Specialist</td>\n",
              "      <td>Green Point</td>\n",
              "      <td>R 11 900 000</td>\n",
              "    </tr>\n",
              "    <tr>\n",
              "      <th>3</th>\n",
              "      <td>2 Bed House in Sea Point</td>\n",
              "      <td>Waterfront</td>\n",
              "      <td>R 8 500 000</td>\n",
              "    </tr>\n",
              "    <tr>\n",
              "      <th>4</th>\n",
              "      <td>4 Bed House in Camps Bay</td>\n",
              "      <td>Bantry Bay</td>\n",
              "      <td>R 3 500 000</td>\n",
              "    </tr>\n",
              "  </tbody>\n",
              "</table>\n",
              "</div>"
            ],
            "text/plain": [
              "                Description       Suburb         Price\n",
              "0       Agents in this Area    Sea Point   R 4 950 000\n",
              "1         Atlantic Seaboard    Camps Bay  R 13 950 000\n",
              "2         Suburb Specialist  Green Point  R 11 900 000\n",
              "3  2 Bed House in Sea Point   Waterfront   R 8 500 000\n",
              "4  4 Bed House in Camps Bay   Bantry Bay   R 3 500 000"
            ]
          },
          "metadata": {
            "tags": []
          },
          "execution_count": 5
        }
      ]
    },
    {
      "cell_type": "code",
      "metadata": {
        "id": "4HHZcKsG3AZi",
        "colab_type": "code",
        "colab": {
          "base_uri": "https://localhost:8080/",
          "height": 0
        },
        "outputId": "de7e3bc0-7a84-464f-c637-fd33777a4c78"
      },
      "source": [
        "priv_df.Price.value_counts()"
      ],
      "execution_count": 6,
      "outputs": [
        {
          "output_type": "execute_result",
          "data": {
            "text/plain": [
              "Sold            397\n",
              "R 2 495 000      82\n",
              "R 1 350 000      79\n",
              "R 2 995 000      67\n",
              "R 1 850 000      64\n",
              "               ... \n",
              "R 3 449 999       1\n",
              "R 1 565 000       1\n",
              "R 13 845 000      1\n",
              "R 1 260 000       1\n",
              "R 4 599 999       1\n",
              "Name: Price, Length: 1035, dtype: int64"
            ]
          },
          "metadata": {
            "tags": []
          },
          "execution_count": 6
        }
      ]
    },
    {
      "cell_type": "markdown",
      "metadata": {
        "id": "fIbW2yp43qw5",
        "colab_type": "text"
      },
      "source": [
        "## City Suburbs Dataset"
      ]
    },
    {
      "cell_type": "code",
      "metadata": {
        "id": "tZ55-kC33xkA",
        "colab_type": "code",
        "colab": {
          "base_uri": "https://localhost:8080/",
          "height": 0
        },
        "outputId": "766c03ef-e572-4322-cb32-86b6d9031a32"
      },
      "source": [
        "city_df = pd.read_csv(\"drive/My Drive/cpt-suburbs_finished.csv\")\n",
        "city_df.head()"
      ],
      "execution_count": 7,
      "outputs": [
        {
          "output_type": "execute_result",
          "data": {
            "text/html": [
              "<div>\n",
              "<style scoped>\n",
              "    .dataframe tbody tr th:only-of-type {\n",
              "        vertical-align: middle;\n",
              "    }\n",
              "\n",
              "    .dataframe tbody tr th {\n",
              "        vertical-align: top;\n",
              "    }\n",
              "\n",
              "    .dataframe thead th {\n",
              "        text-align: right;\n",
              "    }\n",
              "</style>\n",
              "<table border=\"1\" class=\"dataframe\">\n",
              "  <thead>\n",
              "    <tr style=\"text-align: right;\">\n",
              "      <th></th>\n",
              "      <th>Suburb</th>\n",
              "      <th>Income</th>\n",
              "    </tr>\n",
              "  </thead>\n",
              "  <tbody>\n",
              "    <tr>\n",
              "      <th>0</th>\n",
              "      <td>Bakoven</td>\n",
              "      <td>3</td>\n",
              "    </tr>\n",
              "    <tr>\n",
              "      <th>1</th>\n",
              "      <td>Bantry Bay</td>\n",
              "      <td>3</td>\n",
              "    </tr>\n",
              "    <tr>\n",
              "      <th>2</th>\n",
              "      <td>Camps Bay</td>\n",
              "      <td>3</td>\n",
              "    </tr>\n",
              "    <tr>\n",
              "      <th>3</th>\n",
              "      <td>Clifton</td>\n",
              "      <td>3</td>\n",
              "    </tr>\n",
              "    <tr>\n",
              "      <th>4</th>\n",
              "      <td>Fresnaye</td>\n",
              "      <td>3</td>\n",
              "    </tr>\n",
              "  </tbody>\n",
              "</table>\n",
              "</div>"
            ],
            "text/plain": [
              "       Suburb  Income\n",
              "0     Bakoven       3\n",
              "1  Bantry Bay       3\n",
              "2   Camps Bay       3\n",
              "3     Clifton       3\n",
              "4    Fresnaye       3"
            ]
          },
          "metadata": {
            "tags": []
          },
          "execution_count": 7
        }
      ]
    },
    {
      "cell_type": "markdown",
      "metadata": {
        "id": "XOTEiKM7EX_w",
        "colab_type": "text"
      },
      "source": [
        "# Feature Engineering"
      ]
    },
    {
      "cell_type": "markdown",
      "metadata": {
        "id": "hxi4ESuV21ou",
        "colab_type": "text"
      },
      "source": [
        "## Feature Engineering Functions"
      ]
    },
    {
      "cell_type": "markdown",
      "metadata": {
        "id": "xNQXxlQedyCF",
        "colab_type": "text"
      },
      "source": [
        "Incorporate the city suburb data set and apply the income level to them."
      ]
    },
    {
      "cell_type": "code",
      "metadata": {
        "id": "lH9fOD__4iMT",
        "colab_type": "code",
        "colab": {}
      },
      "source": [
        "def suburbSelection(df, city_data):\n",
        "  income = []\n",
        "  suburbs = {}\n",
        "  for i, burb in enumerate(city_data.Suburb):\n",
        "    suburbs[burb] = city_data.Income.iloc[i]\n",
        "    print()\n",
        "  for i, location in enumerate(df.Suburb):\n",
        "    if location in suburbs:\n",
        "      income.append(suburbs[location])\n",
        "    else:\n",
        "      income.append(2)\n",
        "      df.Suburb.iloc[i] =  \"Other\"\n",
        "\n",
        "  df.insert(loc = 2, column = \"Income\", value = income)\n",
        "  return df"
      ],
      "execution_count": 8,
      "outputs": []
    },
    {
      "cell_type": "markdown",
      "metadata": {
        "id": "ej6tBw66d9UA",
        "colab_type": "text"
      },
      "source": [
        "Delete prices with sold or POA"
      ]
    },
    {
      "cell_type": "code",
      "metadata": {
        "id": "cyJpe6-XDMPh",
        "colab_type": "code",
        "colab": {}
      },
      "source": [
        "def deletePOA(df):\n",
        "  for i, price in enumerate(df.Price.sum()):\n",
        "    if price == \"Sold\" or price == \"POA\":\n",
        "      df.drop(i, inplace = True)\n",
        "    \n",
        "  return df"
      ],
      "execution_count": 9,
      "outputs": []
    },
    {
      "cell_type": "markdown",
      "metadata": {
        "id": "f8hPqAaaeDMZ",
        "colab_type": "text"
      },
      "source": [
        "Generating bathroom features and house type features"
      ]
    },
    {
      "cell_type": "code",
      "metadata": {
        "id": "D0NhRQCBEcRB",
        "colab_type": "code",
        "colab": {}
      },
      "source": [
        "def featureGeneration(df):\n",
        "  Bedrooms = []\n",
        "  HouseType = []\n",
        "  \n",
        "  for i, descr in enumerate(df[\"Description\"]):\n",
        "    if descr == \"\" or len(descr) <= 5:\n",
        "      df.drop(i, inplace = True)\n",
        "      continue\n",
        "    else:\n",
        "      desc = str(descr).split()\n",
        "      if not desc:\n",
        "        df.drop(i, inplace = True)\n",
        "      elif desc[0].isdigit():\n",
        "        Bedrooms.append(desc[0]) \n",
        "        HouseType.append(desc[-1])\n",
        "      else:\n",
        "        df.drop(i, inplace = True)\n",
        "  \n",
        "  df.insert(loc = 1, column = \"Bedrooms\", value = Bedrooms)\n",
        "  df.insert(loc = 2, column = \"HouseType\", value = HouseType)\n",
        "  return df"
      ],
      "execution_count": 10,
      "outputs": []
    },
    {
      "cell_type": "markdown",
      "metadata": {
        "id": "yz2GIYw-eIqh",
        "colab_type": "text"
      },
      "source": [
        "Generating a suburb feature for the datasets without the suburb feature"
      ]
    },
    {
      "cell_type": "code",
      "metadata": {
        "id": "RNVjGs9EuT-S",
        "colab_type": "code",
        "colab": {}
      },
      "source": [
        "def suburbGenerator(df):\n",
        "  Suburbs = []\n",
        "  for i, descr in enumerate(df[\"Description\"]):\n",
        "    stop = 0\n",
        "    desc = str(descr).split()\n",
        "    flag = 0\n",
        "    burb = []\n",
        "    for dCount, charac in enumerate(desc):\n",
        "      if charac == \"in\":\n",
        "        flag = 1\n",
        "        stop = dCount\n",
        "        continue\n",
        "      if flag == 1:\n",
        "        burb.append(charac) \n",
        "\n",
        "    df[\"Description\"].iloc[i] = ' '.join([str(elem) for elem in desc[:stop]])\n",
        "    Suburbs.append(' '.join([str(elem) for elem in burb]))\n",
        "\n",
        "  df.insert(loc = 1, column = \"Suburb\", value = Suburbs)\n",
        "\n",
        "  return df"
      ],
      "execution_count": 11,
      "outputs": []
    },
    {
      "cell_type": "markdown",
      "metadata": {
        "id": "u9y1fGqpecoV",
        "colab_type": "text"
      },
      "source": [
        "Removing the suburb from the description feature to utilise the feature generation."
      ]
    },
    {
      "cell_type": "code",
      "metadata": {
        "id": "oH33YDIFDguc",
        "colab_type": "code",
        "colab": {}
      },
      "source": [
        "def suburbRemover(df):\n",
        "  Suburbs = []\n",
        "  for i, descr in enumerate(df[\"Description\"]):\n",
        "    stop = 0\n",
        "    desc = str(descr).split()\n",
        "    flag = 0\n",
        "    burb = []\n",
        "    for dCount, charac in enumerate(desc):\n",
        "      if charac == \"in\":\n",
        "        flag = 1\n",
        "        stop = dCount\n",
        "        continue\n",
        "      if flag == 1:\n",
        "        burb.append(charac) \n",
        "\n",
        "    df[\"Description\"].iloc[i] = ' '.join([str(elem) for elem in desc[:stop]])\n",
        "\n",
        "  return df"
      ],
      "execution_count": 12,
      "outputs": []
    },
    {
      "cell_type": "markdown",
      "metadata": {
        "id": "p9TaJyBC2uGY",
        "colab_type": "text"
      },
      "source": [
        "## Applying Feature Engineering Functions"
      ]
    },
    {
      "cell_type": "code",
      "metadata": {
        "id": "6SmzW0j9DDQ0",
        "colab_type": "code",
        "colab": {}
      },
      "source": [
        ""
      ],
      "execution_count": 12,
      "outputs": []
    },
    {
      "cell_type": "markdown",
      "metadata": {
        "id": "0FCOkqvMD8oo",
        "colab_type": "text"
      },
      "source": [
        "Dropping any records where the price is not stated."
      ]
    },
    {
      "cell_type": "code",
      "metadata": {
        "id": "mqDlXEieECbJ",
        "colab_type": "code",
        "colab": {
          "base_uri": "https://localhost:8080/",
          "height": 0
        },
        "outputId": "d851be73-9d0e-440e-abd6-73de127aa4f5"
      },
      "source": [
        "priv_df = deletePOA(priv_df)\n",
        "priv_df.describe()"
      ],
      "execution_count": 13,
      "outputs": [
        {
          "output_type": "execute_result",
          "data": {
            "text/html": [
              "<div>\n",
              "<style scoped>\n",
              "    .dataframe tbody tr th:only-of-type {\n",
              "        vertical-align: middle;\n",
              "    }\n",
              "\n",
              "    .dataframe tbody tr th {\n",
              "        vertical-align: top;\n",
              "    }\n",
              "\n",
              "    .dataframe thead th {\n",
              "        text-align: right;\n",
              "    }\n",
              "</style>\n",
              "<table border=\"1\" class=\"dataframe\">\n",
              "  <thead>\n",
              "    <tr style=\"text-align: right;\">\n",
              "      <th></th>\n",
              "      <th>Description</th>\n",
              "      <th>Suburb</th>\n",
              "      <th>Price</th>\n",
              "    </tr>\n",
              "  </thead>\n",
              "  <tbody>\n",
              "    <tr>\n",
              "      <th>count</th>\n",
              "      <td>6420</td>\n",
              "      <td>6420</td>\n",
              "      <td>6420</td>\n",
              "    </tr>\n",
              "    <tr>\n",
              "      <th>unique</th>\n",
              "      <td>1519</td>\n",
              "      <td>221</td>\n",
              "      <td>1035</td>\n",
              "    </tr>\n",
              "    <tr>\n",
              "      <th>top</th>\n",
              "      <td>Agents in this Area</td>\n",
              "      <td>Sea Point</td>\n",
              "      <td>Sold</td>\n",
              "    </tr>\n",
              "    <tr>\n",
              "      <th>freq</th>\n",
              "      <td>428</td>\n",
              "      <td>287</td>\n",
              "      <td>397</td>\n",
              "    </tr>\n",
              "  </tbody>\n",
              "</table>\n",
              "</div>"
            ],
            "text/plain": [
              "                Description     Suburb Price\n",
              "count                  6420       6420  6420\n",
              "unique                 1519        221  1035\n",
              "top     Agents in this Area  Sea Point  Sold\n",
              "freq                    428        287   397"
            ]
          },
          "metadata": {
            "tags": []
          },
          "execution_count": 13
        }
      ]
    },
    {
      "cell_type": "code",
      "metadata": {
        "id": "zo6WI6abE6hh",
        "colab_type": "code",
        "colab": {
          "base_uri": "https://localhost:8080/",
          "height": 0
        },
        "outputId": "746c04b1-ff0e-4e77-c4fb-60d5300c356a"
      },
      "source": [
        "remax_df = deletePOA(remax_df)\n",
        "remax_df.describe()"
      ],
      "execution_count": 14,
      "outputs": [
        {
          "output_type": "execute_result",
          "data": {
            "text/html": [
              "<div>\n",
              "<style scoped>\n",
              "    .dataframe tbody tr th:only-of-type {\n",
              "        vertical-align: middle;\n",
              "    }\n",
              "\n",
              "    .dataframe tbody tr th {\n",
              "        vertical-align: top;\n",
              "    }\n",
              "\n",
              "    .dataframe thead th {\n",
              "        text-align: right;\n",
              "    }\n",
              "</style>\n",
              "<table border=\"1\" class=\"dataframe\">\n",
              "  <thead>\n",
              "    <tr style=\"text-align: right;\">\n",
              "      <th></th>\n",
              "      <th>Description</th>\n",
              "      <th>Price</th>\n",
              "    </tr>\n",
              "  </thead>\n",
              "  <tbody>\n",
              "    <tr>\n",
              "      <th>count</th>\n",
              "      <td>1200</td>\n",
              "      <td>1200</td>\n",
              "    </tr>\n",
              "    <tr>\n",
              "      <th>unique</th>\n",
              "      <td>420</td>\n",
              "      <td>466</td>\n",
              "    </tr>\n",
              "    <tr>\n",
              "      <th>top</th>\n",
              "      <td>2 Bedroom Apartment / Flat in Sea Point</td>\n",
              "      <td>R1 995 000</td>\n",
              "    </tr>\n",
              "    <tr>\n",
              "      <th>freq</th>\n",
              "      <td>51</td>\n",
              "      <td>19</td>\n",
              "    </tr>\n",
              "  </tbody>\n",
              "</table>\n",
              "</div>"
            ],
            "text/plain": [
              "                                    Description       Price\n",
              "count                                      1200        1200\n",
              "unique                                      420         466\n",
              "top     2 Bedroom Apartment / Flat in Sea Point  R1 995 000\n",
              "freq                                         51          19"
            ]
          },
          "metadata": {
            "tags": []
          },
          "execution_count": 14
        }
      ]
    },
    {
      "cell_type": "markdown",
      "metadata": {
        "id": "l_sme8hi0lIJ",
        "colab_type": "text"
      },
      "source": [
        "Applying the Suburb Generator Function. Which extracts the neighborhood from the Description feature. This Feature would help the model"
      ]
    },
    {
      "cell_type": "code",
      "metadata": {
        "id": "pwjxc9mDxEk9",
        "colab_type": "code",
        "colab": {
          "base_uri": "https://localhost:8080/",
          "height": 0
        },
        "outputId": "c30bae82-f81d-4540-9ff8-1031a23f153d"
      },
      "source": [
        "remax_df = suburbGenerator(remax_df)\n",
        "remax_df.head()"
      ],
      "execution_count": 15,
      "outputs": [
        {
          "output_type": "execute_result",
          "data": {
            "text/html": [
              "<div>\n",
              "<style scoped>\n",
              "    .dataframe tbody tr th:only-of-type {\n",
              "        vertical-align: middle;\n",
              "    }\n",
              "\n",
              "    .dataframe tbody tr th {\n",
              "        vertical-align: top;\n",
              "    }\n",
              "\n",
              "    .dataframe thead th {\n",
              "        text-align: right;\n",
              "    }\n",
              "</style>\n",
              "<table border=\"1\" class=\"dataframe\">\n",
              "  <thead>\n",
              "    <tr style=\"text-align: right;\">\n",
              "      <th></th>\n",
              "      <th>Description</th>\n",
              "      <th>Suburb</th>\n",
              "      <th>Price</th>\n",
              "    </tr>\n",
              "  </thead>\n",
              "  <tbody>\n",
              "    <tr>\n",
              "      <th>0</th>\n",
              "      <td>5 Bedroom House</td>\n",
              "      <td>Belgravia</td>\n",
              "      <td>R1 790 000</td>\n",
              "    </tr>\n",
              "    <tr>\n",
              "      <th>1</th>\n",
              "      <td>3 Bedroom Townhouse</td>\n",
              "      <td>Kenilworth</td>\n",
              "      <td>R2 775 000</td>\n",
              "    </tr>\n",
              "    <tr>\n",
              "      <th>2</th>\n",
              "      <td>4 Bedroom House</td>\n",
              "      <td>Ferness Estate</td>\n",
              "      <td>R2 700 000</td>\n",
              "    </tr>\n",
              "    <tr>\n",
              "      <th>3</th>\n",
              "      <td>4 Bedroom House</td>\n",
              "      <td>Sybrand Park</td>\n",
              "      <td>R2 600 000</td>\n",
              "    </tr>\n",
              "    <tr>\n",
              "      <th>4</th>\n",
              "      <td>3 Bedroom House</td>\n",
              "      <td>Coniston Park</td>\n",
              "      <td>R1 495 000</td>\n",
              "    </tr>\n",
              "  </tbody>\n",
              "</table>\n",
              "</div>"
            ],
            "text/plain": [
              "           Description          Suburb       Price\n",
              "0      5 Bedroom House       Belgravia  R1 790 000\n",
              "1  3 Bedroom Townhouse      Kenilworth  R2 775 000\n",
              "2      4 Bedroom House  Ferness Estate  R2 700 000\n",
              "3      4 Bedroom House    Sybrand Park  R2 600 000\n",
              "4      3 Bedroom House   Coniston Park  R1 495 000"
            ]
          },
          "metadata": {
            "tags": []
          },
          "execution_count": 15
        }
      ]
    },
    {
      "cell_type": "code",
      "metadata": {
        "id": "XjMpKI6N-nBT",
        "colab_type": "code",
        "colab": {
          "base_uri": "https://localhost:8080/",
          "height": 0
        },
        "outputId": "b1dbb9a3-bb53-4cf1-fdac-9c8af5630e61"
      },
      "source": [
        "p24_df = suburbSelection(p24_df, city_df)\n",
        "p24_df.head()"
      ],
      "execution_count": 16,
      "outputs": [
        {
          "output_type": "stream",
          "text": [
            "\n",
            "\n",
            "\n",
            "\n",
            "\n",
            "\n",
            "\n",
            "\n",
            "\n",
            "\n",
            "\n",
            "\n",
            "\n",
            "\n",
            "\n",
            "\n",
            "\n",
            "\n",
            "\n",
            "\n",
            "\n",
            "\n",
            "\n",
            "\n",
            "\n",
            "\n",
            "\n",
            "\n",
            "\n",
            "\n",
            "\n",
            "\n",
            "\n",
            "\n",
            "\n",
            "\n",
            "\n",
            "\n",
            "\n",
            "\n",
            "\n",
            "\n",
            "\n",
            "\n",
            "\n",
            "\n",
            "\n",
            "\n",
            "\n",
            "\n",
            "\n",
            "\n",
            "\n",
            "\n",
            "\n",
            "\n",
            "\n",
            "\n",
            "\n",
            "\n",
            "\n",
            "\n",
            "\n",
            "\n",
            "\n",
            "\n",
            "\n",
            "\n",
            "\n",
            "\n",
            "\n",
            "\n",
            "\n",
            "\n",
            "\n",
            "\n",
            "\n",
            "\n",
            "\n",
            "\n",
            "\n",
            "\n",
            "\n",
            "\n",
            "\n",
            "\n",
            "\n",
            "\n",
            "\n",
            "\n",
            "\n",
            "\n",
            "\n",
            "\n",
            "\n",
            "\n",
            "\n",
            "\n",
            "\n",
            "\n",
            "\n",
            "\n",
            "\n",
            "\n",
            "\n",
            "\n",
            "\n",
            "\n",
            "\n",
            "\n",
            "\n",
            "\n",
            "\n",
            "\n",
            "\n",
            "\n",
            "\n",
            "\n",
            "\n",
            "\n",
            "\n",
            "\n",
            "\n",
            "\n",
            "\n",
            "\n",
            "\n",
            "\n",
            "\n",
            "\n",
            "\n",
            "\n",
            "\n",
            "\n",
            "\n",
            "\n",
            "\n",
            "\n",
            "\n"
          ],
          "name": "stdout"
        },
        {
          "output_type": "execute_result",
          "data": {
            "text/html": [
              "<div>\n",
              "<style scoped>\n",
              "    .dataframe tbody tr th:only-of-type {\n",
              "        vertical-align: middle;\n",
              "    }\n",
              "\n",
              "    .dataframe tbody tr th {\n",
              "        vertical-align: top;\n",
              "    }\n",
              "\n",
              "    .dataframe thead th {\n",
              "        text-align: right;\n",
              "    }\n",
              "</style>\n",
              "<table border=\"1\" class=\"dataframe\">\n",
              "  <thead>\n",
              "    <tr style=\"text-align: right;\">\n",
              "      <th></th>\n",
              "      <th>Description</th>\n",
              "      <th>Suburb</th>\n",
              "      <th>Income</th>\n",
              "      <th>Price</th>\n",
              "    </tr>\n",
              "  </thead>\n",
              "  <tbody>\n",
              "    <tr>\n",
              "      <th>0</th>\n",
              "      <td>1 Bedroom Apartment</td>\n",
              "      <td>Muizenberg</td>\n",
              "      <td>2</td>\n",
              "      <td>R 3 500 000</td>\n",
              "    </tr>\n",
              "    <tr>\n",
              "      <th>1</th>\n",
              "      <td>Commercial Property</td>\n",
              "      <td>De Waterkant</td>\n",
              "      <td>2</td>\n",
              "      <td>R 1 845 000</td>\n",
              "    </tr>\n",
              "    <tr>\n",
              "      <th>2</th>\n",
              "      <td>House</td>\n",
              "      <td>Gardens</td>\n",
              "      <td>2</td>\n",
              "      <td>R 1 895 000</td>\n",
              "    </tr>\n",
              "    <tr>\n",
              "      <th>3</th>\n",
              "      <td>Commercial Property</td>\n",
              "      <td>Kirstenhof</td>\n",
              "      <td>2</td>\n",
              "      <td>R 12 000 000</td>\n",
              "    </tr>\n",
              "    <tr>\n",
              "      <th>4</th>\n",
              "      <td>4 Bedroom House</td>\n",
              "      <td>Other</td>\n",
              "      <td>2</td>\n",
              "      <td>R 995 000</td>\n",
              "    </tr>\n",
              "  </tbody>\n",
              "</table>\n",
              "</div>"
            ],
            "text/plain": [
              "           Description        Suburb  Income         Price\n",
              "0  1 Bedroom Apartment    Muizenberg       2   R 3 500 000\n",
              "1  Commercial Property  De Waterkant       2   R 1 845 000\n",
              "2                House       Gardens       2   R 1 895 000\n",
              "3  Commercial Property    Kirstenhof       2  R 12 000 000\n",
              "4      4 Bedroom House         Other       2     R 995 000"
            ]
          },
          "metadata": {
            "tags": []
          },
          "execution_count": 16
        }
      ]
    },
    {
      "cell_type": "code",
      "metadata": {
        "id": "MPvmvZ4sewAs",
        "colab_type": "code",
        "colab": {
          "base_uri": "https://localhost:8080/",
          "height": 0
        },
        "outputId": "0af225bf-eaff-4a17-8d89-8b166ccdffbd"
      },
      "source": [
        "priv_df = suburbSelection(priv_df, city_df)\n",
        "priv_df.head()"
      ],
      "execution_count": 17,
      "outputs": [
        {
          "output_type": "stream",
          "text": [
            "\n",
            "\n",
            "\n",
            "\n",
            "\n",
            "\n",
            "\n",
            "\n",
            "\n",
            "\n",
            "\n",
            "\n",
            "\n",
            "\n",
            "\n",
            "\n",
            "\n",
            "\n",
            "\n",
            "\n",
            "\n",
            "\n",
            "\n",
            "\n",
            "\n",
            "\n",
            "\n",
            "\n",
            "\n",
            "\n",
            "\n",
            "\n",
            "\n",
            "\n",
            "\n",
            "\n",
            "\n",
            "\n",
            "\n",
            "\n",
            "\n",
            "\n",
            "\n",
            "\n",
            "\n",
            "\n",
            "\n",
            "\n",
            "\n",
            "\n",
            "\n",
            "\n",
            "\n",
            "\n",
            "\n",
            "\n",
            "\n",
            "\n",
            "\n",
            "\n",
            "\n",
            "\n",
            "\n",
            "\n",
            "\n",
            "\n",
            "\n",
            "\n",
            "\n",
            "\n",
            "\n",
            "\n",
            "\n",
            "\n",
            "\n",
            "\n",
            "\n",
            "\n",
            "\n",
            "\n",
            "\n",
            "\n",
            "\n",
            "\n",
            "\n",
            "\n",
            "\n",
            "\n",
            "\n",
            "\n",
            "\n",
            "\n",
            "\n",
            "\n",
            "\n",
            "\n",
            "\n",
            "\n",
            "\n",
            "\n",
            "\n",
            "\n",
            "\n",
            "\n",
            "\n",
            "\n",
            "\n",
            "\n",
            "\n",
            "\n",
            "\n",
            "\n",
            "\n",
            "\n",
            "\n",
            "\n",
            "\n",
            "\n",
            "\n",
            "\n",
            "\n",
            "\n",
            "\n",
            "\n",
            "\n",
            "\n",
            "\n",
            "\n",
            "\n",
            "\n",
            "\n",
            "\n",
            "\n",
            "\n",
            "\n",
            "\n",
            "\n",
            "\n",
            "\n"
          ],
          "name": "stdout"
        },
        {
          "output_type": "execute_result",
          "data": {
            "text/html": [
              "<div>\n",
              "<style scoped>\n",
              "    .dataframe tbody tr th:only-of-type {\n",
              "        vertical-align: middle;\n",
              "    }\n",
              "\n",
              "    .dataframe tbody tr th {\n",
              "        vertical-align: top;\n",
              "    }\n",
              "\n",
              "    .dataframe thead th {\n",
              "        text-align: right;\n",
              "    }\n",
              "</style>\n",
              "<table border=\"1\" class=\"dataframe\">\n",
              "  <thead>\n",
              "    <tr style=\"text-align: right;\">\n",
              "      <th></th>\n",
              "      <th>Description</th>\n",
              "      <th>Suburb</th>\n",
              "      <th>Income</th>\n",
              "      <th>Price</th>\n",
              "    </tr>\n",
              "  </thead>\n",
              "  <tbody>\n",
              "    <tr>\n",
              "      <th>0</th>\n",
              "      <td>Agents in this Area</td>\n",
              "      <td>Sea Point</td>\n",
              "      <td>3</td>\n",
              "      <td>R 4 950 000</td>\n",
              "    </tr>\n",
              "    <tr>\n",
              "      <th>1</th>\n",
              "      <td>Atlantic Seaboard</td>\n",
              "      <td>Camps Bay</td>\n",
              "      <td>3</td>\n",
              "      <td>R 13 950 000</td>\n",
              "    </tr>\n",
              "    <tr>\n",
              "      <th>2</th>\n",
              "      <td>Suburb Specialist</td>\n",
              "      <td>Green Point</td>\n",
              "      <td>3</td>\n",
              "      <td>R 11 900 000</td>\n",
              "    </tr>\n",
              "    <tr>\n",
              "      <th>3</th>\n",
              "      <td>2 Bed House in Sea Point</td>\n",
              "      <td>Other</td>\n",
              "      <td>2</td>\n",
              "      <td>R 8 500 000</td>\n",
              "    </tr>\n",
              "    <tr>\n",
              "      <th>4</th>\n",
              "      <td>4 Bed House in Camps Bay</td>\n",
              "      <td>Bantry Bay</td>\n",
              "      <td>3</td>\n",
              "      <td>R 3 500 000</td>\n",
              "    </tr>\n",
              "  </tbody>\n",
              "</table>\n",
              "</div>"
            ],
            "text/plain": [
              "                Description       Suburb  Income         Price\n",
              "0       Agents in this Area    Sea Point       3   R 4 950 000\n",
              "1         Atlantic Seaboard    Camps Bay       3  R 13 950 000\n",
              "2         Suburb Specialist  Green Point       3  R 11 900 000\n",
              "3  2 Bed House in Sea Point        Other       2   R 8 500 000\n",
              "4  4 Bed House in Camps Bay   Bantry Bay       3   R 3 500 000"
            ]
          },
          "metadata": {
            "tags": []
          },
          "execution_count": 17
        }
      ]
    },
    {
      "cell_type": "code",
      "metadata": {
        "id": "hpg0De2be1MP",
        "colab_type": "code",
        "colab": {
          "base_uri": "https://localhost:8080/",
          "height": 0
        },
        "outputId": "7ad3f625-759f-4b0f-b96c-fc63401b19f9"
      },
      "source": [
        "remax_df = suburbSelection(remax_df, city_df)\n",
        "remax_df.head()"
      ],
      "execution_count": 18,
      "outputs": [
        {
          "output_type": "stream",
          "text": [
            "\n",
            "\n",
            "\n",
            "\n",
            "\n",
            "\n",
            "\n",
            "\n",
            "\n",
            "\n",
            "\n",
            "\n",
            "\n",
            "\n",
            "\n",
            "\n",
            "\n",
            "\n",
            "\n",
            "\n",
            "\n",
            "\n",
            "\n",
            "\n",
            "\n",
            "\n",
            "\n",
            "\n",
            "\n",
            "\n",
            "\n",
            "\n",
            "\n",
            "\n",
            "\n",
            "\n",
            "\n",
            "\n",
            "\n",
            "\n",
            "\n",
            "\n",
            "\n",
            "\n",
            "\n",
            "\n",
            "\n",
            "\n",
            "\n",
            "\n",
            "\n",
            "\n",
            "\n",
            "\n",
            "\n",
            "\n",
            "\n",
            "\n",
            "\n",
            "\n",
            "\n",
            "\n",
            "\n",
            "\n",
            "\n",
            "\n",
            "\n",
            "\n",
            "\n",
            "\n",
            "\n",
            "\n",
            "\n",
            "\n",
            "\n",
            "\n",
            "\n",
            "\n",
            "\n",
            "\n",
            "\n",
            "\n",
            "\n",
            "\n",
            "\n",
            "\n",
            "\n",
            "\n",
            "\n",
            "\n",
            "\n",
            "\n",
            "\n",
            "\n",
            "\n",
            "\n",
            "\n",
            "\n",
            "\n",
            "\n",
            "\n",
            "\n",
            "\n",
            "\n",
            "\n",
            "\n",
            "\n",
            "\n",
            "\n",
            "\n",
            "\n",
            "\n",
            "\n",
            "\n",
            "\n",
            "\n",
            "\n",
            "\n",
            "\n",
            "\n",
            "\n",
            "\n",
            "\n",
            "\n",
            "\n",
            "\n",
            "\n",
            "\n",
            "\n",
            "\n",
            "\n",
            "\n",
            "\n",
            "\n",
            "\n",
            "\n",
            "\n",
            "\n",
            "\n"
          ],
          "name": "stdout"
        },
        {
          "output_type": "execute_result",
          "data": {
            "text/html": [
              "<div>\n",
              "<style scoped>\n",
              "    .dataframe tbody tr th:only-of-type {\n",
              "        vertical-align: middle;\n",
              "    }\n",
              "\n",
              "    .dataframe tbody tr th {\n",
              "        vertical-align: top;\n",
              "    }\n",
              "\n",
              "    .dataframe thead th {\n",
              "        text-align: right;\n",
              "    }\n",
              "</style>\n",
              "<table border=\"1\" class=\"dataframe\">\n",
              "  <thead>\n",
              "    <tr style=\"text-align: right;\">\n",
              "      <th></th>\n",
              "      <th>Description</th>\n",
              "      <th>Suburb</th>\n",
              "      <th>Income</th>\n",
              "      <th>Price</th>\n",
              "    </tr>\n",
              "  </thead>\n",
              "  <tbody>\n",
              "    <tr>\n",
              "      <th>0</th>\n",
              "      <td>5 Bedroom House</td>\n",
              "      <td>Other</td>\n",
              "      <td>2</td>\n",
              "      <td>R1 790 000</td>\n",
              "    </tr>\n",
              "    <tr>\n",
              "      <th>1</th>\n",
              "      <td>3 Bedroom Townhouse</td>\n",
              "      <td>Kenilworth</td>\n",
              "      <td>2</td>\n",
              "      <td>R2 775 000</td>\n",
              "    </tr>\n",
              "    <tr>\n",
              "      <th>2</th>\n",
              "      <td>4 Bedroom House</td>\n",
              "      <td>Other</td>\n",
              "      <td>2</td>\n",
              "      <td>R2 700 000</td>\n",
              "    </tr>\n",
              "    <tr>\n",
              "      <th>3</th>\n",
              "      <td>4 Bedroom House</td>\n",
              "      <td>Other</td>\n",
              "      <td>2</td>\n",
              "      <td>R2 600 000</td>\n",
              "    </tr>\n",
              "    <tr>\n",
              "      <th>4</th>\n",
              "      <td>3 Bedroom House</td>\n",
              "      <td>Other</td>\n",
              "      <td>2</td>\n",
              "      <td>R1 495 000</td>\n",
              "    </tr>\n",
              "  </tbody>\n",
              "</table>\n",
              "</div>"
            ],
            "text/plain": [
              "           Description      Suburb  Income       Price\n",
              "0      5 Bedroom House       Other       2  R1 790 000\n",
              "1  3 Bedroom Townhouse  Kenilworth       2  R2 775 000\n",
              "2      4 Bedroom House       Other       2  R2 700 000\n",
              "3      4 Bedroom House       Other       2  R2 600 000\n",
              "4      3 Bedroom House       Other       2  R1 495 000"
            ]
          },
          "metadata": {
            "tags": []
          },
          "execution_count": 18
        }
      ]
    },
    {
      "cell_type": "markdown",
      "metadata": {
        "id": "1QufIboSECOI",
        "colab_type": "text"
      },
      "source": [
        "Applying the suburb remover function. Which removes the suburb from the description."
      ]
    },
    {
      "cell_type": "code",
      "metadata": {
        "id": "VWugHHmJEQhG",
        "colab_type": "code",
        "colab": {
          "base_uri": "https://localhost:8080/",
          "height": 0
        },
        "outputId": "d83dbb07-1564-438f-f0b0-0f7a7427c6e7"
      },
      "source": [
        "priv_df = suburbRemover(priv_df)\n",
        "priv_df.head()"
      ],
      "execution_count": 19,
      "outputs": [
        {
          "output_type": "stream",
          "text": [
            "/usr/local/lib/python3.6/dist-packages/pandas/core/indexing.py:671: SettingWithCopyWarning: \n",
            "A value is trying to be set on a copy of a slice from a DataFrame\n",
            "\n",
            "See the caveats in the documentation: https://pandas.pydata.org/pandas-docs/stable/user_guide/indexing.html#returning-a-view-versus-a-copy\n",
            "  self._setitem_with_indexer(indexer, value)\n"
          ],
          "name": "stderr"
        },
        {
          "output_type": "execute_result",
          "data": {
            "text/html": [
              "<div>\n",
              "<style scoped>\n",
              "    .dataframe tbody tr th:only-of-type {\n",
              "        vertical-align: middle;\n",
              "    }\n",
              "\n",
              "    .dataframe tbody tr th {\n",
              "        vertical-align: top;\n",
              "    }\n",
              "\n",
              "    .dataframe thead th {\n",
              "        text-align: right;\n",
              "    }\n",
              "</style>\n",
              "<table border=\"1\" class=\"dataframe\">\n",
              "  <thead>\n",
              "    <tr style=\"text-align: right;\">\n",
              "      <th></th>\n",
              "      <th>Description</th>\n",
              "      <th>Suburb</th>\n",
              "      <th>Income</th>\n",
              "      <th>Price</th>\n",
              "    </tr>\n",
              "  </thead>\n",
              "  <tbody>\n",
              "    <tr>\n",
              "      <th>0</th>\n",
              "      <td>Agents</td>\n",
              "      <td>Sea Point</td>\n",
              "      <td>3</td>\n",
              "      <td>R 4 950 000</td>\n",
              "    </tr>\n",
              "    <tr>\n",
              "      <th>1</th>\n",
              "      <td></td>\n",
              "      <td>Camps Bay</td>\n",
              "      <td>3</td>\n",
              "      <td>R 13 950 000</td>\n",
              "    </tr>\n",
              "    <tr>\n",
              "      <th>2</th>\n",
              "      <td></td>\n",
              "      <td>Green Point</td>\n",
              "      <td>3</td>\n",
              "      <td>R 11 900 000</td>\n",
              "    </tr>\n",
              "    <tr>\n",
              "      <th>3</th>\n",
              "      <td>2 Bed House</td>\n",
              "      <td>Other</td>\n",
              "      <td>2</td>\n",
              "      <td>R 8 500 000</td>\n",
              "    </tr>\n",
              "    <tr>\n",
              "      <th>4</th>\n",
              "      <td>4 Bed House</td>\n",
              "      <td>Bantry Bay</td>\n",
              "      <td>3</td>\n",
              "      <td>R 3 500 000</td>\n",
              "    </tr>\n",
              "  </tbody>\n",
              "</table>\n",
              "</div>"
            ],
            "text/plain": [
              "   Description       Suburb  Income         Price\n",
              "0       Agents    Sea Point       3   R 4 950 000\n",
              "1                 Camps Bay       3  R 13 950 000\n",
              "2               Green Point       3  R 11 900 000\n",
              "3  2 Bed House        Other       2   R 8 500 000\n",
              "4  4 Bed House   Bantry Bay       3   R 3 500 000"
            ]
          },
          "metadata": {
            "tags": []
          },
          "execution_count": 19
        }
      ]
    },
    {
      "cell_type": "code",
      "metadata": {
        "id": "IWDdhrmjAcuI",
        "colab_type": "code",
        "colab": {
          "base_uri": "https://localhost:8080/",
          "height": 0
        },
        "outputId": "2f98eccd-b840-4026-f5b5-2a80d5743879"
      },
      "source": [
        "p24_df.Suburb.value_counts()"
      ],
      "execution_count": 20,
      "outputs": [
        {
          "output_type": "execute_result",
          "data": {
            "text/plain": [
              "Other           340\n",
              "Sea Point       128\n",
              "Green Point      68\n",
              "Observatory      52\n",
              "Rondebosch       51\n",
              "               ... \n",
              "Ndabeni           1\n",
              "Bakoven           1\n",
              "Steenberg         1\n",
              "Kreupelbosch      1\n",
              "St James          1\n",
              "Name: Suburb, Length: 71, dtype: int64"
            ]
          },
          "metadata": {
            "tags": []
          },
          "execution_count": 20
        }
      ]
    },
    {
      "cell_type": "markdown",
      "metadata": {
        "id": "uUA--2KI0J9T",
        "colab_type": "text"
      },
      "source": [
        "Applying the feature generation function, which creates to new categories from the descrition. House Type, and Number of Bedrooms. This should help the model."
      ]
    },
    {
      "cell_type": "code",
      "metadata": {
        "id": "T8ieUDSUE_8P",
        "colab_type": "code",
        "colab": {
          "base_uri": "https://localhost:8080/",
          "height": 0
        },
        "outputId": "93119f05-c33a-4049-ba7d-89a04b8d3085"
      },
      "source": [
        "priv_df = featureGeneration(priv_df)\n",
        "priv_df.head()"
      ],
      "execution_count": 21,
      "outputs": [
        {
          "output_type": "execute_result",
          "data": {
            "text/html": [
              "<div>\n",
              "<style scoped>\n",
              "    .dataframe tbody tr th:only-of-type {\n",
              "        vertical-align: middle;\n",
              "    }\n",
              "\n",
              "    .dataframe tbody tr th {\n",
              "        vertical-align: top;\n",
              "    }\n",
              "\n",
              "    .dataframe thead th {\n",
              "        text-align: right;\n",
              "    }\n",
              "</style>\n",
              "<table border=\"1\" class=\"dataframe\">\n",
              "  <thead>\n",
              "    <tr style=\"text-align: right;\">\n",
              "      <th></th>\n",
              "      <th>Description</th>\n",
              "      <th>Bedrooms</th>\n",
              "      <th>HouseType</th>\n",
              "      <th>Suburb</th>\n",
              "      <th>Income</th>\n",
              "      <th>Price</th>\n",
              "    </tr>\n",
              "  </thead>\n",
              "  <tbody>\n",
              "    <tr>\n",
              "      <th>3</th>\n",
              "      <td>2 Bed House</td>\n",
              "      <td>2</td>\n",
              "      <td>House</td>\n",
              "      <td>Other</td>\n",
              "      <td>2</td>\n",
              "      <td>R 8 500 000</td>\n",
              "    </tr>\n",
              "    <tr>\n",
              "      <th>4</th>\n",
              "      <td>4 Bed House</td>\n",
              "      <td>4</td>\n",
              "      <td>House</td>\n",
              "      <td>Bantry Bay</td>\n",
              "      <td>3</td>\n",
              "      <td>R 3 500 000</td>\n",
              "    </tr>\n",
              "    <tr>\n",
              "      <th>5</th>\n",
              "      <td>5 Bed House</td>\n",
              "      <td>5</td>\n",
              "      <td>House</td>\n",
              "      <td>Sea Point</td>\n",
              "      <td>3</td>\n",
              "      <td>R 15 999 000</td>\n",
              "    </tr>\n",
              "    <tr>\n",
              "      <th>6</th>\n",
              "      <td>1 Bed Apartment</td>\n",
              "      <td>1</td>\n",
              "      <td>Apartment</td>\n",
              "      <td>Other</td>\n",
              "      <td>2</td>\n",
              "      <td>R 12 995 000</td>\n",
              "    </tr>\n",
              "    <tr>\n",
              "      <th>7</th>\n",
              "      <td>2 Bed Apartment</td>\n",
              "      <td>2</td>\n",
              "      <td>Apartment</td>\n",
              "      <td>Sea Point</td>\n",
              "      <td>3</td>\n",
              "      <td>R 1 525 000</td>\n",
              "    </tr>\n",
              "  </tbody>\n",
              "</table>\n",
              "</div>"
            ],
            "text/plain": [
              "       Description Bedrooms  HouseType      Suburb  Income         Price\n",
              "3      2 Bed House        2      House       Other       2   R 8 500 000\n",
              "4      4 Bed House        4      House  Bantry Bay       3   R 3 500 000\n",
              "5      5 Bed House        5      House   Sea Point       3  R 15 999 000\n",
              "6  1 Bed Apartment        1  Apartment       Other       2  R 12 995 000\n",
              "7  2 Bed Apartment        2  Apartment   Sea Point       3   R 1 525 000"
            ]
          },
          "metadata": {
            "tags": []
          },
          "execution_count": 21
        }
      ]
    },
    {
      "cell_type": "code",
      "metadata": {
        "id": "pSk-mFOzGw3C",
        "colab_type": "code",
        "colab": {
          "base_uri": "https://localhost:8080/",
          "height": 0
        },
        "outputId": "702f90ec-2635-43dd-f786-4bc6c072815e"
      },
      "source": [
        "p24_df.head()"
      ],
      "execution_count": 22,
      "outputs": [
        {
          "output_type": "execute_result",
          "data": {
            "text/html": [
              "<div>\n",
              "<style scoped>\n",
              "    .dataframe tbody tr th:only-of-type {\n",
              "        vertical-align: middle;\n",
              "    }\n",
              "\n",
              "    .dataframe tbody tr th {\n",
              "        vertical-align: top;\n",
              "    }\n",
              "\n",
              "    .dataframe thead th {\n",
              "        text-align: right;\n",
              "    }\n",
              "</style>\n",
              "<table border=\"1\" class=\"dataframe\">\n",
              "  <thead>\n",
              "    <tr style=\"text-align: right;\">\n",
              "      <th></th>\n",
              "      <th>Description</th>\n",
              "      <th>Suburb</th>\n",
              "      <th>Income</th>\n",
              "      <th>Price</th>\n",
              "    </tr>\n",
              "  </thead>\n",
              "  <tbody>\n",
              "    <tr>\n",
              "      <th>0</th>\n",
              "      <td>1 Bedroom Apartment</td>\n",
              "      <td>Muizenberg</td>\n",
              "      <td>2</td>\n",
              "      <td>R 3 500 000</td>\n",
              "    </tr>\n",
              "    <tr>\n",
              "      <th>1</th>\n",
              "      <td>Commercial Property</td>\n",
              "      <td>De Waterkant</td>\n",
              "      <td>2</td>\n",
              "      <td>R 1 845 000</td>\n",
              "    </tr>\n",
              "    <tr>\n",
              "      <th>2</th>\n",
              "      <td>House</td>\n",
              "      <td>Gardens</td>\n",
              "      <td>2</td>\n",
              "      <td>R 1 895 000</td>\n",
              "    </tr>\n",
              "    <tr>\n",
              "      <th>3</th>\n",
              "      <td>Commercial Property</td>\n",
              "      <td>Kirstenhof</td>\n",
              "      <td>2</td>\n",
              "      <td>R 12 000 000</td>\n",
              "    </tr>\n",
              "    <tr>\n",
              "      <th>4</th>\n",
              "      <td>4 Bedroom House</td>\n",
              "      <td>Other</td>\n",
              "      <td>2</td>\n",
              "      <td>R 995 000</td>\n",
              "    </tr>\n",
              "  </tbody>\n",
              "</table>\n",
              "</div>"
            ],
            "text/plain": [
              "           Description        Suburb  Income         Price\n",
              "0  1 Bedroom Apartment    Muizenberg       2   R 3 500 000\n",
              "1  Commercial Property  De Waterkant       2   R 1 845 000\n",
              "2                House       Gardens       2   R 1 895 000\n",
              "3  Commercial Property    Kirstenhof       2  R 12 000 000\n",
              "4      4 Bedroom House         Other       2     R 995 000"
            ]
          },
          "metadata": {
            "tags": []
          },
          "execution_count": 22
        }
      ]
    },
    {
      "cell_type": "code",
      "metadata": {
        "id": "4vqjm6WPIn2F",
        "colab_type": "code",
        "colab": {
          "base_uri": "https://localhost:8080/",
          "height": 0
        },
        "outputId": "e04b695e-bcd4-4594-d0e6-f927b6f55aa4"
      },
      "source": [
        "p24_df = featureGeneration(p24_df)\n",
        "p24_df.head()"
      ],
      "execution_count": 23,
      "outputs": [
        {
          "output_type": "execute_result",
          "data": {
            "text/html": [
              "<div>\n",
              "<style scoped>\n",
              "    .dataframe tbody tr th:only-of-type {\n",
              "        vertical-align: middle;\n",
              "    }\n",
              "\n",
              "    .dataframe tbody tr th {\n",
              "        vertical-align: top;\n",
              "    }\n",
              "\n",
              "    .dataframe thead th {\n",
              "        text-align: right;\n",
              "    }\n",
              "</style>\n",
              "<table border=\"1\" class=\"dataframe\">\n",
              "  <thead>\n",
              "    <tr style=\"text-align: right;\">\n",
              "      <th></th>\n",
              "      <th>Description</th>\n",
              "      <th>Bedrooms</th>\n",
              "      <th>HouseType</th>\n",
              "      <th>Suburb</th>\n",
              "      <th>Income</th>\n",
              "      <th>Price</th>\n",
              "    </tr>\n",
              "  </thead>\n",
              "  <tbody>\n",
              "    <tr>\n",
              "      <th>0</th>\n",
              "      <td>1 Bedroom Apartment</td>\n",
              "      <td>1</td>\n",
              "      <td>Apartment</td>\n",
              "      <td>Muizenberg</td>\n",
              "      <td>2</td>\n",
              "      <td>R 3 500 000</td>\n",
              "    </tr>\n",
              "    <tr>\n",
              "      <th>4</th>\n",
              "      <td>4 Bedroom House</td>\n",
              "      <td>4</td>\n",
              "      <td>House</td>\n",
              "      <td>Other</td>\n",
              "      <td>2</td>\n",
              "      <td>R 995 000</td>\n",
              "    </tr>\n",
              "    <tr>\n",
              "      <th>6</th>\n",
              "      <td>2 Bedroom House</td>\n",
              "      <td>2</td>\n",
              "      <td>House</td>\n",
              "      <td>Rondebosch</td>\n",
              "      <td>2</td>\n",
              "      <td>R 2 395 000</td>\n",
              "    </tr>\n",
              "    <tr>\n",
              "      <th>7</th>\n",
              "      <td>4 Bedroom House</td>\n",
              "      <td>4</td>\n",
              "      <td>House</td>\n",
              "      <td>Claremont</td>\n",
              "      <td>2</td>\n",
              "      <td>R 19 950 000</td>\n",
              "    </tr>\n",
              "    <tr>\n",
              "      <th>8</th>\n",
              "      <td>1 Bedroom Apartment</td>\n",
              "      <td>1</td>\n",
              "      <td>Apartment</td>\n",
              "      <td>Constantia</td>\n",
              "      <td>2</td>\n",
              "      <td>R 795 000</td>\n",
              "    </tr>\n",
              "  </tbody>\n",
              "</table>\n",
              "</div>"
            ],
            "text/plain": [
              "           Description Bedrooms  HouseType      Suburb  Income         Price\n",
              "0  1 Bedroom Apartment        1  Apartment  Muizenberg       2   R 3 500 000\n",
              "4      4 Bedroom House        4      House       Other       2     R 995 000\n",
              "6      2 Bedroom House        2      House  Rondebosch       2   R 2 395 000\n",
              "7      4 Bedroom House        4      House   Claremont       2  R 19 950 000\n",
              "8  1 Bedroom Apartment        1  Apartment  Constantia       2     R 795 000"
            ]
          },
          "metadata": {
            "tags": []
          },
          "execution_count": 23
        }
      ]
    },
    {
      "cell_type": "code",
      "metadata": {
        "id": "bPuLatpizdjL",
        "colab_type": "code",
        "colab": {
          "base_uri": "https://localhost:8080/",
          "height": 0
        },
        "outputId": "37fd635d-4d65-4098-aa36-4b81c1e951c5"
      },
      "source": [
        "remax_df = featureGeneration(remax_df)\n",
        "remax_df.head()"
      ],
      "execution_count": 24,
      "outputs": [
        {
          "output_type": "execute_result",
          "data": {
            "text/html": [
              "<div>\n",
              "<style scoped>\n",
              "    .dataframe tbody tr th:only-of-type {\n",
              "        vertical-align: middle;\n",
              "    }\n",
              "\n",
              "    .dataframe tbody tr th {\n",
              "        vertical-align: top;\n",
              "    }\n",
              "\n",
              "    .dataframe thead th {\n",
              "        text-align: right;\n",
              "    }\n",
              "</style>\n",
              "<table border=\"1\" class=\"dataframe\">\n",
              "  <thead>\n",
              "    <tr style=\"text-align: right;\">\n",
              "      <th></th>\n",
              "      <th>Description</th>\n",
              "      <th>Bedrooms</th>\n",
              "      <th>HouseType</th>\n",
              "      <th>Suburb</th>\n",
              "      <th>Income</th>\n",
              "      <th>Price</th>\n",
              "    </tr>\n",
              "  </thead>\n",
              "  <tbody>\n",
              "    <tr>\n",
              "      <th>0</th>\n",
              "      <td>5 Bedroom House</td>\n",
              "      <td>5</td>\n",
              "      <td>House</td>\n",
              "      <td>Other</td>\n",
              "      <td>2</td>\n",
              "      <td>R1 790 000</td>\n",
              "    </tr>\n",
              "    <tr>\n",
              "      <th>1</th>\n",
              "      <td>3 Bedroom Townhouse</td>\n",
              "      <td>3</td>\n",
              "      <td>Townhouse</td>\n",
              "      <td>Kenilworth</td>\n",
              "      <td>2</td>\n",
              "      <td>R2 775 000</td>\n",
              "    </tr>\n",
              "    <tr>\n",
              "      <th>2</th>\n",
              "      <td>4 Bedroom House</td>\n",
              "      <td>4</td>\n",
              "      <td>House</td>\n",
              "      <td>Other</td>\n",
              "      <td>2</td>\n",
              "      <td>R2 700 000</td>\n",
              "    </tr>\n",
              "    <tr>\n",
              "      <th>3</th>\n",
              "      <td>4 Bedroom House</td>\n",
              "      <td>4</td>\n",
              "      <td>House</td>\n",
              "      <td>Other</td>\n",
              "      <td>2</td>\n",
              "      <td>R2 600 000</td>\n",
              "    </tr>\n",
              "    <tr>\n",
              "      <th>4</th>\n",
              "      <td>3 Bedroom House</td>\n",
              "      <td>3</td>\n",
              "      <td>House</td>\n",
              "      <td>Other</td>\n",
              "      <td>2</td>\n",
              "      <td>R1 495 000</td>\n",
              "    </tr>\n",
              "  </tbody>\n",
              "</table>\n",
              "</div>"
            ],
            "text/plain": [
              "           Description Bedrooms  HouseType      Suburb  Income       Price\n",
              "0      5 Bedroom House        5      House       Other       2  R1 790 000\n",
              "1  3 Bedroom Townhouse        3  Townhouse  Kenilworth       2  R2 775 000\n",
              "2      4 Bedroom House        4      House       Other       2  R2 700 000\n",
              "3      4 Bedroom House        4      House       Other       2  R2 600 000\n",
              "4      3 Bedroom House        3      House       Other       2  R1 495 000"
            ]
          },
          "metadata": {
            "tags": []
          },
          "execution_count": 24
        }
      ]
    },
    {
      "cell_type": "code",
      "metadata": {
        "id": "WZFJQeNOoFZ1",
        "colab_type": "code",
        "colab": {
          "base_uri": "https://localhost:8080/",
          "height": 0
        },
        "outputId": "66f6309b-04af-46d9-c0a5-b827b5969ca0"
      },
      "source": [
        "priv_df.describe()"
      ],
      "execution_count": 25,
      "outputs": [
        {
          "output_type": "execute_result",
          "data": {
            "text/html": [
              "<div>\n",
              "<style scoped>\n",
              "    .dataframe tbody tr th:only-of-type {\n",
              "        vertical-align: middle;\n",
              "    }\n",
              "\n",
              "    .dataframe tbody tr th {\n",
              "        vertical-align: top;\n",
              "    }\n",
              "\n",
              "    .dataframe thead th {\n",
              "        text-align: right;\n",
              "    }\n",
              "</style>\n",
              "<table border=\"1\" class=\"dataframe\">\n",
              "  <thead>\n",
              "    <tr style=\"text-align: right;\">\n",
              "      <th></th>\n",
              "      <th>Income</th>\n",
              "    </tr>\n",
              "  </thead>\n",
              "  <tbody>\n",
              "    <tr>\n",
              "      <th>count</th>\n",
              "      <td>5141.000000</td>\n",
              "    </tr>\n",
              "    <tr>\n",
              "      <th>mean</th>\n",
              "      <td>2.063023</td>\n",
              "    </tr>\n",
              "    <tr>\n",
              "      <th>std</th>\n",
              "      <td>0.354949</td>\n",
              "    </tr>\n",
              "    <tr>\n",
              "      <th>min</th>\n",
              "      <td>1.000000</td>\n",
              "    </tr>\n",
              "    <tr>\n",
              "      <th>25%</th>\n",
              "      <td>2.000000</td>\n",
              "    </tr>\n",
              "    <tr>\n",
              "      <th>50%</th>\n",
              "      <td>2.000000</td>\n",
              "    </tr>\n",
              "    <tr>\n",
              "      <th>75%</th>\n",
              "      <td>2.000000</td>\n",
              "    </tr>\n",
              "    <tr>\n",
              "      <th>max</th>\n",
              "      <td>3.000000</td>\n",
              "    </tr>\n",
              "  </tbody>\n",
              "</table>\n",
              "</div>"
            ],
            "text/plain": [
              "            Income\n",
              "count  5141.000000\n",
              "mean      2.063023\n",
              "std       0.354949\n",
              "min       1.000000\n",
              "25%       2.000000\n",
              "50%       2.000000\n",
              "75%       2.000000\n",
              "max       3.000000"
            ]
          },
          "metadata": {
            "tags": []
          },
          "execution_count": 25
        }
      ]
    },
    {
      "cell_type": "code",
      "metadata": {
        "id": "IgdF4KdgmTpd",
        "colab_type": "code",
        "colab": {
          "base_uri": "https://localhost:8080/",
          "height": 0
        },
        "outputId": "35805157-a4c1-40e9-a488-22a407795a73"
      },
      "source": [
        "priv_df.Price.value_counts()"
      ],
      "execution_count": 26,
      "outputs": [
        {
          "output_type": "execute_result",
          "data": {
            "text/plain": [
              "Sold           317\n",
              "R 2 495 000     68\n",
              "R 1 350 000     67\n",
              "R 2 995 000     57\n",
              "R 1 850 000     53\n",
              "              ... \n",
              "R 1 995 002      1\n",
              "R 2 440 000      1\n",
              "R 3 525 000      1\n",
              "R 2 245 000      1\n",
              "R 815 000        1\n",
              "Name: Price, Length: 948, dtype: int64"
            ]
          },
          "metadata": {
            "tags": []
          },
          "execution_count": 26
        }
      ]
    },
    {
      "cell_type": "code",
      "metadata": {
        "id": "5Q1xLN8TN6ks",
        "colab_type": "code",
        "colab": {
          "base_uri": "https://localhost:8080/",
          "height": 0
        },
        "outputId": "3b985d14-4358-4373-8453-d237978511af"
      },
      "source": [
        "priv_df.info()"
      ],
      "execution_count": 27,
      "outputs": [
        {
          "output_type": "stream",
          "text": [
            "<class 'pandas.core.frame.DataFrame'>\n",
            "Int64Index: 5141 entries, 3 to 6419\n",
            "Data columns (total 6 columns):\n",
            " #   Column       Non-Null Count  Dtype \n",
            "---  ------       --------------  ----- \n",
            " 0   Description  5141 non-null   object\n",
            " 1   Bedrooms     5141 non-null   object\n",
            " 2   HouseType    5141 non-null   object\n",
            " 3   Suburb       5141 non-null   object\n",
            " 4   Income       5141 non-null   int64 \n",
            " 5   Price        5141 non-null   object\n",
            "dtypes: int64(1), object(5)\n",
            "memory usage: 281.1+ KB\n"
          ],
          "name": "stdout"
        }
      ]
    },
    {
      "cell_type": "markdown",
      "metadata": {
        "id": "m0huPJ1B2JdB",
        "colab_type": "text"
      },
      "source": [
        "## Dropping Columns"
      ]
    },
    {
      "cell_type": "code",
      "metadata": {
        "id": "tJfOl99oOb_L",
        "colab_type": "code",
        "colab": {
          "base_uri": "https://localhost:8080/",
          "height": 0
        },
        "outputId": "226f1479-765d-450f-c1fb-d92baf65a485"
      },
      "source": [
        "p24_df.drop(\"Description\", axis = 1, inplace=True)\n",
        "p24_df.head()"
      ],
      "execution_count": 28,
      "outputs": [
        {
          "output_type": "execute_result",
          "data": {
            "text/html": [
              "<div>\n",
              "<style scoped>\n",
              "    .dataframe tbody tr th:only-of-type {\n",
              "        vertical-align: middle;\n",
              "    }\n",
              "\n",
              "    .dataframe tbody tr th {\n",
              "        vertical-align: top;\n",
              "    }\n",
              "\n",
              "    .dataframe thead th {\n",
              "        text-align: right;\n",
              "    }\n",
              "</style>\n",
              "<table border=\"1\" class=\"dataframe\">\n",
              "  <thead>\n",
              "    <tr style=\"text-align: right;\">\n",
              "      <th></th>\n",
              "      <th>Bedrooms</th>\n",
              "      <th>HouseType</th>\n",
              "      <th>Suburb</th>\n",
              "      <th>Income</th>\n",
              "      <th>Price</th>\n",
              "    </tr>\n",
              "  </thead>\n",
              "  <tbody>\n",
              "    <tr>\n",
              "      <th>0</th>\n",
              "      <td>1</td>\n",
              "      <td>Apartment</td>\n",
              "      <td>Muizenberg</td>\n",
              "      <td>2</td>\n",
              "      <td>R 3 500 000</td>\n",
              "    </tr>\n",
              "    <tr>\n",
              "      <th>4</th>\n",
              "      <td>4</td>\n",
              "      <td>House</td>\n",
              "      <td>Other</td>\n",
              "      <td>2</td>\n",
              "      <td>R 995 000</td>\n",
              "    </tr>\n",
              "    <tr>\n",
              "      <th>6</th>\n",
              "      <td>2</td>\n",
              "      <td>House</td>\n",
              "      <td>Rondebosch</td>\n",
              "      <td>2</td>\n",
              "      <td>R 2 395 000</td>\n",
              "    </tr>\n",
              "    <tr>\n",
              "      <th>7</th>\n",
              "      <td>4</td>\n",
              "      <td>House</td>\n",
              "      <td>Claremont</td>\n",
              "      <td>2</td>\n",
              "      <td>R 19 950 000</td>\n",
              "    </tr>\n",
              "    <tr>\n",
              "      <th>8</th>\n",
              "      <td>1</td>\n",
              "      <td>Apartment</td>\n",
              "      <td>Constantia</td>\n",
              "      <td>2</td>\n",
              "      <td>R 795 000</td>\n",
              "    </tr>\n",
              "  </tbody>\n",
              "</table>\n",
              "</div>"
            ],
            "text/plain": [
              "  Bedrooms  HouseType      Suburb  Income         Price\n",
              "0        1  Apartment  Muizenberg       2   R 3 500 000\n",
              "4        4      House       Other       2     R 995 000\n",
              "6        2      House  Rondebosch       2   R 2 395 000\n",
              "7        4      House   Claremont       2  R 19 950 000\n",
              "8        1  Apartment  Constantia       2     R 795 000"
            ]
          },
          "metadata": {
            "tags": []
          },
          "execution_count": 28
        }
      ]
    },
    {
      "cell_type": "code",
      "metadata": {
        "id": "AA_14Wbd2EkS",
        "colab_type": "code",
        "colab": {
          "base_uri": "https://localhost:8080/",
          "height": 0
        },
        "outputId": "fa26e920-4916-470a-8f02-4fe21f8a5875"
      },
      "source": [
        "remax_df.drop(\"Description\", axis = 1, inplace=True)\n",
        "remax_df.head()"
      ],
      "execution_count": 29,
      "outputs": [
        {
          "output_type": "execute_result",
          "data": {
            "text/html": [
              "<div>\n",
              "<style scoped>\n",
              "    .dataframe tbody tr th:only-of-type {\n",
              "        vertical-align: middle;\n",
              "    }\n",
              "\n",
              "    .dataframe tbody tr th {\n",
              "        vertical-align: top;\n",
              "    }\n",
              "\n",
              "    .dataframe thead th {\n",
              "        text-align: right;\n",
              "    }\n",
              "</style>\n",
              "<table border=\"1\" class=\"dataframe\">\n",
              "  <thead>\n",
              "    <tr style=\"text-align: right;\">\n",
              "      <th></th>\n",
              "      <th>Bedrooms</th>\n",
              "      <th>HouseType</th>\n",
              "      <th>Suburb</th>\n",
              "      <th>Income</th>\n",
              "      <th>Price</th>\n",
              "    </tr>\n",
              "  </thead>\n",
              "  <tbody>\n",
              "    <tr>\n",
              "      <th>0</th>\n",
              "      <td>5</td>\n",
              "      <td>House</td>\n",
              "      <td>Other</td>\n",
              "      <td>2</td>\n",
              "      <td>R1 790 000</td>\n",
              "    </tr>\n",
              "    <tr>\n",
              "      <th>1</th>\n",
              "      <td>3</td>\n",
              "      <td>Townhouse</td>\n",
              "      <td>Kenilworth</td>\n",
              "      <td>2</td>\n",
              "      <td>R2 775 000</td>\n",
              "    </tr>\n",
              "    <tr>\n",
              "      <th>2</th>\n",
              "      <td>4</td>\n",
              "      <td>House</td>\n",
              "      <td>Other</td>\n",
              "      <td>2</td>\n",
              "      <td>R2 700 000</td>\n",
              "    </tr>\n",
              "    <tr>\n",
              "      <th>3</th>\n",
              "      <td>4</td>\n",
              "      <td>House</td>\n",
              "      <td>Other</td>\n",
              "      <td>2</td>\n",
              "      <td>R2 600 000</td>\n",
              "    </tr>\n",
              "    <tr>\n",
              "      <th>4</th>\n",
              "      <td>3</td>\n",
              "      <td>House</td>\n",
              "      <td>Other</td>\n",
              "      <td>2</td>\n",
              "      <td>R1 495 000</td>\n",
              "    </tr>\n",
              "  </tbody>\n",
              "</table>\n",
              "</div>"
            ],
            "text/plain": [
              "  Bedrooms  HouseType      Suburb  Income       Price\n",
              "0        5      House       Other       2  R1 790 000\n",
              "1        3  Townhouse  Kenilworth       2  R2 775 000\n",
              "2        4      House       Other       2  R2 700 000\n",
              "3        4      House       Other       2  R2 600 000\n",
              "4        3      House       Other       2  R1 495 000"
            ]
          },
          "metadata": {
            "tags": []
          },
          "execution_count": 29
        }
      ]
    },
    {
      "cell_type": "code",
      "metadata": {
        "id": "UoggpV0AHPF2",
        "colab_type": "code",
        "colab": {
          "base_uri": "https://localhost:8080/",
          "height": 0
        },
        "outputId": "e7e96cee-5b22-40d4-9220-fce3f61a81c3"
      },
      "source": [
        "priv_df.drop(\"Description\", axis = 1, inplace=True)\n",
        "priv_df.head()"
      ],
      "execution_count": 30,
      "outputs": [
        {
          "output_type": "execute_result",
          "data": {
            "text/html": [
              "<div>\n",
              "<style scoped>\n",
              "    .dataframe tbody tr th:only-of-type {\n",
              "        vertical-align: middle;\n",
              "    }\n",
              "\n",
              "    .dataframe tbody tr th {\n",
              "        vertical-align: top;\n",
              "    }\n",
              "\n",
              "    .dataframe thead th {\n",
              "        text-align: right;\n",
              "    }\n",
              "</style>\n",
              "<table border=\"1\" class=\"dataframe\">\n",
              "  <thead>\n",
              "    <tr style=\"text-align: right;\">\n",
              "      <th></th>\n",
              "      <th>Bedrooms</th>\n",
              "      <th>HouseType</th>\n",
              "      <th>Suburb</th>\n",
              "      <th>Income</th>\n",
              "      <th>Price</th>\n",
              "    </tr>\n",
              "  </thead>\n",
              "  <tbody>\n",
              "    <tr>\n",
              "      <th>3</th>\n",
              "      <td>2</td>\n",
              "      <td>House</td>\n",
              "      <td>Other</td>\n",
              "      <td>2</td>\n",
              "      <td>R 8 500 000</td>\n",
              "    </tr>\n",
              "    <tr>\n",
              "      <th>4</th>\n",
              "      <td>4</td>\n",
              "      <td>House</td>\n",
              "      <td>Bantry Bay</td>\n",
              "      <td>3</td>\n",
              "      <td>R 3 500 000</td>\n",
              "    </tr>\n",
              "    <tr>\n",
              "      <th>5</th>\n",
              "      <td>5</td>\n",
              "      <td>House</td>\n",
              "      <td>Sea Point</td>\n",
              "      <td>3</td>\n",
              "      <td>R 15 999 000</td>\n",
              "    </tr>\n",
              "    <tr>\n",
              "      <th>6</th>\n",
              "      <td>1</td>\n",
              "      <td>Apartment</td>\n",
              "      <td>Other</td>\n",
              "      <td>2</td>\n",
              "      <td>R 12 995 000</td>\n",
              "    </tr>\n",
              "    <tr>\n",
              "      <th>7</th>\n",
              "      <td>2</td>\n",
              "      <td>Apartment</td>\n",
              "      <td>Sea Point</td>\n",
              "      <td>3</td>\n",
              "      <td>R 1 525 000</td>\n",
              "    </tr>\n",
              "  </tbody>\n",
              "</table>\n",
              "</div>"
            ],
            "text/plain": [
              "  Bedrooms  HouseType      Suburb  Income         Price\n",
              "3        2      House       Other       2   R 8 500 000\n",
              "4        4      House  Bantry Bay       3   R 3 500 000\n",
              "5        5      House   Sea Point       3  R 15 999 000\n",
              "6        1  Apartment       Other       2  R 12 995 000\n",
              "7        2  Apartment   Sea Point       3   R 1 525 000"
            ]
          },
          "metadata": {
            "tags": []
          },
          "execution_count": 30
        }
      ]
    },
    {
      "cell_type": "code",
      "metadata": {
        "id": "NmVv3OizHYLD",
        "colab_type": "code",
        "colab": {
          "base_uri": "https://localhost:8080/",
          "height": 0
        },
        "outputId": "bdeaeb8d-78a9-4cb0-cc80-33df16579547"
      },
      "source": [
        "priv_df.HouseType.value_counts()"
      ],
      "execution_count": 31,
      "outputs": [
        {
          "output_type": "execute_result",
          "data": {
            "text/plain": [
              "House        2971\n",
              "Apartment    1802\n",
              "Townhouse     259\n",
              "Duplex         50\n",
              "Flat           40\n",
              "Cluster        10\n",
              "Penthouse       8\n",
              "Simplex         1\n",
              "Name: HouseType, dtype: int64"
            ]
          },
          "metadata": {
            "tags": []
          },
          "execution_count": 31
        }
      ]
    },
    {
      "cell_type": "code",
      "metadata": {
        "id": "h29Rkaqa3xLE",
        "colab_type": "code",
        "colab": {}
      },
      "source": [
        "remax_df.replace(\"Flat\", \"Apartment\", inplace = True)"
      ],
      "execution_count": 32,
      "outputs": []
    },
    {
      "cell_type": "code",
      "metadata": {
        "id": "fpxy182qS67L",
        "colab_type": "code",
        "colab": {}
      },
      "source": [
        "priv_df.replace(\"Flat\", \"Apartment\", inplace = True)\n",
        "priv_df.replace(\"Penthouse\", \"Apartment\", inplace = True)\n",
        "priv_df.replace(\"Duplex\", \"Townhouse\", inplace = True)\n",
        "priv_df.replace(\"Simplex\", \"Townhouse\", inplace = True)\n",
        "priv_df.replace(\"Cluster\", \"Townhouse\", inplace = True)\n",
        "\n"
      ],
      "execution_count": 33,
      "outputs": []
    },
    {
      "cell_type": "markdown",
      "metadata": {
        "id": "ROHqxgwGbTox",
        "colab_type": "text"
      },
      "source": [
        "# Data Type Changes"
      ]
    },
    {
      "cell_type": "code",
      "metadata": {
        "id": "LYEQaWgpcIo5",
        "colab_type": "code",
        "colab": {}
      },
      "source": [
        "def fixPrice(df):\n",
        "  \n",
        "  for i, price in enumerate(df[\"Price\"]):\n",
        "    numbers = []\n",
        "    for character in str(price).split():\n",
        "      if character.isdigit():\n",
        "        numbers.append(character)\n",
        "      \n",
        "\n",
        "    df[\"Price\"].iloc[i] = (''.join([str(elem) for elem in numbers]))\n",
        "  \n",
        "  return df"
      ],
      "execution_count": 34,
      "outputs": []
    },
    {
      "cell_type": "code",
      "metadata": {
        "id": "puO3CvwUmMxh",
        "colab_type": "code",
        "colab": {}
      },
      "source": [
        "def catDataType(data):\n",
        "  for feature in data.columns:\n",
        "    if data[feature].dtype == \"object\":\n",
        "      data[feature] = data[feature].astype('category')\n",
        "\n",
        "  return data"
      ],
      "execution_count": 35,
      "outputs": []
    },
    {
      "cell_type": "markdown",
      "metadata": {
        "id": "kHlwDqb44Yhi",
        "colab_type": "text"
      },
      "source": [
        "## Fixing the Price Feature"
      ]
    },
    {
      "cell_type": "code",
      "metadata": {
        "id": "Cf-Z6-gpbitB",
        "colab_type": "code",
        "colab": {
          "base_uri": "https://localhost:8080/",
          "height": 0
        },
        "outputId": "179119b8-5acf-48f3-fcac-7145f5a343dc"
      },
      "source": [
        "p24_df = fixPrice(p24_df)\n",
        "p24_df.head()"
      ],
      "execution_count": 36,
      "outputs": [
        {
          "output_type": "stream",
          "text": [
            "/usr/local/lib/python3.6/dist-packages/pandas/core/indexing.py:671: SettingWithCopyWarning: \n",
            "A value is trying to be set on a copy of a slice from a DataFrame\n",
            "\n",
            "See the caveats in the documentation: https://pandas.pydata.org/pandas-docs/stable/user_guide/indexing.html#returning-a-view-versus-a-copy\n",
            "  self._setitem_with_indexer(indexer, value)\n"
          ],
          "name": "stderr"
        },
        {
          "output_type": "execute_result",
          "data": {
            "text/html": [
              "<div>\n",
              "<style scoped>\n",
              "    .dataframe tbody tr th:only-of-type {\n",
              "        vertical-align: middle;\n",
              "    }\n",
              "\n",
              "    .dataframe tbody tr th {\n",
              "        vertical-align: top;\n",
              "    }\n",
              "\n",
              "    .dataframe thead th {\n",
              "        text-align: right;\n",
              "    }\n",
              "</style>\n",
              "<table border=\"1\" class=\"dataframe\">\n",
              "  <thead>\n",
              "    <tr style=\"text-align: right;\">\n",
              "      <th></th>\n",
              "      <th>Bedrooms</th>\n",
              "      <th>HouseType</th>\n",
              "      <th>Suburb</th>\n",
              "      <th>Income</th>\n",
              "      <th>Price</th>\n",
              "    </tr>\n",
              "  </thead>\n",
              "  <tbody>\n",
              "    <tr>\n",
              "      <th>0</th>\n",
              "      <td>1</td>\n",
              "      <td>Apartment</td>\n",
              "      <td>Muizenberg</td>\n",
              "      <td>2</td>\n",
              "      <td>3500000</td>\n",
              "    </tr>\n",
              "    <tr>\n",
              "      <th>4</th>\n",
              "      <td>4</td>\n",
              "      <td>House</td>\n",
              "      <td>Other</td>\n",
              "      <td>2</td>\n",
              "      <td>995000</td>\n",
              "    </tr>\n",
              "    <tr>\n",
              "      <th>6</th>\n",
              "      <td>2</td>\n",
              "      <td>House</td>\n",
              "      <td>Rondebosch</td>\n",
              "      <td>2</td>\n",
              "      <td>2395000</td>\n",
              "    </tr>\n",
              "    <tr>\n",
              "      <th>7</th>\n",
              "      <td>4</td>\n",
              "      <td>House</td>\n",
              "      <td>Claremont</td>\n",
              "      <td>2</td>\n",
              "      <td>19950000</td>\n",
              "    </tr>\n",
              "    <tr>\n",
              "      <th>8</th>\n",
              "      <td>1</td>\n",
              "      <td>Apartment</td>\n",
              "      <td>Constantia</td>\n",
              "      <td>2</td>\n",
              "      <td>795000</td>\n",
              "    </tr>\n",
              "  </tbody>\n",
              "</table>\n",
              "</div>"
            ],
            "text/plain": [
              "  Bedrooms  HouseType      Suburb  Income     Price\n",
              "0        1  Apartment  Muizenberg       2   3500000\n",
              "4        4      House       Other       2    995000\n",
              "6        2      House  Rondebosch       2   2395000\n",
              "7        4      House   Claremont       2  19950000\n",
              "8        1  Apartment  Constantia       2    795000"
            ]
          },
          "metadata": {
            "tags": []
          },
          "execution_count": 36
        }
      ]
    },
    {
      "cell_type": "code",
      "metadata": {
        "id": "i_x5wb5_4Wjj",
        "colab_type": "code",
        "colab": {
          "base_uri": "https://localhost:8080/",
          "height": 0
        },
        "outputId": "055f48fe-1552-496b-f4d6-639199c74355"
      },
      "source": [
        "remax_df = fixPrice(remax_df)\n",
        "remax_df.head()"
      ],
      "execution_count": 37,
      "outputs": [
        {
          "output_type": "stream",
          "text": [
            "/usr/local/lib/python3.6/dist-packages/pandas/core/indexing.py:671: SettingWithCopyWarning: \n",
            "A value is trying to be set on a copy of a slice from a DataFrame\n",
            "\n",
            "See the caveats in the documentation: https://pandas.pydata.org/pandas-docs/stable/user_guide/indexing.html#returning-a-view-versus-a-copy\n",
            "  self._setitem_with_indexer(indexer, value)\n"
          ],
          "name": "stderr"
        },
        {
          "output_type": "execute_result",
          "data": {
            "text/html": [
              "<div>\n",
              "<style scoped>\n",
              "    .dataframe tbody tr th:only-of-type {\n",
              "        vertical-align: middle;\n",
              "    }\n",
              "\n",
              "    .dataframe tbody tr th {\n",
              "        vertical-align: top;\n",
              "    }\n",
              "\n",
              "    .dataframe thead th {\n",
              "        text-align: right;\n",
              "    }\n",
              "</style>\n",
              "<table border=\"1\" class=\"dataframe\">\n",
              "  <thead>\n",
              "    <tr style=\"text-align: right;\">\n",
              "      <th></th>\n",
              "      <th>Bedrooms</th>\n",
              "      <th>HouseType</th>\n",
              "      <th>Suburb</th>\n",
              "      <th>Income</th>\n",
              "      <th>Price</th>\n",
              "    </tr>\n",
              "  </thead>\n",
              "  <tbody>\n",
              "    <tr>\n",
              "      <th>0</th>\n",
              "      <td>5</td>\n",
              "      <td>House</td>\n",
              "      <td>Other</td>\n",
              "      <td>2</td>\n",
              "      <td>790000</td>\n",
              "    </tr>\n",
              "    <tr>\n",
              "      <th>1</th>\n",
              "      <td>3</td>\n",
              "      <td>Townhouse</td>\n",
              "      <td>Kenilworth</td>\n",
              "      <td>2</td>\n",
              "      <td>775000</td>\n",
              "    </tr>\n",
              "    <tr>\n",
              "      <th>2</th>\n",
              "      <td>4</td>\n",
              "      <td>House</td>\n",
              "      <td>Other</td>\n",
              "      <td>2</td>\n",
              "      <td>700000</td>\n",
              "    </tr>\n",
              "    <tr>\n",
              "      <th>3</th>\n",
              "      <td>4</td>\n",
              "      <td>House</td>\n",
              "      <td>Other</td>\n",
              "      <td>2</td>\n",
              "      <td>600000</td>\n",
              "    </tr>\n",
              "    <tr>\n",
              "      <th>4</th>\n",
              "      <td>3</td>\n",
              "      <td>House</td>\n",
              "      <td>Other</td>\n",
              "      <td>2</td>\n",
              "      <td>495000</td>\n",
              "    </tr>\n",
              "  </tbody>\n",
              "</table>\n",
              "</div>"
            ],
            "text/plain": [
              "  Bedrooms  HouseType      Suburb  Income   Price\n",
              "0        5      House       Other       2  790000\n",
              "1        3  Townhouse  Kenilworth       2  775000\n",
              "2        4      House       Other       2  700000\n",
              "3        4      House       Other       2  600000\n",
              "4        3      House       Other       2  495000"
            ]
          },
          "metadata": {
            "tags": []
          },
          "execution_count": 37
        }
      ]
    },
    {
      "cell_type": "code",
      "metadata": {
        "id": "gEAaejPMIGsJ",
        "colab_type": "code",
        "colab": {
          "base_uri": "https://localhost:8080/",
          "height": 0
        },
        "outputId": "7e0ecbf9-8b60-415d-9930-12ace7093534"
      },
      "source": [
        "priv_df = fixPrice(priv_df)\n",
        "priv_df.head()"
      ],
      "execution_count": 38,
      "outputs": [
        {
          "output_type": "stream",
          "text": [
            "/usr/local/lib/python3.6/dist-packages/pandas/core/indexing.py:671: SettingWithCopyWarning: \n",
            "A value is trying to be set on a copy of a slice from a DataFrame\n",
            "\n",
            "See the caveats in the documentation: https://pandas.pydata.org/pandas-docs/stable/user_guide/indexing.html#returning-a-view-versus-a-copy\n",
            "  self._setitem_with_indexer(indexer, value)\n"
          ],
          "name": "stderr"
        },
        {
          "output_type": "execute_result",
          "data": {
            "text/html": [
              "<div>\n",
              "<style scoped>\n",
              "    .dataframe tbody tr th:only-of-type {\n",
              "        vertical-align: middle;\n",
              "    }\n",
              "\n",
              "    .dataframe tbody tr th {\n",
              "        vertical-align: top;\n",
              "    }\n",
              "\n",
              "    .dataframe thead th {\n",
              "        text-align: right;\n",
              "    }\n",
              "</style>\n",
              "<table border=\"1\" class=\"dataframe\">\n",
              "  <thead>\n",
              "    <tr style=\"text-align: right;\">\n",
              "      <th></th>\n",
              "      <th>Bedrooms</th>\n",
              "      <th>HouseType</th>\n",
              "      <th>Suburb</th>\n",
              "      <th>Income</th>\n",
              "      <th>Price</th>\n",
              "    </tr>\n",
              "  </thead>\n",
              "  <tbody>\n",
              "    <tr>\n",
              "      <th>3</th>\n",
              "      <td>2</td>\n",
              "      <td>House</td>\n",
              "      <td>Other</td>\n",
              "      <td>2</td>\n",
              "      <td>8500000</td>\n",
              "    </tr>\n",
              "    <tr>\n",
              "      <th>4</th>\n",
              "      <td>4</td>\n",
              "      <td>House</td>\n",
              "      <td>Bantry Bay</td>\n",
              "      <td>3</td>\n",
              "      <td>3500000</td>\n",
              "    </tr>\n",
              "    <tr>\n",
              "      <th>5</th>\n",
              "      <td>5</td>\n",
              "      <td>House</td>\n",
              "      <td>Sea Point</td>\n",
              "      <td>3</td>\n",
              "      <td>15999000</td>\n",
              "    </tr>\n",
              "    <tr>\n",
              "      <th>6</th>\n",
              "      <td>1</td>\n",
              "      <td>Apartment</td>\n",
              "      <td>Other</td>\n",
              "      <td>2</td>\n",
              "      <td>12995000</td>\n",
              "    </tr>\n",
              "    <tr>\n",
              "      <th>7</th>\n",
              "      <td>2</td>\n",
              "      <td>Apartment</td>\n",
              "      <td>Sea Point</td>\n",
              "      <td>3</td>\n",
              "      <td>1525000</td>\n",
              "    </tr>\n",
              "  </tbody>\n",
              "</table>\n",
              "</div>"
            ],
            "text/plain": [
              "  Bedrooms  HouseType      Suburb  Income     Price\n",
              "3        2      House       Other       2   8500000\n",
              "4        4      House  Bantry Bay       3   3500000\n",
              "5        5      House   Sea Point       3  15999000\n",
              "6        1  Apartment       Other       2  12995000\n",
              "7        2  Apartment   Sea Point       3   1525000"
            ]
          },
          "metadata": {
            "tags": []
          },
          "execution_count": 38
        }
      ]
    },
    {
      "cell_type": "code",
      "metadata": {
        "id": "H7aZMfFCUxo-",
        "colab_type": "code",
        "colab": {
          "base_uri": "https://localhost:8080/",
          "height": 0
        },
        "outputId": "3301cc06-ec91-4313-e8fb-42e2f8b1e6e2"
      },
      "source": [
        "priv_df.describe()"
      ],
      "execution_count": 39,
      "outputs": [
        {
          "output_type": "execute_result",
          "data": {
            "text/html": [
              "<div>\n",
              "<style scoped>\n",
              "    .dataframe tbody tr th:only-of-type {\n",
              "        vertical-align: middle;\n",
              "    }\n",
              "\n",
              "    .dataframe tbody tr th {\n",
              "        vertical-align: top;\n",
              "    }\n",
              "\n",
              "    .dataframe thead th {\n",
              "        text-align: right;\n",
              "    }\n",
              "</style>\n",
              "<table border=\"1\" class=\"dataframe\">\n",
              "  <thead>\n",
              "    <tr style=\"text-align: right;\">\n",
              "      <th></th>\n",
              "      <th>Income</th>\n",
              "    </tr>\n",
              "  </thead>\n",
              "  <tbody>\n",
              "    <tr>\n",
              "      <th>count</th>\n",
              "      <td>5141.000000</td>\n",
              "    </tr>\n",
              "    <tr>\n",
              "      <th>mean</th>\n",
              "      <td>2.063023</td>\n",
              "    </tr>\n",
              "    <tr>\n",
              "      <th>std</th>\n",
              "      <td>0.354949</td>\n",
              "    </tr>\n",
              "    <tr>\n",
              "      <th>min</th>\n",
              "      <td>1.000000</td>\n",
              "    </tr>\n",
              "    <tr>\n",
              "      <th>25%</th>\n",
              "      <td>2.000000</td>\n",
              "    </tr>\n",
              "    <tr>\n",
              "      <th>50%</th>\n",
              "      <td>2.000000</td>\n",
              "    </tr>\n",
              "    <tr>\n",
              "      <th>75%</th>\n",
              "      <td>2.000000</td>\n",
              "    </tr>\n",
              "    <tr>\n",
              "      <th>max</th>\n",
              "      <td>3.000000</td>\n",
              "    </tr>\n",
              "  </tbody>\n",
              "</table>\n",
              "</div>"
            ],
            "text/plain": [
              "            Income\n",
              "count  5141.000000\n",
              "mean      2.063023\n",
              "std       0.354949\n",
              "min       1.000000\n",
              "25%       2.000000\n",
              "50%       2.000000\n",
              "75%       2.000000\n",
              "max       3.000000"
            ]
          },
          "metadata": {
            "tags": []
          },
          "execution_count": 39
        }
      ]
    },
    {
      "cell_type": "markdown",
      "metadata": {
        "id": "M_ObDE4d4yMC",
        "colab_type": "text"
      },
      "source": [
        "## Replacing Blank Price Values"
      ]
    },
    {
      "cell_type": "code",
      "metadata": {
        "id": "d2qxZh6uhNUE",
        "colab_type": "code",
        "colab": {}
      },
      "source": [
        "p24_df.Price = p24_df.Price.replace('',None)\n",
        "remax_df.Price = remax_df.Price.replace('',None)\n",
        "priv_df.Price = priv_df.Price.replace('',None)"
      ],
      "execution_count": 40,
      "outputs": []
    },
    {
      "cell_type": "code",
      "metadata": {
        "id": "XkEz5uzZVGFT",
        "colab_type": "code",
        "colab": {
          "base_uri": "https://localhost:8080/",
          "height": 0
        },
        "outputId": "d84ed23c-a19e-4d24-b8ea-2bf626758aa0"
      },
      "source": [
        "priv_df.describe()"
      ],
      "execution_count": 41,
      "outputs": [
        {
          "output_type": "execute_result",
          "data": {
            "text/html": [
              "<div>\n",
              "<style scoped>\n",
              "    .dataframe tbody tr th:only-of-type {\n",
              "        vertical-align: middle;\n",
              "    }\n",
              "\n",
              "    .dataframe tbody tr th {\n",
              "        vertical-align: top;\n",
              "    }\n",
              "\n",
              "    .dataframe thead th {\n",
              "        text-align: right;\n",
              "    }\n",
              "</style>\n",
              "<table border=\"1\" class=\"dataframe\">\n",
              "  <thead>\n",
              "    <tr style=\"text-align: right;\">\n",
              "      <th></th>\n",
              "      <th>Income</th>\n",
              "    </tr>\n",
              "  </thead>\n",
              "  <tbody>\n",
              "    <tr>\n",
              "      <th>count</th>\n",
              "      <td>5141.000000</td>\n",
              "    </tr>\n",
              "    <tr>\n",
              "      <th>mean</th>\n",
              "      <td>2.063023</td>\n",
              "    </tr>\n",
              "    <tr>\n",
              "      <th>std</th>\n",
              "      <td>0.354949</td>\n",
              "    </tr>\n",
              "    <tr>\n",
              "      <th>min</th>\n",
              "      <td>1.000000</td>\n",
              "    </tr>\n",
              "    <tr>\n",
              "      <th>25%</th>\n",
              "      <td>2.000000</td>\n",
              "    </tr>\n",
              "    <tr>\n",
              "      <th>50%</th>\n",
              "      <td>2.000000</td>\n",
              "    </tr>\n",
              "    <tr>\n",
              "      <th>75%</th>\n",
              "      <td>2.000000</td>\n",
              "    </tr>\n",
              "    <tr>\n",
              "      <th>max</th>\n",
              "      <td>3.000000</td>\n",
              "    </tr>\n",
              "  </tbody>\n",
              "</table>\n",
              "</div>"
            ],
            "text/plain": [
              "            Income\n",
              "count  5141.000000\n",
              "mean      2.063023\n",
              "std       0.354949\n",
              "min       1.000000\n",
              "25%       2.000000\n",
              "50%       2.000000\n",
              "75%       2.000000\n",
              "max       3.000000"
            ]
          },
          "metadata": {
            "tags": []
          },
          "execution_count": 41
        }
      ]
    },
    {
      "cell_type": "markdown",
      "metadata": {
        "id": "OV9IHnR45DR7",
        "colab_type": "text"
      },
      "source": [
        "## Changing Data Types "
      ]
    },
    {
      "cell_type": "code",
      "metadata": {
        "id": "q-XTkMa0h2nz",
        "colab_type": "code",
        "colab": {
          "base_uri": "https://localhost:8080/",
          "height": 0
        },
        "outputId": "bb79eabf-133b-490c-f4ab-4d6cf7b1353d"
      },
      "source": [
        "p24_df.Price = p24_df.Price.astype(float)\n",
        "p24_df.Bedrooms = p24_df.Bedrooms.astype(int)\n",
        "p24_df.head()"
      ],
      "execution_count": 42,
      "outputs": [
        {
          "output_type": "execute_result",
          "data": {
            "text/html": [
              "<div>\n",
              "<style scoped>\n",
              "    .dataframe tbody tr th:only-of-type {\n",
              "        vertical-align: middle;\n",
              "    }\n",
              "\n",
              "    .dataframe tbody tr th {\n",
              "        vertical-align: top;\n",
              "    }\n",
              "\n",
              "    .dataframe thead th {\n",
              "        text-align: right;\n",
              "    }\n",
              "</style>\n",
              "<table border=\"1\" class=\"dataframe\">\n",
              "  <thead>\n",
              "    <tr style=\"text-align: right;\">\n",
              "      <th></th>\n",
              "      <th>Bedrooms</th>\n",
              "      <th>HouseType</th>\n",
              "      <th>Suburb</th>\n",
              "      <th>Income</th>\n",
              "      <th>Price</th>\n",
              "    </tr>\n",
              "  </thead>\n",
              "  <tbody>\n",
              "    <tr>\n",
              "      <th>0</th>\n",
              "      <td>1</td>\n",
              "      <td>Apartment</td>\n",
              "      <td>Muizenberg</td>\n",
              "      <td>2</td>\n",
              "      <td>3500000.0</td>\n",
              "    </tr>\n",
              "    <tr>\n",
              "      <th>4</th>\n",
              "      <td>4</td>\n",
              "      <td>House</td>\n",
              "      <td>Other</td>\n",
              "      <td>2</td>\n",
              "      <td>995000.0</td>\n",
              "    </tr>\n",
              "    <tr>\n",
              "      <th>6</th>\n",
              "      <td>2</td>\n",
              "      <td>House</td>\n",
              "      <td>Rondebosch</td>\n",
              "      <td>2</td>\n",
              "      <td>2395000.0</td>\n",
              "    </tr>\n",
              "    <tr>\n",
              "      <th>7</th>\n",
              "      <td>4</td>\n",
              "      <td>House</td>\n",
              "      <td>Claremont</td>\n",
              "      <td>2</td>\n",
              "      <td>19950000.0</td>\n",
              "    </tr>\n",
              "    <tr>\n",
              "      <th>8</th>\n",
              "      <td>1</td>\n",
              "      <td>Apartment</td>\n",
              "      <td>Constantia</td>\n",
              "      <td>2</td>\n",
              "      <td>795000.0</td>\n",
              "    </tr>\n",
              "  </tbody>\n",
              "</table>\n",
              "</div>"
            ],
            "text/plain": [
              "   Bedrooms  HouseType      Suburb  Income       Price\n",
              "0         1  Apartment  Muizenberg       2   3500000.0\n",
              "4         4      House       Other       2    995000.0\n",
              "6         2      House  Rondebosch       2   2395000.0\n",
              "7         4      House   Claremont       2  19950000.0\n",
              "8         1  Apartment  Constantia       2    795000.0"
            ]
          },
          "metadata": {
            "tags": []
          },
          "execution_count": 42
        }
      ]
    },
    {
      "cell_type": "code",
      "metadata": {
        "id": "78gB0FPc4wNv",
        "colab_type": "code",
        "colab": {
          "base_uri": "https://localhost:8080/",
          "height": 0
        },
        "outputId": "32fc47b2-f44d-46c0-e6dd-db1ce638ff60"
      },
      "source": [
        "remax_df.Price = remax_df.Price.astype(float)\n",
        "remax_df.Bedrooms = remax_df.Bedrooms.astype(int)\n",
        "remax_df.head()"
      ],
      "execution_count": 43,
      "outputs": [
        {
          "output_type": "execute_result",
          "data": {
            "text/html": [
              "<div>\n",
              "<style scoped>\n",
              "    .dataframe tbody tr th:only-of-type {\n",
              "        vertical-align: middle;\n",
              "    }\n",
              "\n",
              "    .dataframe tbody tr th {\n",
              "        vertical-align: top;\n",
              "    }\n",
              "\n",
              "    .dataframe thead th {\n",
              "        text-align: right;\n",
              "    }\n",
              "</style>\n",
              "<table border=\"1\" class=\"dataframe\">\n",
              "  <thead>\n",
              "    <tr style=\"text-align: right;\">\n",
              "      <th></th>\n",
              "      <th>Bedrooms</th>\n",
              "      <th>HouseType</th>\n",
              "      <th>Suburb</th>\n",
              "      <th>Income</th>\n",
              "      <th>Price</th>\n",
              "    </tr>\n",
              "  </thead>\n",
              "  <tbody>\n",
              "    <tr>\n",
              "      <th>0</th>\n",
              "      <td>5</td>\n",
              "      <td>House</td>\n",
              "      <td>Other</td>\n",
              "      <td>2</td>\n",
              "      <td>790000.0</td>\n",
              "    </tr>\n",
              "    <tr>\n",
              "      <th>1</th>\n",
              "      <td>3</td>\n",
              "      <td>Townhouse</td>\n",
              "      <td>Kenilworth</td>\n",
              "      <td>2</td>\n",
              "      <td>775000.0</td>\n",
              "    </tr>\n",
              "    <tr>\n",
              "      <th>2</th>\n",
              "      <td>4</td>\n",
              "      <td>House</td>\n",
              "      <td>Other</td>\n",
              "      <td>2</td>\n",
              "      <td>700000.0</td>\n",
              "    </tr>\n",
              "    <tr>\n",
              "      <th>3</th>\n",
              "      <td>4</td>\n",
              "      <td>House</td>\n",
              "      <td>Other</td>\n",
              "      <td>2</td>\n",
              "      <td>600000.0</td>\n",
              "    </tr>\n",
              "    <tr>\n",
              "      <th>4</th>\n",
              "      <td>3</td>\n",
              "      <td>House</td>\n",
              "      <td>Other</td>\n",
              "      <td>2</td>\n",
              "      <td>495000.0</td>\n",
              "    </tr>\n",
              "  </tbody>\n",
              "</table>\n",
              "</div>"
            ],
            "text/plain": [
              "   Bedrooms  HouseType      Suburb  Income     Price\n",
              "0         5      House       Other       2  790000.0\n",
              "1         3  Townhouse  Kenilworth       2  775000.0\n",
              "2         4      House       Other       2  700000.0\n",
              "3         4      House       Other       2  600000.0\n",
              "4         3      House       Other       2  495000.0"
            ]
          },
          "metadata": {
            "tags": []
          },
          "execution_count": 43
        }
      ]
    },
    {
      "cell_type": "code",
      "metadata": {
        "id": "Qf0rS4lDIgdW",
        "colab_type": "code",
        "colab": {
          "base_uri": "https://localhost:8080/",
          "height": 0
        },
        "outputId": "5eea1041-97b2-40da-e63e-d6a050772140"
      },
      "source": [
        "priv_df.Price = priv_df.Price.astype(float)\n",
        "priv_df.Bedrooms = priv_df.Bedrooms.astype(int)\n",
        "priv_df.head()"
      ],
      "execution_count": 44,
      "outputs": [
        {
          "output_type": "execute_result",
          "data": {
            "text/html": [
              "<div>\n",
              "<style scoped>\n",
              "    .dataframe tbody tr th:only-of-type {\n",
              "        vertical-align: middle;\n",
              "    }\n",
              "\n",
              "    .dataframe tbody tr th {\n",
              "        vertical-align: top;\n",
              "    }\n",
              "\n",
              "    .dataframe thead th {\n",
              "        text-align: right;\n",
              "    }\n",
              "</style>\n",
              "<table border=\"1\" class=\"dataframe\">\n",
              "  <thead>\n",
              "    <tr style=\"text-align: right;\">\n",
              "      <th></th>\n",
              "      <th>Bedrooms</th>\n",
              "      <th>HouseType</th>\n",
              "      <th>Suburb</th>\n",
              "      <th>Income</th>\n",
              "      <th>Price</th>\n",
              "    </tr>\n",
              "  </thead>\n",
              "  <tbody>\n",
              "    <tr>\n",
              "      <th>3</th>\n",
              "      <td>2</td>\n",
              "      <td>House</td>\n",
              "      <td>Other</td>\n",
              "      <td>2</td>\n",
              "      <td>8500000.0</td>\n",
              "    </tr>\n",
              "    <tr>\n",
              "      <th>4</th>\n",
              "      <td>4</td>\n",
              "      <td>House</td>\n",
              "      <td>Bantry Bay</td>\n",
              "      <td>3</td>\n",
              "      <td>3500000.0</td>\n",
              "    </tr>\n",
              "    <tr>\n",
              "      <th>5</th>\n",
              "      <td>5</td>\n",
              "      <td>House</td>\n",
              "      <td>Sea Point</td>\n",
              "      <td>3</td>\n",
              "      <td>15999000.0</td>\n",
              "    </tr>\n",
              "    <tr>\n",
              "      <th>6</th>\n",
              "      <td>1</td>\n",
              "      <td>Apartment</td>\n",
              "      <td>Other</td>\n",
              "      <td>2</td>\n",
              "      <td>12995000.0</td>\n",
              "    </tr>\n",
              "    <tr>\n",
              "      <th>7</th>\n",
              "      <td>2</td>\n",
              "      <td>Apartment</td>\n",
              "      <td>Sea Point</td>\n",
              "      <td>3</td>\n",
              "      <td>1525000.0</td>\n",
              "    </tr>\n",
              "  </tbody>\n",
              "</table>\n",
              "</div>"
            ],
            "text/plain": [
              "   Bedrooms  HouseType      Suburb  Income       Price\n",
              "3         2      House       Other       2   8500000.0\n",
              "4         4      House  Bantry Bay       3   3500000.0\n",
              "5         5      House   Sea Point       3  15999000.0\n",
              "6         1  Apartment       Other       2  12995000.0\n",
              "7         2  Apartment   Sea Point       3   1525000.0"
            ]
          },
          "metadata": {
            "tags": []
          },
          "execution_count": 44
        }
      ]
    },
    {
      "cell_type": "code",
      "metadata": {
        "id": "WFCfX2rsl9KD",
        "colab_type": "code",
        "colab": {
          "base_uri": "https://localhost:8080/",
          "height": 0
        },
        "outputId": "08c76e8e-d0a9-4c83-f49c-4d9336a12cf0"
      },
      "source": [
        "priv_df.info()"
      ],
      "execution_count": 45,
      "outputs": [
        {
          "output_type": "stream",
          "text": [
            "<class 'pandas.core.frame.DataFrame'>\n",
            "Int64Index: 5141 entries, 3 to 6419\n",
            "Data columns (total 5 columns):\n",
            " #   Column     Non-Null Count  Dtype  \n",
            "---  ------     --------------  -----  \n",
            " 0   Bedrooms   5141 non-null   int64  \n",
            " 1   HouseType  5141 non-null   object \n",
            " 2   Suburb     5141 non-null   object \n",
            " 3   Income     5141 non-null   int64  \n",
            " 4   Price      5141 non-null   float64\n",
            "dtypes: float64(1), int64(2), object(2)\n",
            "memory usage: 241.0+ KB\n"
          ],
          "name": "stdout"
        }
      ]
    },
    {
      "cell_type": "markdown",
      "metadata": {
        "id": "6SBsNHaW5g2V",
        "colab_type": "text"
      },
      "source": [
        "## Change Objects to Categorical Data"
      ]
    },
    {
      "cell_type": "code",
      "metadata": {
        "id": "NpiPx0fEmDXx",
        "colab_type": "code",
        "colab": {}
      },
      "source": [
        "p24_df = catDataType(p24_df)"
      ],
      "execution_count": 46,
      "outputs": []
    },
    {
      "cell_type": "code",
      "metadata": {
        "id": "TAj9BvpR5sgt",
        "colab_type": "code",
        "colab": {}
      },
      "source": [
        "remax_df = catDataType(remax_df)"
      ],
      "execution_count": 47,
      "outputs": []
    },
    {
      "cell_type": "code",
      "metadata": {
        "id": "50L5qyYGPQK2",
        "colab_type": "code",
        "colab": {
          "base_uri": "https://localhost:8080/",
          "height": 0
        },
        "outputId": "c9b24319-a12b-4a13-faec-e3d17d06db5a"
      },
      "source": [
        "remax_df.HouseType.value_counts()"
      ],
      "execution_count": 48,
      "outputs": [
        {
          "output_type": "execute_result",
          "data": {
            "text/plain": [
              "Apartment    597\n",
              "House        566\n",
              "Townhouse     37\n",
              "Name: HouseType, dtype: int64"
            ]
          },
          "metadata": {
            "tags": []
          },
          "execution_count": 48
        }
      ]
    },
    {
      "cell_type": "code",
      "metadata": {
        "id": "2Dkhq-0-It50",
        "colab_type": "code",
        "colab": {}
      },
      "source": [
        "priv_df = catDataType(priv_df)"
      ],
      "execution_count": 49,
      "outputs": []
    },
    {
      "cell_type": "code",
      "metadata": {
        "id": "k-MyigWw0MPA",
        "colab_type": "code",
        "colab": {
          "base_uri": "https://localhost:8080/",
          "height": 0
        },
        "outputId": "9afaba91-e7a4-43a6-b53e-50d36127bcc1"
      },
      "source": [
        "priv_df.HouseType.value_counts()"
      ],
      "execution_count": 50,
      "outputs": [
        {
          "output_type": "execute_result",
          "data": {
            "text/plain": [
              "House        2971\n",
              "Apartment    1850\n",
              "Townhouse     320\n",
              "Name: HouseType, dtype: int64"
            ]
          },
          "metadata": {
            "tags": []
          },
          "execution_count": 50
        }
      ]
    },
    {
      "cell_type": "markdown",
      "metadata": {
        "id": "E2kWFEgeDj2z",
        "colab_type": "text"
      },
      "source": [
        "# Missing Data Code"
      ]
    },
    {
      "cell_type": "code",
      "metadata": {
        "id": "gvVbncRbDsHy",
        "colab_type": "code",
        "colab": {}
      },
      "source": [
        "#Check Missing Values in a Dataset\n",
        "def NACount(data):\n",
        "  NaCount = {}\n",
        "  for feature in data.columns:\n",
        "    NaCount[feature] = data[feature].isna().sum()\n",
        "\n",
        "  return NaCount"
      ],
      "execution_count": 51,
      "outputs": []
    },
    {
      "cell_type": "code",
      "metadata": {
        "id": "3jHv2rl_JFcU",
        "colab_type": "code",
        "colab": {}
      },
      "source": [
        "#Check Unique Values in Training Data\n",
        "def UniqueCount(data):\n",
        "  UnCount = {}\n",
        "  for feature in data.columns:\n",
        "    UnCount[feature] = data[feature].unique()\n",
        "\n",
        "  return UnCount"
      ],
      "execution_count": 52,
      "outputs": []
    },
    {
      "cell_type": "code",
      "metadata": {
        "id": "Rxwjmg5SJJBz",
        "colab_type": "code",
        "colab": {
          "base_uri": "https://localhost:8080/",
          "height": 0
        },
        "outputId": "dc81bb49-245e-45bc-ad94-cd9e7e8cab3f"
      },
      "source": [
        "print(NACount(remax_df))"
      ],
      "execution_count": 53,
      "outputs": [
        {
          "output_type": "stream",
          "text": [
            "{'Bedrooms': 0, 'HouseType': 0, 'Suburb': 0, 'Income': 0, 'Price': 0}\n"
          ],
          "name": "stdout"
        }
      ]
    },
    {
      "cell_type": "code",
      "metadata": {
        "id": "-osYKKKzueRp",
        "colab_type": "code",
        "colab": {
          "base_uri": "https://localhost:8080/",
          "height": 0
        },
        "outputId": "53f4d2f7-4021-47f8-b70e-d183b0d915c6"
      },
      "source": [
        "print(UniqueCount(priv_df))"
      ],
      "execution_count": 54,
      "outputs": [
        {
          "output_type": "stream",
          "text": [
            "{'Bedrooms': array([ 2,  4,  5,  1,  3,  6,  8,  7, 30, 13,  9, 15, 11, 18, 10, 90, 12,\n",
            "       14, 16]), 'HouseType': [House, Apartment, Townhouse]\n",
            "Categories (3, object): [House, Apartment, Townhouse], 'Suburb': [Other, Bantry Bay, Sea Point, Fresnaye, Foreshore, ..., Mowbray, Crawford, Bloubergstrand, Parklands, West Beach]\n",
            "Length: 83\n",
            "Categories (83, object): [Other, Bantry Bay, Sea Point, Fresnaye, ..., Crawford, Bloubergstrand,\n",
            "                          Parklands, West Beach], 'Income': array([2, 3, 1]), 'Price': array([ 8500000.,  3500000., 15999000., 12995000.,  1525000.,  5495000.,\n",
            "        2350000.,  2800000., 23000000., 19995000., 55000000.,  1995000.,\n",
            "        8995000., 13750000.,  1350000.,  1750000.,  5995000.,  3191550.,\n",
            "        4038000.,  6995000.,  3599000., 39950000., 26995000.,  1595000.,\n",
            "        3299000., 23500000., 10695000.,  3750000.,  4200000.,  1950000.,\n",
            "        1550000.,  3895000.,  2100000.,  4195000.,  4795000., 12499000.,\n",
            "       18380000.,  4850000., 11900000., 12500000.,  4450000.,  7992500.,\n",
            "        6400000.,  1626000.,  7995000., 13000000.,  6500000.,  3200000.,\n",
            "       11250000.,  6300000.,  8950000.,  3250000.,  1690000.,  1895000.,\n",
            "        7950000., 14750000., 19800000.,  2850000., 14995000.,  9995000.,\n",
            "       32000000.,  4750000., 10900000.,  4025000.,  3195000.,  4250000.,\n",
            "        6250000.,  2250000., 17950000.,  3799000.,  4950000.,  9899000.,\n",
            "        2495000.,  5195000.,  3499000., 11750000.,  2195000.,  8200000.,\n",
            "        4895000.,  2450000.,  3300000.,  5590000., 16094250.,  2395000.,\n",
            "       17995000.,  2995000.,  3995000., 12950000.,  3900000.,  3589000.,\n",
            "       14890000., 11995000.,  2295000.,  7350000.,  4995000.,  4295000.,\n",
            "       13500000., 16750000.,  3410500.,  5310500., 64700000.,  3395000.,\n",
            "        3100000., 13995000., 10950000.,  5900000.,  4550000.,  2750000.,\n",
            "        3449000., 15250000.,  5950000., 29995000.,  1500000.,  5050000.,\n",
            "       15500000.,  5100000., 11500000.,  1445000.,  3850000.,  3795000.,\n",
            "       24500000., 10500000.,  2650000.,  6200000., 18950000.,  5850000.,\n",
            "        4490000., 65000000.,  1449000.,  2600000., 26000000.,  6780000.,\n",
            "       10995000.,  8750000.,  2695000.,  2220000.,  2150000., 13950000.,\n",
            "        3890000.,  2795000.,  4399000.,  2399000., 45000000., 14944250.,\n",
            "        1599000.,  3325000.,  2550000.,  2615000.,  5500000.,  5330000.,\n",
            "        9495000., 35000000.,  2950000.,  2200000., 11600000.,  6700000.,\n",
            "        1850000., 17000000.,  7500000., 60000000.,  2500000.,  1800000.,\n",
            "        4499000.,  5800000., 10850000., 20000000.,  6800000., 16500000.,\n",
            "        6495000.,  7250000., 12250000.,  4495000.,  1590000.,  3595000.,\n",
            "        3999999., 29000000., 17750000.,  5250000., 25995000.,  5700000.,\n",
            "        4595000.,  3495000.,  3600000.,  3000000., 29900000.,  1600000.,\n",
            "        7900000., 59000000., 40250000., 28000000.,  1795000.,  1625000.,\n",
            "         895000.,  3800000.,  6899000., 14900000.,  4900000., 40000000.,\n",
            "       32500000., 38000000.,  4395000.,  1295000., 24000000.,  3950000.,\n",
            "        8590000.,  2095000.,  9950000.,  1275000.,  8496000.,  3150000.,\n",
            "        1999000., 11950000., 21995000., 19500000.,  5295000.,  4500000.,\n",
            "       10495000.,  2249999., 17500000.,  4800000.,  4990000.,  3999000.,\n",
            "        5300000.,  5290000.,  3390000.,  3400000., 24995000.,  5895000.,\n",
            "       59950000.,  4695000., 22995000.,  7750000.,  2400000.,  2300000.,\n",
            "       21850000., 20500000.,  2599000., 23950000.,  7800000., 19900000.,\n",
            "       18900000.,  3490000., 17250000.,  9750000.,  2499000., 19700000.,\n",
            "       19950000.,  3450000.,  9500000.,  2370000.,  1450000., 27000000.,\n",
            "        7999000., 21950000.,  5395000.,  2999000., 44000000.,  6795000.,\n",
            "       28744250., 12200000., 15525000., 15000000., 14950000., 13800000.,\n",
            "        8169050., 21500000.,  7600000.,  5999000., 15795000., 14000000.,\n",
            "        4464050., 39000000., 34500000., 29500000., 28500000., 19250000.,\n",
            "       37000000.,  2060000.,  3695000.,   850000.,   250000.,   700000.,\n",
            "        4100000.,  4050000.,  1699000.,  1390000.,   560000.,  1250000.,\n",
            "        5975000.,   550000.,   699000.,   500000.,  2099000.,  1395000.,\n",
            "        1630000.,  1798000.,   450000.,  2280000.,  4700000.,   480000.,\n",
            "        8495000.,   950000.,  8450000.,  1200000.,   380000.,  4180000.,\n",
            "        2411000.,  1820000.,  1830000.,  2050000.,  2985000.,   680000.,\n",
            "         750000.,   600000.,  5200000.,  1090000.,   795000.,   690000.,\n",
            "        1495000.,   570000.,   499995.,  1849000.,  4600000.,  1300000.,\n",
            "        1099000.,  4599999.,  1490000.,  1249000.,  2199000.,   900000.,\n",
            "         820000.,   799000.,  2775000.,  3685000.,  1195000.,  3269000.,\n",
            "        3295000.,  1225000.,  2699000.,  1349000.,  2299000.,  4390000.,\n",
            "        3350000.,   350000.,   325000.,  5750000.,   295000.,   930000.,\n",
            "         940000.,   849000.,  1650000.,   390000.,  2545000.,  1399000.,\n",
            "         885000.,  1150000.,  5095000.,   399000.,   299995.,  4580000.,\n",
            "         995000.,  1679000.,   320000.,   549000.,  3650000.,  3780000.,\n",
            "         890000.,   580000.,  2190000.,  1695000.,  4685000.,   495000.,\n",
            "        2475000.,   790000.,   430000.,  2890000.,  2285000.,  1890000.,\n",
            "        2290000.,  1749000.,  1420000.,   775000.,  1375000.,  3095000.,\n",
            "        1775000.,  1575000.,  3590001.,  2249000.,  1400000.,  3700000.,\n",
            "        2000000.,  1050000.,  3020000.,  1569000.,  2900000.,   990000.,\n",
            "         825000.,  2259000.,   675000.,  1799900.,  1580000.,  1998000.,\n",
            "        1480000.,  1330000.,  2390000.,  1920000.,  2590000.,  1970000.,\n",
            "        1310000.,  2320000.,  5600000.,  3670000.,  1270000.,   650000.,\n",
            "        2262000.,  2179000.,  1055000.,  3760000.,  1180000.,  2700000.,\n",
            "        3385000.,  2970000.,  2539000.,  2449000.,  2310000.,  2375100.,\n",
            "        2490000.,   899000.,   630000.,   599000.,   290000.,   695000.,\n",
            "         719000.,   300000.,  9800000.,   485000.,   720000.,   769000.,\n",
            "         435000.,   920000.,   420000.,  1545000.,   975000.,   955000.,\n",
            "         735000.,   520000.,  1790000.,   699999.,   595000.,   490000.,\n",
            "         470000.,   360000.,   860000.,   499000.,  1559000.,   980000.,\n",
            "         400000.,  1175000.,   629000.,   999000.,   780000.,   625000.,\n",
            "         440000.,  5650000.,  1290000.,   899900.,   679900.,   835000.,\n",
            "        1299000.,   840000.,   620000.,   949000.,  1999999.,   535000.,\n",
            "        1485000.,   379000.,   275000.,   970000.,   739000.,  2895000.,\n",
            "         210000.,   649000.,   729999.,  3590000.,  1900000.,  2595000.,\n",
            "        1645000.,  1700000.,  1899000.,  6990000.,  7195000.,  1940000.,\n",
            "        3449999.,  6999000.,  1425000.,  2655000., 10300000.,  1649999.,\n",
            "        4690000., 12495000.,  8000000.,  2175000., 26100000., 18800000.,\n",
            "        4350000.,  2649000.,  2860000.,  2665000.,  5723000.,  1245000.,\n",
            "        1675000., 10350000.,  8900000.,  7795000., 11800000.,  1990000.,\n",
            "       12000000.,  1780000.,  1345000.,  8700000.,  1530000.,  8400000.,\n",
            "        4000000.,  9250000., 23900000.,  2990000.,  8740000., 18200000.,\n",
            "        1099999.,  1320000.,  2745500.,  1100000., 12900000.,  1745000.,\n",
            "        7990000.,  1385000.,  1095000., 12750000.,  1785000.,  6395000.,\n",
            "        7700000.,   899999.,  2245000.,  6950000., 11395000.,  2360000.,\n",
            "        5400000.,  1620000.,  1845000.,  4300000.,  2675000.,  5450000.,\n",
            "        2180000.,  2278800.,  2790000.,  3865000.,  1240000.,  2640000.,\n",
            "        2975000.,  2785000.,  1860000.,  7450000.,  6600000.,  4725000.,\n",
            "        2278000.,  1875000.,  3999995.,  1499000.,  1799000.,  3475000.,\n",
            "       18995000.,  1880000., 75000000.,  1610000.,  2865000.,  1520000.,\n",
            "        9900000., 16900000.,  6000000., 15900000.,  8595000.,  2345000.,\n",
            "        2899000.,  6295000.,   865000.,  1255000.,  2798000.,  4198000.,\n",
            "        2178000.,  2399900.,  2230000.,  4480000.,  1980000.,  4999000.,\n",
            "        3975000.,  7150000.,  8800000.,  1298000.,  4590000.,  3899000.,\n",
            "        3280000.,   770000.,   730000.,  2799000.,  7650000.,  7550000.,\n",
            "        7495000.,  2415000.,  3399000.,  2125000.,  4790000.,  2197001.,\n",
            "        2195001.,  3080000.,   925000.,  5795000.,  2380000.,  1120000.,\n",
            "        2189600., 11495000.,  1549000.,  2430250.,  2434320.,  2349000.,\n",
            "        4150000.,  5570000.,   785000.,  1505000.,  9450000.,  5480000.,\n",
            "        6895000.,  2075000., 10750000.,  4650000.,  2725000.,  1805000.,\n",
            "        2130000.,  2875000.,   475000.,  2599900.,  2145000.,  1360000.,\n",
            "        1770000.,  3199000.,   670000.,  2580000.,  3229000.,  1649000.,\n",
            "        2749000.,  1870000.,  1055702.,  3275000.,   525000.,   610000.,\n",
            "         499999.,   599999.,   830000.,  2980000.,   619500.,  1470000.,\n",
            "        1370000.,  3699000.,  4380000., 22000000.,  7200000.,  6900000.,\n",
            "       12800000.,  3550000.,  5599000.,  9600000.,  4400000.,  5575000.,\n",
            "        5945000.,  1060000., 24800000., 16499000., 14500000.,  3980000.,\n",
            "        5749000., 25000000.,  2083000.,  2133000.,  1943000.,  1449999.,\n",
            "         829999.,  1149500.,   800000.,  1685000.,  2170000.,  1430000.,\n",
            "        1863000.,  2480000.,   645000.,  2499999.,  1380000.,  1125000.,\n",
            "        2485000.,   749000.,   759000.,  1720000.,   805000.,   699500.,\n",
            "         875000.,   815000.,  1165000.,   740000.,   799900.,  1199000.,\n",
            "        1020000.,  1110000.,  1000000.,  3990000.,   935000.,  2149000.,\n",
            "        2330000.,  1570000.,   959000.,  2660000.,   640000.,  3745000.,\n",
            "        3359000.,   299000.,   994900.,   749900.,  4949000.,  1379000.,\n",
            "         979000.,   799999.,  1585000.,  8850000.,  3075000.,  7599000.,\n",
            "        1474000.,  3996000.,  1269000.,  7060000.,  2295001.,  1925000.,\n",
            "        3050000.,  1460000.,  1985000.,  3030500.,  1615000.,  4240000.,\n",
            "        3585000.,  6750000.,  8999000.,  6450000.,  7000000.,  2699900.,\n",
            "        1725000.,  3190000.,  3465000.,  7295000., 18300000.,  3749000.,\n",
            "        8975000.,  1185000.,  9850000.,   755000.,  2425000.,   530000.,\n",
            "        2575000., 15990000.,   699900.,   735900.,   575000.,  1079000.,\n",
            "        2780000.,  7770000.,  1949000.,  1119000.,  1640000., 15995000.,\n",
            "         972900.,   889900.,  3349000.,  1367000.,  5347000., 11000000.,\n",
            "       10490000.,   765000.,  8690000., 10450000., 13900000.,   565000.,\n",
            "        6999999., 15950000., 13845000.,  1565000., 16600000.,  2736000.,\n",
            "        1751000.,  9775000.,   590000.,  9650000.,  5490000.,  7895000.,\n",
            "         385000., 19750000.,  4325000.,  6650000.,  8990000.,  5150000.,\n",
            "        3429000.,  2680000.,  2525000.,  2625000.,  2793000.,  1850600.,\n",
            "        1075000.,  2999999.,   845000.,  6150000.,  5175000.,  1265000.,\n",
            "        1220000.,  7850000.,  4290000.,  1840000.,  1130000.,  4999999.,\n",
            "        3525000.,  4475000.,  1635000.,  3380000.,  4375000.,  2549000.,\n",
            "        3497000.,  1549999.,  8300000.,  1499990.,  1049000.,  5745000.,\n",
            "       26950000.,  1945000.,  8449000.,  1070000.,  7400000.,  6749000.,\n",
            "        6850000.,  1030000.,  9350000.,   870000., 16000000.,  3925000.,\n",
            "        1367600.,   691120., 23995000.,  5000000., 14495000., 25900000.,\n",
            "        2645000., 10700000.,  6100000.,  6350000., 12400000.,  5385000.,\n",
            "        3230000., 24950000., 10650000.,  1475000.,  1010000., 18000000.,\n",
            "        1280000.,  2755000.,  2140000.,   999999.,  9790000.,  1749999.,\n",
            "        2160000.,  2225000.,  1975000., 11300000.,  1325000.,  1825000.,\n",
            "        9000000.,  3250001.,   859000.,  3099000.,  1129000.,  2341000.,\n",
            "        2325000.,  1965000.,   760000.,  1510000.,  3100001.,   945000.,\n",
            "        2448550.,  1365000.,  2894995.,   989000.,  3660000.,  3840000.,\n",
            "        3720000.,  3192000.,   585000.,  1435000.,  2210000.,  2930000.,\n",
            "        4780000.,  1065000.,  1896000.,   999500.,  6174000., 14775000.,\n",
            "        1895002.,  1680000.,  5984000.,  1799999.,   545000.,  2385000.,\n",
            "        6660000.,  4340000.,  4185000.,  1235000.,  1025000.,  1930000.,\n",
            "        1098000.,  9295000.,  3785000.,  2440000.,  1699999.,  4699000.,\n",
            "        2350001.,  2375000.,  2585000.,  6499000.,  2090000.,  2757000.,\n",
            "        1550001.,  1650001.,   879000.,  1230000.,  1995002.,  3225000.,\n",
            "        1340000.,  9300000.,  1799001.,  1089000.,  2049999.,  3243000.,\n",
            "        3319995.,  4199000.,  2745000.,  2059000.])}\n"
          ],
          "name": "stdout"
        }
      ]
    },
    {
      "cell_type": "markdown",
      "metadata": {
        "id": "KEvzZpCl7eOo",
        "colab_type": "text"
      },
      "source": [
        "## Replace 0 Values of Price with Website Mean"
      ]
    },
    {
      "cell_type": "code",
      "metadata": {
        "id": "1bZCJ1xhMg3G",
        "colab_type": "code",
        "colab": {
          "base_uri": "https://localhost:8080/",
          "height": 0
        },
        "outputId": "0bbd8a04-7d9f-4648-b7f7-d9aff1d53613"
      },
      "source": [
        "remax_df.Price.value_counts()"
      ],
      "execution_count": 55,
      "outputs": [
        {
          "output_type": "execute_result",
          "data": {
            "text/plain": [
              "0.0         136\n",
              "995000.0     89\n",
              "500000.0     79\n",
              "950000.0     73\n",
              "250000.0     53\n",
              "           ... \n",
              "249000.0      1\n",
              "285000.0      1\n",
              "997000.0      1\n",
              "349000.0      1\n",
              "245000.0      1\n",
              "Name: Price, Length: 125, dtype: int64"
            ]
          },
          "metadata": {
            "tags": []
          },
          "execution_count": 55
        }
      ]
    },
    {
      "cell_type": "code",
      "metadata": {
        "id": "RLLKBGO76yQ0",
        "colab_type": "code",
        "colab": {
          "base_uri": "https://localhost:8080/",
          "height": 0
        },
        "outputId": "38e846ee-362c-485a-a71b-bf03fd6c3cb3"
      },
      "source": [
        "my_imputer = SimpleImputer(missing_values = 0, strategy = 'constant', fill_value=1395000)\n",
        "\n",
        "# Fill in the lines below: imputation\n",
        "imputed_X_train = pd.DataFrame(my_imputer.fit_transform(remax_df.iloc[:,[3]]))\n",
        "\n",
        "#Fill in the lines below: imputation removed column names; put them back\n",
        "imputed_X_train.columns = remax_df.iloc[:,[3]].columns\n",
        "\n",
        "remax_df.iloc[:,[3]] = imputed_X_train\n",
        "\n",
        "remax_df.head()"
      ],
      "execution_count": 56,
      "outputs": [
        {
          "output_type": "execute_result",
          "data": {
            "text/html": [
              "<div>\n",
              "<style scoped>\n",
              "    .dataframe tbody tr th:only-of-type {\n",
              "        vertical-align: middle;\n",
              "    }\n",
              "\n",
              "    .dataframe tbody tr th {\n",
              "        vertical-align: top;\n",
              "    }\n",
              "\n",
              "    .dataframe thead th {\n",
              "        text-align: right;\n",
              "    }\n",
              "</style>\n",
              "<table border=\"1\" class=\"dataframe\">\n",
              "  <thead>\n",
              "    <tr style=\"text-align: right;\">\n",
              "      <th></th>\n",
              "      <th>Bedrooms</th>\n",
              "      <th>HouseType</th>\n",
              "      <th>Suburb</th>\n",
              "      <th>Income</th>\n",
              "      <th>Price</th>\n",
              "    </tr>\n",
              "  </thead>\n",
              "  <tbody>\n",
              "    <tr>\n",
              "      <th>0</th>\n",
              "      <td>5</td>\n",
              "      <td>House</td>\n",
              "      <td>Other</td>\n",
              "      <td>2</td>\n",
              "      <td>790000.0</td>\n",
              "    </tr>\n",
              "    <tr>\n",
              "      <th>1</th>\n",
              "      <td>3</td>\n",
              "      <td>Townhouse</td>\n",
              "      <td>Kenilworth</td>\n",
              "      <td>2</td>\n",
              "      <td>775000.0</td>\n",
              "    </tr>\n",
              "    <tr>\n",
              "      <th>2</th>\n",
              "      <td>4</td>\n",
              "      <td>House</td>\n",
              "      <td>Other</td>\n",
              "      <td>2</td>\n",
              "      <td>700000.0</td>\n",
              "    </tr>\n",
              "    <tr>\n",
              "      <th>3</th>\n",
              "      <td>4</td>\n",
              "      <td>House</td>\n",
              "      <td>Other</td>\n",
              "      <td>2</td>\n",
              "      <td>600000.0</td>\n",
              "    </tr>\n",
              "    <tr>\n",
              "      <th>4</th>\n",
              "      <td>3</td>\n",
              "      <td>House</td>\n",
              "      <td>Other</td>\n",
              "      <td>2</td>\n",
              "      <td>495000.0</td>\n",
              "    </tr>\n",
              "  </tbody>\n",
              "</table>\n",
              "</div>"
            ],
            "text/plain": [
              "   Bedrooms  HouseType      Suburb  Income     Price\n",
              "0         5      House       Other       2  790000.0\n",
              "1         3  Townhouse  Kenilworth       2  775000.0\n",
              "2         4      House       Other       2  700000.0\n",
              "3         4      House       Other       2  600000.0\n",
              "4         3      House       Other       2  495000.0"
            ]
          },
          "metadata": {
            "tags": []
          },
          "execution_count": 56
        }
      ]
    },
    {
      "cell_type": "code",
      "metadata": {
        "id": "qarrq1vVJHMb",
        "colab_type": "code",
        "colab": {
          "base_uri": "https://localhost:8080/",
          "height": 0
        },
        "outputId": "1398ad99-ef0c-4e58-fca4-0c981fe3dd73"
      },
      "source": [
        "'''my_imputer = SimpleImputer(missing_values = 0, strategy = 'mean', add_indicator=True)\n",
        "\n",
        "# Fill in the lines below: imputation\n",
        "imputed_X_train = pd.DataFrame(my_imputer.fit_transform(priv_df.iloc[:,[3]]))\n",
        "\n",
        "#Fill in the lines below: imputation removed column names; put them back\n",
        "imputed_X_train.columns = priv_df.iloc[:,[3]].columns\n",
        "\n",
        "priv_df.iloc[:,[3]] = imputed_X_train\n",
        "\n",
        "priv_df.head()'''"
      ],
      "execution_count": 57,
      "outputs": [
        {
          "output_type": "execute_result",
          "data": {
            "application/vnd.google.colaboratory.intrinsic+json": {
              "type": "string"
            },
            "text/plain": [
              "\"my_imputer = SimpleImputer(missing_values = 0, strategy = 'mean', add_indicator=True)\\n\\n# Fill in the lines below: imputation\\nimputed_X_train = pd.DataFrame(my_imputer.fit_transform(priv_df.iloc[:,[3]]))\\n\\n#Fill in the lines below: imputation removed column names; put them back\\nimputed_X_train.columns = priv_df.iloc[:,[3]].columns\\n\\npriv_df.iloc[:,[3]] = imputed_X_train\\n\\npriv_df.head()\""
            ]
          },
          "metadata": {
            "tags": []
          },
          "execution_count": 57
        }
      ]
    },
    {
      "cell_type": "markdown",
      "metadata": {
        "id": "V8-i4UczYlRC",
        "colab_type": "text"
      },
      "source": [
        "# Data Exploration"
      ]
    },
    {
      "cell_type": "code",
      "metadata": {
        "id": "HYAoUVcVYtut",
        "colab_type": "code",
        "colab": {
          "base_uri": "https://localhost:8080/",
          "height": 195
        },
        "outputId": "1e3140a6-b5f1-447d-abe4-2130637b51ae"
      },
      "source": [
        "priv_df.head()"
      ],
      "execution_count": 58,
      "outputs": [
        {
          "output_type": "execute_result",
          "data": {
            "text/html": [
              "<div>\n",
              "<style scoped>\n",
              "    .dataframe tbody tr th:only-of-type {\n",
              "        vertical-align: middle;\n",
              "    }\n",
              "\n",
              "    .dataframe tbody tr th {\n",
              "        vertical-align: top;\n",
              "    }\n",
              "\n",
              "    .dataframe thead th {\n",
              "        text-align: right;\n",
              "    }\n",
              "</style>\n",
              "<table border=\"1\" class=\"dataframe\">\n",
              "  <thead>\n",
              "    <tr style=\"text-align: right;\">\n",
              "      <th></th>\n",
              "      <th>Bedrooms</th>\n",
              "      <th>HouseType</th>\n",
              "      <th>Suburb</th>\n",
              "      <th>Income</th>\n",
              "      <th>Price</th>\n",
              "    </tr>\n",
              "  </thead>\n",
              "  <tbody>\n",
              "    <tr>\n",
              "      <th>3</th>\n",
              "      <td>2</td>\n",
              "      <td>House</td>\n",
              "      <td>Other</td>\n",
              "      <td>2</td>\n",
              "      <td>8500000.0</td>\n",
              "    </tr>\n",
              "    <tr>\n",
              "      <th>4</th>\n",
              "      <td>4</td>\n",
              "      <td>House</td>\n",
              "      <td>Bantry Bay</td>\n",
              "      <td>3</td>\n",
              "      <td>3500000.0</td>\n",
              "    </tr>\n",
              "    <tr>\n",
              "      <th>5</th>\n",
              "      <td>5</td>\n",
              "      <td>House</td>\n",
              "      <td>Sea Point</td>\n",
              "      <td>3</td>\n",
              "      <td>15999000.0</td>\n",
              "    </tr>\n",
              "    <tr>\n",
              "      <th>6</th>\n",
              "      <td>1</td>\n",
              "      <td>Apartment</td>\n",
              "      <td>Other</td>\n",
              "      <td>2</td>\n",
              "      <td>12995000.0</td>\n",
              "    </tr>\n",
              "    <tr>\n",
              "      <th>7</th>\n",
              "      <td>2</td>\n",
              "      <td>Apartment</td>\n",
              "      <td>Sea Point</td>\n",
              "      <td>3</td>\n",
              "      <td>1525000.0</td>\n",
              "    </tr>\n",
              "  </tbody>\n",
              "</table>\n",
              "</div>"
            ],
            "text/plain": [
              "   Bedrooms  HouseType      Suburb  Income       Price\n",
              "3         2      House       Other       2   8500000.0\n",
              "4         4      House  Bantry Bay       3   3500000.0\n",
              "5         5      House   Sea Point       3  15999000.0\n",
              "6         1  Apartment       Other       2  12995000.0\n",
              "7         2  Apartment   Sea Point       3   1525000.0"
            ]
          },
          "metadata": {
            "tags": []
          },
          "execution_count": 58
        }
      ]
    },
    {
      "cell_type": "code",
      "metadata": {
        "id": "QNyx3DNTbI8g",
        "colab_type": "code",
        "colab": {
          "base_uri": "https://localhost:8080/",
          "height": 168
        },
        "outputId": "d79605b5-fa43-47b9-ce08-e2870e7e8904"
      },
      "source": [
        "priv_df.Price.describe()"
      ],
      "execution_count": 59,
      "outputs": [
        {
          "output_type": "execute_result",
          "data": {
            "text/plain": [
              "count    5.141000e+03\n",
              "mean     3.868006e+06\n",
              "std      5.089001e+06\n",
              "min      2.100000e+05\n",
              "25%      1.499000e+06\n",
              "50%      2.400000e+06\n",
              "75%      3.950000e+06\n",
              "max      7.500000e+07\n",
              "Name: Price, dtype: float64"
            ]
          },
          "metadata": {
            "tags": []
          },
          "execution_count": 59
        }
      ]
    },
    {
      "cell_type": "markdown",
      "metadata": {
        "id": "7K5skJM6S3bP",
        "colab_type": "text"
      },
      "source": [
        "## Exploratory Data Analysis Function"
      ]
    },
    {
      "cell_type": "code",
      "metadata": {
        "id": "UtTNCpXKS80O",
        "colab_type": "code",
        "colab": {}
      },
      "source": [
        "#Defining graphing function\n",
        "def ExploreGraphs(x_feature, y_result, df, choice, custom):\n",
        "  \n",
        "  #Setting the visual features of the graph\n",
        "  sns.set_style(\"darkgrid\")\n",
        "  plt.figure(figsize=(20,10))\n",
        "  \n",
        "  #Bar Chart choice\n",
        "  if choice == \"bar\":\n",
        "\n",
        "    barplot = sns.barplot(x = x_feature, y = y_result, data = df, ci=custom)\n",
        "    plt.xticks(rotation=90)\n",
        "    plt.show()\n",
        "\n",
        "  #Boxplot Choice\n",
        "  elif choice == \"box\":\n",
        "\n",
        "    boxplot = sns.boxplot(x= x_feature, y = y_result, data = df, hue = custom)\n",
        "    plt.xticks(rotation=90)\n",
        "    plt.show()\n",
        "\n",
        "  #Histogram choice\n",
        "  elif choice == \"hist\":\n",
        "\n",
        "    histplot = sns.distplot(df[x_feature])\n",
        "    plt.show()\n",
        "\n",
        "  #Count Plot Choice\n",
        "  elif choice == \"count\":\n",
        "\n",
        "    barplot = sns.countplot(x = x_feature, data = df)\n",
        "    plt.show()\n",
        "\n",
        "  #Heat map choice\n",
        "  elif choice == \"heat\":\n",
        "\n",
        "    plt.figure(figsize=(30,30))\n",
        "    sns.heatmap(df.corr(), vmax=0.8, square=True, annot = True)\n",
        "\n",
        "  #Pair plot choice\n",
        "  elif choice == \"pair\":\n",
        "\n",
        "    sns.pairplot(df)\n",
        "\n",
        "  #In case the choice input is not defined in the function\n",
        "  else:\n",
        "    print(\"Not a valid choice\")"
      ],
      "execution_count": 60,
      "outputs": []
    },
    {
      "cell_type": "markdown",
      "metadata": {
        "id": "FUhOEdCCUs2u",
        "colab_type": "text"
      },
      "source": [
        "## Graphing Area"
      ]
    },
    {
      "cell_type": "code",
      "metadata": {
        "id": "XT6Vv_GcUzWL",
        "colab_type": "code",
        "colab": {
          "base_uri": "https://localhost:8080/",
          "height": 670
        },
        "outputId": "653ec16d-387b-4d4e-9f36-0f9857e7c4c2"
      },
      "source": [
        "'''\n",
        "How to use function\n",
        "FIRST PARAMETER: X Feature (Pandas Column Name)\n",
        "\n",
        "SECOND PARAMETER: Y FEATURE (Pandas Column Name)\n",
        "\n",
        "THIRD PARAMETER: DATA (Pandas Dataframe)\n",
        "\n",
        "FOURTH PARAMETER: Choice of graph: \"bar\" for Bar Plot (Good for comparing one numeric feature with a feature),\n",
        "                                    \"box\" for Box Plot (Good for comparing one insurance product with a feature),\n",
        "                                    \"hist\" for Histogram (Good for continuous distrbution of one feature),\n",
        "                                    \"count\" for a count plot (Good for the discontinuous distribution of one feature),\n",
        "                                    \"heat\" for a heatmap between the variables of the dataset,\n",
        "                                    \"pair\" for a pairplot between the variables of a dataset (Be careful of the number of features you're comparing)\n",
        "\n",
        "FIFTH PARAMETER: Confidence Interval error bar for Bar Plot = number (number% Confidence Interval), None (No error bar) \n",
        "'''\n",
        "ExploreGraphs(\"Suburb\", \"Price\", p24_df, \"box\", \"Income\")"
      ],
      "execution_count": 61,
      "outputs": [
        {
          "output_type": "display_data",
          "data": {
            "image/png": "[encoded data removed]",
            "text/plain": [
              "<Figure size 1440x720 with 1 Axes>"
            ]
          },
          "metadata": {
            "tags": []
          }
        }
      ]
    },
    {
      "cell_type": "markdown",
      "metadata": {
        "id": "YXHKKDD_VB99",
        "colab_type": "text"
      },
      "source": [
        "# Encoding the Data"
      ]
    },
    {
      "cell_type": "code",
      "metadata": {
        "id": "zmiaS2h_V8Qe",
        "colab_type": "code",
        "colab": {
          "base_uri": "https://localhost:8080/",
          "height": 402
        },
        "outputId": "cd6b9d95-6ee2-4016-baae-8347a9abb0fb"
      },
      "source": [
        "property_dataset = pd.merge(p24_df, remax_df, how = \"outer\")\n",
        "property_dataset = pd.merge(property_dataset, priv_df, how = \"outer\")\n",
        "property_dataset"
      ],
      "execution_count": 62,
      "outputs": [
        {
          "output_type": "execute_result",
          "data": {
            "text/html": [
              "<div>\n",
              "<style scoped>\n",
              "    .dataframe tbody tr th:only-of-type {\n",
              "        vertical-align: middle;\n",
              "    }\n",
              "\n",
              "    .dataframe tbody tr th {\n",
              "        vertical-align: top;\n",
              "    }\n",
              "\n",
              "    .dataframe thead th {\n",
              "        text-align: right;\n",
              "    }\n",
              "</style>\n",
              "<table border=\"1\" class=\"dataframe\">\n",
              "  <thead>\n",
              "    <tr style=\"text-align: right;\">\n",
              "      <th></th>\n",
              "      <th>Bedrooms</th>\n",
              "      <th>HouseType</th>\n",
              "      <th>Suburb</th>\n",
              "      <th>Income</th>\n",
              "      <th>Price</th>\n",
              "    </tr>\n",
              "  </thead>\n",
              "  <tbody>\n",
              "    <tr>\n",
              "      <th>0</th>\n",
              "      <td>1</td>\n",
              "      <td>Apartment</td>\n",
              "      <td>Muizenberg</td>\n",
              "      <td>2</td>\n",
              "      <td>3500000.0</td>\n",
              "    </tr>\n",
              "    <tr>\n",
              "      <th>1</th>\n",
              "      <td>4</td>\n",
              "      <td>House</td>\n",
              "      <td>Other</td>\n",
              "      <td>2</td>\n",
              "      <td>995000.0</td>\n",
              "    </tr>\n",
              "    <tr>\n",
              "      <th>2</th>\n",
              "      <td>4</td>\n",
              "      <td>House</td>\n",
              "      <td>Other</td>\n",
              "      <td>2</td>\n",
              "      <td>995000.0</td>\n",
              "    </tr>\n",
              "    <tr>\n",
              "      <th>3</th>\n",
              "      <td>2</td>\n",
              "      <td>House</td>\n",
              "      <td>Rondebosch</td>\n",
              "      <td>2</td>\n",
              "      <td>2395000.0</td>\n",
              "    </tr>\n",
              "    <tr>\n",
              "      <th>4</th>\n",
              "      <td>4</td>\n",
              "      <td>House</td>\n",
              "      <td>Claremont</td>\n",
              "      <td>2</td>\n",
              "      <td>19950000.0</td>\n",
              "    </tr>\n",
              "    <tr>\n",
              "      <th>...</th>\n",
              "      <td>...</td>\n",
              "      <td>...</td>\n",
              "      <td>...</td>\n",
              "      <td>...</td>\n",
              "      <td>...</td>\n",
              "    </tr>\n",
              "    <tr>\n",
              "      <th>7448</th>\n",
              "      <td>4</td>\n",
              "      <td>House</td>\n",
              "      <td>Other</td>\n",
              "      <td>2</td>\n",
              "      <td>2595000.0</td>\n",
              "    </tr>\n",
              "    <tr>\n",
              "      <th>7449</th>\n",
              "      <td>2</td>\n",
              "      <td>Apartment</td>\n",
              "      <td>Other</td>\n",
              "      <td>2</td>\n",
              "      <td>2745000.0</td>\n",
              "    </tr>\n",
              "    <tr>\n",
              "      <th>7450</th>\n",
              "      <td>3</td>\n",
              "      <td>House</td>\n",
              "      <td>Parklands</td>\n",
              "      <td>2</td>\n",
              "      <td>2850000.0</td>\n",
              "    </tr>\n",
              "    <tr>\n",
              "      <th>7451</th>\n",
              "      <td>4</td>\n",
              "      <td>House</td>\n",
              "      <td>Other</td>\n",
              "      <td>2</td>\n",
              "      <td>2059000.0</td>\n",
              "    </tr>\n",
              "    <tr>\n",
              "      <th>7452</th>\n",
              "      <td>3</td>\n",
              "      <td>House</td>\n",
              "      <td>Parklands</td>\n",
              "      <td>2</td>\n",
              "      <td>1395000.0</td>\n",
              "    </tr>\n",
              "  </tbody>\n",
              "</table>\n",
              "<p>7453 rows × 5 columns</p>\n",
              "</div>"
            ],
            "text/plain": [
              "      Bedrooms  HouseType      Suburb  Income       Price\n",
              "0            1  Apartment  Muizenberg       2   3500000.0\n",
              "1            4      House       Other       2    995000.0\n",
              "2            4      House       Other       2    995000.0\n",
              "3            2      House  Rondebosch       2   2395000.0\n",
              "4            4      House   Claremont       2  19950000.0\n",
              "...        ...        ...         ...     ...         ...\n",
              "7448         4      House       Other       2   2595000.0\n",
              "7449         2  Apartment       Other       2   2745000.0\n",
              "7450         3      House   Parklands       2   2850000.0\n",
              "7451         4      House       Other       2   2059000.0\n",
              "7452         3      House   Parklands       2   1395000.0\n",
              "\n",
              "[7453 rows x 5 columns]"
            ]
          },
          "metadata": {
            "tags": []
          },
          "execution_count": 62
        }
      ]
    },
    {
      "cell_type": "code",
      "metadata": {
        "id": "txzVyn8cZes2",
        "colab_type": "code",
        "colab": {
          "base_uri": "https://localhost:8080/",
          "height": 218
        },
        "outputId": "4069d3ea-c66b-4bdb-b59d-a2cc3a2d80b4"
      },
      "source": [
        "property_dataset.Price.value_counts()"
      ],
      "execution_count": 63,
      "outputs": [
        {
          "output_type": "execute_result",
          "data": {
            "text/plain": [
              "0.0          136\n",
              "995000.0     119\n",
              "950000.0     111\n",
              "2495000.0     91\n",
              "1350000.0     86\n",
              "            ... \n",
              "749900.0       1\n",
              "2278800.0      1\n",
              "2575000.0      1\n",
              "210000.0       1\n",
              "972900.0       1\n",
              "Name: Price, Length: 1059, dtype: int64"
            ]
          },
          "metadata": {
            "tags": []
          },
          "execution_count": 63
        }
      ]
    },
    {
      "cell_type": "code",
      "metadata": {
        "id": "2LJNH94iWQO1",
        "colab_type": "code",
        "colab": {}
      },
      "source": [
        "# label_encoder object knows how to understand word labels. \n",
        "label_encoder = preprocessing.LabelEncoder() \n",
        "  \n",
        "# Encode labels in column 'species'. \n",
        "property_dataset.Suburb = label_encoder.fit_transform(property_dataset.Suburb) "
      ],
      "execution_count": 64,
      "outputs": []
    },
    {
      "cell_type": "code",
      "metadata": {
        "id": "ps5wbYxbTHpG",
        "colab_type": "code",
        "colab": {
          "base_uri": "https://localhost:8080/",
          "height": 235
        },
        "outputId": "fbb1bc1a-93c5-435b-f93d-297a3b31944b"
      },
      "source": [
        "ct = ColumnTransformer(transformers=[('encoder', OneHotEncoder(sparse=False), [1])], remainder='passthrough')\n",
        "property_dataset = (ct.fit_transform(property_dataset))\n",
        "property_dataset"
      ],
      "execution_count": 65,
      "outputs": [
        {
          "output_type": "execute_result",
          "data": {
            "text/plain": [
              "array([[1.000e+00, 0.000e+00, 0.000e+00, ..., 5.800e+01, 2.000e+00,\n",
              "        3.500e+06],\n",
              "       [0.000e+00, 1.000e+00, 0.000e+00, ..., 6.500e+01, 2.000e+00,\n",
              "        9.950e+05],\n",
              "       [0.000e+00, 1.000e+00, 0.000e+00, ..., 6.500e+01, 2.000e+00,\n",
              "        9.950e+05],\n",
              "       ...,\n",
              "       [0.000e+00, 1.000e+00, 0.000e+00, ..., 6.800e+01, 2.000e+00,\n",
              "        2.850e+06],\n",
              "       [0.000e+00, 1.000e+00, 0.000e+00, ..., 6.500e+01, 2.000e+00,\n",
              "        2.059e+06],\n",
              "       [0.000e+00, 1.000e+00, 0.000e+00, ..., 6.800e+01, 2.000e+00,\n",
              "        1.395e+06]])"
            ]
          },
          "metadata": {
            "tags": []
          },
          "execution_count": 65
        }
      ]
    },
    {
      "cell_type": "code",
      "metadata": {
        "id": "4HBMsRe2WKGf",
        "colab_type": "code",
        "colab": {}
      },
      "source": [
        "from sklearn.model_selection import train_test_split\n",
        "X_train_80, X_valid_20, Y_train_80, Y_valid_20 = train_test_split(property_dataset[:,:-1], property_dataset[:,-1], test_size = 0.2, random_state=1)"
      ],
      "execution_count": 66,
      "outputs": []
    },
    {
      "cell_type": "code",
      "metadata": {
        "id": "8C90PYGkZvOu",
        "colab_type": "code",
        "colab": {
          "base_uri": "https://localhost:8080/",
          "height": 134
        },
        "outputId": "f3f16e18-4586-4433-bbe1-50da86a3f091"
      },
      "source": [
        "X_train_80"
      ],
      "execution_count": 67,
      "outputs": [
        {
          "output_type": "execute_result",
          "data": {
            "text/plain": [
              "array([[ 1.,  0.,  0.,  2., 65.,  2.],\n",
              "       [ 0.,  1.,  0.,  3., 65.,  2.],\n",
              "       [ 0.,  1.,  0.,  3., 65.,  2.],\n",
              "       ...,\n",
              "       [ 0.,  1.,  0.,  3., 71.,  1.],\n",
              "       [ 1.,  0.,  0.,  2., 65.,  2.],\n",
              "       [ 1.,  0.,  0.,  1., 21.,  2.]])"
            ]
          },
          "metadata": {
            "tags": []
          },
          "execution_count": 67
        }
      ]
    },
    {
      "cell_type": "code",
      "metadata": {
        "id": "q_h7iOBHZ8fm",
        "colab_type": "code",
        "colab": {}
      },
      "source": [
        "\n",
        "np.savetxt(\"drive/My Drive/v1_X_train_80.csv\", X_train_80, delimiter=',')\n",
        "np.savetxt(\"drive/My Drive/v1_X_test_20.csv\", X_valid_20, delimiter=',')\n",
        "np.savetxt(\"drive/My Drive/v1_Y_train_80.csv\", Y_train_80, delimiter=',')\n",
        "np.savetxt(\"drive/My Drive/v1_Y_test_20.csv\", Y_valid_20, delimiter=',')"
      ],
      "execution_count": 68,
      "outputs": []
    }
  ]
}
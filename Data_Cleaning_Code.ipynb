{
  "nbformat": 4,
  "nbformat_minor": 0,
  "metadata": {
    "colab": {
      "name": "Data Cleaning Code",
      "provenance": [],
      "toc_visible": true,
      "mount_file_id": "1gcupm96owvNRO9_f02mk1nzqo3KT1kEv",
      "authorship_tag": "ABX9TyOzS8TaOyTGrcPUSf62bh+S",
      "include_colab_link": true
    },
    "kernelspec": {
      "name": "python3",
      "display_name": "Python 3"
    }
  },
  "cells": [
    {
      "cell_type": "markdown",
      "metadata": {
        "id": "view-in-github",
        "colab_type": "text"
      },
      "source": [
        "<a href=\"https://colab.research.google.com/github/malcolmrite-dsi/CPT-House-Predictions/blob/master/Data_Cleaning_Code.ipynb\" target=\"_parent\"><img src=\"https://colab.research.google.com/assets/colab-badge.svg\" alt=\"Open In Colab\"/></a>"
      ]
    },
    {
      "cell_type": "markdown",
      "metadata": {
        "id": "tc4kU2yX5cKq",
        "colab_type": "text"
      },
      "source": [
        "# Importing the Libraries"
      ]
    },
    {
      "cell_type": "code",
      "metadata": {
        "id": "tG73ylG25Jyf",
        "colab_type": "code",
        "colab": {}
      },
      "source": [
        "#Importing libraries for cleaning\n",
        "import pandas as pd\n",
        "import numpy as np\n",
        "import matplotlib.pyplot as plt\n"
      ],
      "execution_count": null,
      "outputs": []
    },
    {
      "cell_type": "markdown",
      "metadata": {
        "id": "tsF0idbh6df0",
        "colab_type": "text"
      },
      "source": [
        "# Importing Training and Test Data"
      ]
    },
    {
      "cell_type": "code",
      "metadata": {
        "id": "x9aTfsOS5uow",
        "colab_type": "code",
        "colab": {}
      },
      "source": [
        "#Using Pandas Library to import training data\n",
        "train_data = pd.read_csv(\"drive/My Drive/Train.csv\")\n",
        "\n",
        "#Using Pandas Library to import test data\n",
        "test_data = pd.read_csv(\"drive/My Drive/Test.csv\")"
      ],
      "execution_count": null,
      "outputs": []
    },
    {
      "cell_type": "markdown",
      "metadata": {
        "id": "Os9NIsek6mkj",
        "colab_type": "text"
      },
      "source": [
        "# Missing Values Code"
      ]
    },
    {
      "cell_type": "code",
      "metadata": {
        "id": "udjFF4U77MJP",
        "colab_type": "code",
        "colab": {
          "base_uri": "https://localhost:8080/"
        },
        "outputId": "384bd362-b8e3-42da-fc0a-1d928cb83c22"
      },
      "source": [
        "train_data.head()"
      ],
      "execution_count": null,
      "outputs": [
        {
          "output_type": "execute_result",
          "data": {
            "text/html": [
              "<div>\n",
              "<style scoped>\n",
              "    .dataframe tbody tr th:only-of-type {\n",
              "        vertical-align: middle;\n",
              "    }\n",
              "\n",
              "    .dataframe tbody tr th {\n",
              "        vertical-align: top;\n",
              "    }\n",
              "\n",
              "    .dataframe thead th {\n",
              "        text-align: right;\n",
              "    }\n",
              "</style>\n",
              "<table border=\"1\" class=\"dataframe\">\n",
              "  <thead>\n",
              "    <tr style=\"text-align: right;\">\n",
              "      <th></th>\n",
              "      <th>ID</th>\n",
              "      <th>join_date</th>\n",
              "      <th>sex</th>\n",
              "      <th>marital_status</th>\n",
              "      <th>birth_year</th>\n",
              "      <th>branch_code</th>\n",
              "      <th>occupation_code</th>\n",
              "      <th>occupation_category_code</th>\n",
              "      <th>P5DA</th>\n",
              "      <th>RIBP</th>\n",
              "      <th>8NN1</th>\n",
              "      <th>7POT</th>\n",
              "      <th>66FJ</th>\n",
              "      <th>GYSR</th>\n",
              "      <th>SOP4</th>\n",
              "      <th>RVSZ</th>\n",
              "      <th>PYUQ</th>\n",
              "      <th>LJR9</th>\n",
              "      <th>N2MW</th>\n",
              "      <th>AHXO</th>\n",
              "      <th>BSTQ</th>\n",
              "      <th>FM3X</th>\n",
              "      <th>K6QO</th>\n",
              "      <th>QBOL</th>\n",
              "      <th>JWFN</th>\n",
              "      <th>JZ9D</th>\n",
              "      <th>J9JW</th>\n",
              "      <th>GHYX</th>\n",
              "      <th>ECY3</th>\n",
              "    </tr>\n",
              "  </thead>\n",
              "  <tbody>\n",
              "    <tr>\n",
              "      <th>0</th>\n",
              "      <td>4WKQSBB</td>\n",
              "      <td>1/2/2019</td>\n",
              "      <td>F</td>\n",
              "      <td>M</td>\n",
              "      <td>1987</td>\n",
              "      <td>1X1H</td>\n",
              "      <td>2A7I</td>\n",
              "      <td>T4MS</td>\n",
              "      <td>0</td>\n",
              "      <td>0</td>\n",
              "      <td>0</td>\n",
              "      <td>0</td>\n",
              "      <td>0</td>\n",
              "      <td>0</td>\n",
              "      <td>0</td>\n",
              "      <td>1</td>\n",
              "      <td>0</td>\n",
              "      <td>0</td>\n",
              "      <td>0</td>\n",
              "      <td>0</td>\n",
              "      <td>0</td>\n",
              "      <td>0</td>\n",
              "      <td>1</td>\n",
              "      <td>0</td>\n",
              "      <td>0</td>\n",
              "      <td>0</td>\n",
              "      <td>0</td>\n",
              "      <td>0</td>\n",
              "      <td>0</td>\n",
              "    </tr>\n",
              "    <tr>\n",
              "      <th>1</th>\n",
              "      <td>CP5S02H</td>\n",
              "      <td>1/6/2019</td>\n",
              "      <td>F</td>\n",
              "      <td>M</td>\n",
              "      <td>1981</td>\n",
              "      <td>UAOD</td>\n",
              "      <td>2A7I</td>\n",
              "      <td>T4MS</td>\n",
              "      <td>0</td>\n",
              "      <td>0</td>\n",
              "      <td>0</td>\n",
              "      <td>0</td>\n",
              "      <td>0</td>\n",
              "      <td>0</td>\n",
              "      <td>0</td>\n",
              "      <td>1</td>\n",
              "      <td>0</td>\n",
              "      <td>0</td>\n",
              "      <td>0</td>\n",
              "      <td>0</td>\n",
              "      <td>0</td>\n",
              "      <td>0</td>\n",
              "      <td>1</td>\n",
              "      <td>0</td>\n",
              "      <td>0</td>\n",
              "      <td>0</td>\n",
              "      <td>0</td>\n",
              "      <td>0</td>\n",
              "      <td>0</td>\n",
              "    </tr>\n",
              "    <tr>\n",
              "      <th>2</th>\n",
              "      <td>2YKDILJ</td>\n",
              "      <td>1/6/2013</td>\n",
              "      <td>M</td>\n",
              "      <td>U</td>\n",
              "      <td>1991</td>\n",
              "      <td>748L</td>\n",
              "      <td>QZYX</td>\n",
              "      <td>90QI</td>\n",
              "      <td>0</td>\n",
              "      <td>0</td>\n",
              "      <td>0</td>\n",
              "      <td>0</td>\n",
              "      <td>0</td>\n",
              "      <td>0</td>\n",
              "      <td>1</td>\n",
              "      <td>1</td>\n",
              "      <td>0</td>\n",
              "      <td>0</td>\n",
              "      <td>0</td>\n",
              "      <td>0</td>\n",
              "      <td>0</td>\n",
              "      <td>0</td>\n",
              "      <td>0</td>\n",
              "      <td>0</td>\n",
              "      <td>0</td>\n",
              "      <td>0</td>\n",
              "      <td>0</td>\n",
              "      <td>0</td>\n",
              "      <td>1</td>\n",
              "    </tr>\n",
              "    <tr>\n",
              "      <th>3</th>\n",
              "      <td>2S9E81J</td>\n",
              "      <td>1/8/2019</td>\n",
              "      <td>M</td>\n",
              "      <td>M</td>\n",
              "      <td>1990</td>\n",
              "      <td>1X1H</td>\n",
              "      <td>BP09</td>\n",
              "      <td>56SI</td>\n",
              "      <td>0</td>\n",
              "      <td>0</td>\n",
              "      <td>0</td>\n",
              "      <td>0</td>\n",
              "      <td>0</td>\n",
              "      <td>0</td>\n",
              "      <td>0</td>\n",
              "      <td>1</td>\n",
              "      <td>0</td>\n",
              "      <td>0</td>\n",
              "      <td>0</td>\n",
              "      <td>0</td>\n",
              "      <td>0</td>\n",
              "      <td>0</td>\n",
              "      <td>1</td>\n",
              "      <td>0</td>\n",
              "      <td>0</td>\n",
              "      <td>0</td>\n",
              "      <td>0</td>\n",
              "      <td>0</td>\n",
              "      <td>0</td>\n",
              "    </tr>\n",
              "    <tr>\n",
              "      <th>4</th>\n",
              "      <td>BHDYVFT</td>\n",
              "      <td>1/8/2019</td>\n",
              "      <td>M</td>\n",
              "      <td>M</td>\n",
              "      <td>1990</td>\n",
              "      <td>748L</td>\n",
              "      <td>NO3L</td>\n",
              "      <td>T4MS</td>\n",
              "      <td>0</td>\n",
              "      <td>0</td>\n",
              "      <td>0</td>\n",
              "      <td>0</td>\n",
              "      <td>0</td>\n",
              "      <td>0</td>\n",
              "      <td>0</td>\n",
              "      <td>0</td>\n",
              "      <td>0</td>\n",
              "      <td>0</td>\n",
              "      <td>0</td>\n",
              "      <td>0</td>\n",
              "      <td>0</td>\n",
              "      <td>0</td>\n",
              "      <td>0</td>\n",
              "      <td>0</td>\n",
              "      <td>0</td>\n",
              "      <td>1</td>\n",
              "      <td>1</td>\n",
              "      <td>0</td>\n",
              "      <td>0</td>\n",
              "    </tr>\n",
              "  </tbody>\n",
              "</table>\n",
              "</div>"
            ],
            "text/plain": [
              "        ID join_date sex marital_status  ...  JZ9D J9JW GHYX ECY3\n",
              "0  4WKQSBB  1/2/2019   F              M  ...     0    0    0    0\n",
              "1  CP5S02H  1/6/2019   F              M  ...     0    0    0    0\n",
              "2  2YKDILJ  1/6/2013   M              U  ...     0    0    0    1\n",
              "3  2S9E81J  1/8/2019   M              M  ...     0    0    0    0\n",
              "4  BHDYVFT  1/8/2019   M              M  ...     1    1    0    0\n",
              "\n",
              "[5 rows x 29 columns]"
            ]
          },
          "metadata": {
            "tags": []
          },
          "execution_count": 3
        }
      ]
    },
    {
      "cell_type": "code",
      "metadata": {
        "id": "mgaW1kpc7Lr3",
        "colab_type": "code",
        "colab": {
          "base_uri": "https://localhost:8080/"
        },
        "outputId": "77bb7086-c973-4ca7-e204-3d2eb3313042"
      },
      "source": [
        "train_data['join_date']"
      ],
      "execution_count": null,
      "outputs": [
        {
          "output_type": "execute_result",
          "data": {
            "text/plain": [
              "0         1/2/2019\n",
              "1         1/6/2019\n",
              "2         1/6/2013\n",
              "3         1/8/2019\n",
              "4         1/8/2019\n",
              "           ...    \n",
              "29127     1/9/2019\n",
              "29128    1/11/2018\n",
              "29129     1/2/2019\n",
              "29130     1/7/2019\n",
              "29131     1/3/2020\n",
              "Name: join_date, Length: 29132, dtype: object"
            ]
          },
          "metadata": {
            "tags": []
          },
          "execution_count": 4
        }
      ]
    },
    {
      "cell_type": "code",
      "metadata": {
        "id": "-KPEOeMe6sfp",
        "colab_type": "code",
        "colab": {}
      },
      "source": [
        "#Check Missing Values in a Dataset\n",
        "def NACount(data):\n",
        "  NaCount = {}\n",
        "  for feature in data.columns:\n",
        "    NaCount[feature] = data[feature].isna().sum()\n",
        "\n",
        "  return NaCount"
      ],
      "execution_count": null,
      "outputs": []
    },
    {
      "cell_type": "code",
      "metadata": {
        "id": "eLqaXEkL1bBd",
        "colab_type": "code",
        "colab": {}
      },
      "source": [
        "#Produce Missing Values array in a Dataset\n",
        "def NaArray(data):\n",
        "  NaCount = {}\n",
        "  for feature in data.columns:\n",
        "    NaCount[feature] = data[feature].isna()\n",
        "\n",
        "  return NaArray"
      ],
      "execution_count": null,
      "outputs": []
    },
    {
      "cell_type": "code",
      "metadata": {
        "id": "OLPb1LU4-pdo",
        "colab_type": "code",
        "colab": {}
      },
      "source": [
        "#Check Unique Values in Training Data\n",
        "def UniqueCount(data):\n",
        "  UnCount = {}\n",
        "  for feature in data.columns:\n",
        "    UnCount[feature] = data[feature].unique()\n",
        "\n",
        "  return UnCount"
      ],
      "execution_count": null,
      "outputs": []
    },
    {
      "cell_type": "code",
      "metadata": {
        "id": "Gu56yprP8kRZ",
        "colab_type": "code",
        "colab": {
          "base_uri": "https://localhost:8080/"
        },
        "outputId": "f4d92960-4576-48fc-f808-e92942e4105f"
      },
      "source": [
        "#Run Function on training Data\n",
        "\n",
        "print(NACount(train_data))"
      ],
      "execution_count": null,
      "outputs": [
        {
          "output_type": "stream",
          "text": [
            "{'ID': 0, 'join_date': 2, 'sex': 0, 'marital_status': 0, 'birth_year': 0, 'branch_code': 0, 'occupation_code': 0, 'occupation_category_code': 0, 'P5DA': 0, 'RIBP': 0, '8NN1': 0, '7POT': 0, '66FJ': 0, 'GYSR': 0, 'SOP4': 0, 'RVSZ': 0, 'PYUQ': 0, 'LJR9': 0, 'N2MW': 0, 'AHXO': 0, 'BSTQ': 0, 'FM3X': 0, 'K6QO': 0, 'QBOL': 0, 'JWFN': 0, 'JZ9D': 0, 'J9JW': 0, 'GHYX': 0, 'ECY3': 0}\n"
          ],
          "name": "stdout"
        }
      ]
    },
    {
      "cell_type": "code",
      "metadata": {
        "id": "tDlwd2xz9E32",
        "colab_type": "code",
        "colab": {
          "base_uri": "https://localhost:8080/"
        },
        "outputId": "36f32d0b-3984-41de-ecb4-66283bcb6b11"
      },
      "source": [
        "#Run Function on test Data\n",
        "\n",
        "print(NACount(test_data))"
      ],
      "execution_count": null,
      "outputs": [
        {
          "output_type": "stream",
          "text": [
            "{'ID': 0, 'join_date': 1, 'sex': 0, 'marital_status': 0, 'birth_year': 0, 'branch_code': 0, 'occupation_code': 0, 'occupation_category_code': 0, 'P5DA': 0, 'RIBP': 0, '8NN1': 0, '7POT': 0, '66FJ': 0, 'GYSR': 0, 'SOP4': 0, 'RVSZ': 0, 'PYUQ': 0, 'LJR9': 0, 'N2MW': 0, 'AHXO': 0, 'BSTQ': 0, 'FM3X': 0, 'K6QO': 0, 'QBOL': 0, 'JWFN': 0, 'JZ9D': 0, 'J9JW': 0, 'GHYX': 0, 'ECY3': 0}\n"
          ],
          "name": "stdout"
        }
      ]
    },
    {
      "cell_type": "code",
      "metadata": {
        "id": "GfgYKQzhAHXG",
        "colab_type": "code",
        "colab": {
          "base_uri": "https://localhost:8080/"
        },
        "outputId": "cef16859-6776-4151-8157-a7e8f1759d46"
      },
      "source": [
        "#Run Unique Values Function on test Data\n",
        "\n",
        "print(UniqueCount(test_data))"
      ],
      "execution_count": null,
      "outputs": [
        {
          "output_type": "stream",
          "text": [
            "{'ID': array(['F86J5PC', 'H6141K3', 'RBAYUXZ', ..., '42WTEGT', '8EKC4O9',\n",
            "       'WHII93K'], dtype=object), 'join_date': array(['1/12/2018', '1/10/2019', '1/1/2020', '1/2/2019', '1/2/2020',\n",
            "       '1/5/2020', '1/5/2015', '1/6/2013', '1/1/2017', '1/1/2019',\n",
            "       '1/7/2018', '1/6/2020', '1/4/2020', '1/12/2019', '1/3/2013',\n",
            "       '1/5/2018', '1/1/2018', '1/10/2017', '1/8/2019', '1/4/2017',\n",
            "       '1/9/2019', '1/7/2014', '1/3/2019', '1/6/2011', '1/4/2019',\n",
            "       '1/11/2019', '1/9/2018', '1/12/2017', '1/5/2017', '1/3/2017',\n",
            "       '1/1/2015', '1/9/2016', '1/7/2012', '1/5/2019', '1/7/2016',\n",
            "       '1/8/2016', '1/2/2018', '1/10/2013', '1/3/2012', '1/5/2011',\n",
            "       '1/6/2017', '1/7/2017', '1/12/2014', '1/10/2018', '1/11/2016',\n",
            "       '1/8/2018', '1/7/2019', '1/8/2014', '1/7/2015', '1/10/2016',\n",
            "       '1/3/2018', '1/8/2017', '1/1/2011', '1/4/2018', '1/3/2020',\n",
            "       '1/6/2019', '1/2/2017', '1/6/2018', '1/9/2017', '1/4/2013',\n",
            "       '1/8/2012', '1/4/2016', '1/11/2015', '1/3/2016', '1/12/2015',\n",
            "       '1/2/2016', '1/12/2016', '1/1/2013', '1/7/2020', '1/12/2010',\n",
            "       '1/11/2010', '1/5/2013', '1/3/2011', '1/11/2018', '1/11/2017',\n",
            "       '1/8/2013', '1/10/2014', '1/9/2015', '1/8/2015', '1/2/2012',\n",
            "       '1/2/2014', '1/12/2013', '1/3/2014', '1/4/2015', '1/4/2012',\n",
            "       '1/11/2012', '1/5/2012', '1/3/2015', '1/4/2014', '1/5/2016',\n",
            "       '1/1/2016', '1/7/2013', '1/6/2012', '1/10/2015', '1/6/2015',\n",
            "       '1/12/2012', '1/2/2015', '1/9/2010', '1/8/2010', '1/2/2013',\n",
            "       '1/9/2014', '1/7/2010', '1/9/2013', '1/9/2012', '1/5/2014',\n",
            "       '1/12/2011', '1/1/2014', '1/8/2011', '1/10/2011', '1/7/2011',\n",
            "       '1/4/2011', '1/6/2014', '1/9/2011', '1/11/2011', '1/6/2016',\n",
            "       '1/10/2010', '1/1/2012', '1/2/2011', '1/10/2012', '1/11/2014',\n",
            "       '1/11/2013', '1/5/2010', '2/9/2012', '1/6/2010', '24/10/2012',\n",
            "       '7/9/2012', nan], dtype=object), 'sex': array(['M', 'F'], dtype=object), 'marital_status': array(['M', 'W', 'U', 'S', 'D', 'R', 'P', 'F'], dtype=object), 'birth_year': array([1984, 1996, 1968, 1989, 1982, 1985, 1992, 1995, 1990, 1983, 1991,\n",
            "       1979, 1980, 1970, 1964, 1977, 1976, 1971, 1975, 1993, 1986, 1994,\n",
            "       1974, 1981, 1973, 1969, 1960, 1966, 1972, 1962, 1963, 1978, 1965,\n",
            "       1988, 1987, 1998, 1953, 1952, 1967, 1958, 1997, 1999, 1959, 1961,\n",
            "       1957, 2000, 1956, 1946, 1955, 2001, 1937, 1948, 1954, 1951, 1933]), 'branch_code': array(['94KC', '1X1H', 'UAOD', '30H5', '748L', 'BOAS', '49BM', 'E5SW',\n",
            "       'ZFER', 'XX25', '9F9T', 'O67J', 'EU3L', 'X23B', 'O4JC'],\n",
            "      dtype=object), 'occupation_code': array(['DZRV', 'J9SY', '2A7I', '0KID', 'N2ZZ', '3NHZ', 'QZYX', 'UJ5T',\n",
            "       '0OJM', 'SST3', 'OPVX', 'WMTK', '0B60', 'RUFT', 'BPSA', '1NFK',\n",
            "       'BP09', 'SS6D', '9HD1', '6PE7', 'C8F6', 'VREH', '31JW', 'F35Z',\n",
            "       'U37O', 'L4PL', 'PMAI', 'F57O', 'ZKQ3', 'LQ0W', '7UDQ', 'S9KU',\n",
            "       '6E4H', '0PO7', 'NSJX', '31GG', '7G9M', '0S50', '5FPK', 'FSXG',\n",
            "       'B3QW', '73AC', '1H8Y', '7UHW', 'B8W8', '44SU', 'T6AB', 'P4MD',\n",
            "       'K0DL', 'SF1X', 'PKW3', 'NFJH', 'XC1N', 'JS7M', 'XVMH', '6KYM',\n",
            "       '00MO', 'K5LB', 'RE69', 'Q57T', 'YMGT', 'E39I', '1MSV', 'WE7U',\n",
            "       'L1P3', 'QS0L', 'I31I', 'NQW1', 'WE0G', '5JRZ', 'AIIN', '4W0D',\n",
            "       'RY9B', '2346', 'EE5R', 'QJID', 'R44Q', 'U9RX', 'RXV3', 'DD8W',\n",
            "       'APO0', '1DT6', 'SSTX', '2BE6', 'GVZ1', 'RSN9', 'OYQF', 'H1K7',\n",
            "       '2R78', '2JHV', 'JI64', 'XHJD', 'C1E3', '74BF', '2G86', 'GWEP',\n",
            "       'DPRV', 'QX54', '1MB4', 'MU16', 'WV7U', 'ZCQR', '0ZND', 'Y7G1',\n",
            "       'UBBX', 'JHU5', '5OVC', 'A793', 'WSID', 'CV2C', '2HLT', 'FSWO',\n",
            "       'TUN1', 'HJF4', 'IQFS', 'DE5D', 'WVQF', '0SH6', 'GQ0N', 'NO3L',\n",
            "       '2YAO', '3X46', 'Q231', 'Q6J6', 'RF6M', 'W3Y9', 'LAYD', 'N7K2',\n",
            "       'S96O', 'Z7PM', '2MBB', 'X1JO', '0VYC', '1YKL', '8CHJ', 'BWBW',\n",
            "       'IJ01', 'P2K2', 'IUT9', 'NX5Y', '9IP9', 'OME4', 'OEH6', '7KM4',\n",
            "       '9FA1', '9F96', '7UWC', 'V4XX', 'YX47', '9IM8', '820B', 'JN20',\n",
            "       '8Y24', 'HSI5', 'K5GV', 'Q2L0', 'IZ77', 'PWCW', '93OJ', '6YZA',\n",
            "       'BIA0', 'CYDC', '734F', 'CEL6', '4M0E', 'Y1WG', 'FJBW', 'AIDS',\n",
            "       'AQIB', 'FLNZ', 'HTQS', 'E2MJ', 'KNVN', 'VVTC', 'ZA1S', 'RM3L',\n",
            "       'WIWP', 'BX9E', 'KPG9', '1AN5', '834U', 'HAXM', 'JBJP', '0FOI',\n",
            "       'QQVA', 'I2OD', '6LKA'], dtype=object), 'occupation_category_code': array(['90QI', 'T4MS', 'L44T', '56SI', 'JD7X', 'AHH5'], dtype=object), 'P5DA': array([0, 1]), 'RIBP': array([0, 1]), '8NN1': array([0, 1]), '7POT': array([0, 1]), '66FJ': array([0, 1]), 'GYSR': array([0, 1]), 'SOP4': array([0, 1]), 'RVSZ': array([1, 0]), 'PYUQ': array([0, 1]), 'LJR9': array([0, 1]), 'N2MW': array([0, 1]), 'AHXO': array([0, 1]), 'BSTQ': array([0, 1]), 'FM3X': array([0, 1]), 'K6QO': array([0, 1]), 'QBOL': array([0, 1]), 'JWFN': array([0, 1]), 'JZ9D': array([0, 1]), 'J9JW': array([0, 1]), 'GHYX': array([0, 1]), 'ECY3': array([0, 1])}\n"
          ],
          "name": "stdout"
        }
      ]
    },
    {
      "cell_type": "code",
      "metadata": {
        "id": "Nbn9REco9xj-",
        "colab_type": "code",
        "colab": {
          "base_uri": "https://localhost:8080/"
        },
        "outputId": "96d6d632-0e22-422d-c120-aecd02e17c1b"
      },
      "source": [
        "#Run  Unique Values Function on training Data\n",
        "\n",
        "print(UniqueCount(train_data))"
      ],
      "execution_count": null,
      "outputs": [
        {
          "output_type": "stream",
          "text": [
            "{'ID': array(['4WKQSBB', 'CP5S02H', '2YKDILJ', ..., 'MVXG2LC', 'BUQ8DQN',\n",
            "       'DEJBWYU'], dtype=object), 'join_date': array(['1/2/2019', '1/6/2019', '1/6/2013', '1/8/2019', '1/9/2010',\n",
            "       '1/9/2019', '1/5/2017', '1/5/2018', '1/11/2018', '1/10/2015',\n",
            "       '1/1/2019', '1/2/2017', '1/8/2018', '1/7/2017', '1/6/2020',\n",
            "       '1/3/2016', '1/6/2017', '1/11/2019', '1/6/2018', '1/5/2019',\n",
            "       '1/10/2018', '1/11/2017', '1/3/2020', '1/1/2020', '1/11/2016',\n",
            "       '1/10/2019', '1/4/2018', '1/4/2019', '1/4/2020', '1/2/2018',\n",
            "       '1/3/2019', '1/8/2013', '1/7/2019', '1/11/2011', '1/1/2015',\n",
            "       '1/4/2014', '1/4/2017', '1/8/2016', '1/12/2017', '1/12/2018',\n",
            "       '1/7/2016', '1/5/2020', '1/1/2017', '1/7/2018', '1/10/2016',\n",
            "       '1/12/2019', '1/10/2017', '1/10/2014', '1/9/2018', '1/1/2018',\n",
            "       '1/2/2020', '1/7/2010', '1/7/2012', '1/9/2015', '1/9/2017',\n",
            "       '1/3/2018', '1/7/2020', '1/7/2014', '1/3/2017', '1/6/2015',\n",
            "       '1/6/2014', '1/1/2014', '1/12/2016', '1/1/2016', '1/8/2017',\n",
            "       '1/3/2015', '1/5/2015', '1/4/2016', '1/3/2013', '1/9/2016',\n",
            "       '1/3/2014', '1/12/2015', '1/9/2014', '1/2/2014', '1/11/2015',\n",
            "       '1/12/2010', '1/1/2013', '1/12/2014', '1/2/2016', '1/10/2012',\n",
            "       '1/5/2016', '1/11/2014', '1/4/2013', '1/10/2011', '1/12/2012',\n",
            "       '1/12/2011', '1/5/2010', '1/6/2016', '1/4/2011', '1/8/2014',\n",
            "       '1/5/2014', '1/7/2015', '1/9/2011', '1/8/2012', '1/9/2012',\n",
            "       '1/4/2015', '1/7/2011', '1/1/2012', '1/6/2012', '1/2/2015',\n",
            "       '1/8/2015', '1/3/2012', '1/10/2013', '1/12/2013', '1/7/2013',\n",
            "       '1/6/2010', '1/2/2013', '1/11/2012', '1/5/2012', '1/11/2013',\n",
            "       '1/9/2013', '1/10/2010', '1/5/2013', '1/8/2011', '1/4/2012',\n",
            "       '1/6/2011', '1/5/2011', '1/2/2012', '1/2/2011', '23/5/2013',\n",
            "       '1/11/2010', '1/8/2020', '1/8/2010', '7/9/2012', '1/1/2011',\n",
            "       '6/9/2012', '1/3/2011', '17/8/2012', '2/9/2012', nan, '22/10/2012',\n",
            "       '11/1/2013', '8/9/2012'], dtype=object), 'sex': array(['F', 'M'], dtype=object), 'marital_status': array(['M', 'U', 'S', 'W', 'D', 'P', 'R', 'f'], dtype=object), 'birth_year': array([1987, 1981, 1991, 1990, 1984, 1977, 1995, 1985, 1994, 1958, 1986,\n",
            "       1959, 1966, 1965, 1967, 1968, 1963, 1974, 1983, 1989, 1976, 1979,\n",
            "       1957, 1993, 1973, 1996, 2000, 1988, 1982, 1972, 1978, 1962, 1975,\n",
            "       1960, 1980, 1970, 1969, 1997, 1956, 1971, 1992, 1964, 1961, 1955,\n",
            "       1998, 1999, 2001, 1938, 2005, 1953, 1954, 1948, 2002, 1952, 1947,\n",
            "       1950, 1932, 1946, 1951, 2011, 1936]), 'branch_code': array(['1X1H', 'UAOD', '748L', 'E5SW', 'XX25', 'ZFER', '30H5', '9F9T',\n",
            "       'O67J', '94KC', '49BM', 'BOAS', 'X23B', 'EU3L', 'O4JC'],\n",
            "      dtype=object), 'occupation_code': array(['2A7I', 'QZYX', 'BP09', 'NO3L', '0OJM', 'UJ5T', '0KID', 'SST3',\n",
            "       'RUFT', 'B3QW', 'P4MD', 'BPSA', 'B8W8', 'OPVX', 'PKW3', '0B60',\n",
            "       '5FPK', 'N2ZZ', '6E4H', 'F57O', 'J9SY', 'WMTK', 'YMGT', '6PE7',\n",
            "       '31JW', 'SS6D', '9IM8', 'U37O', '4W0D', 'R44Q', 'JI64', 'PMAI',\n",
            "       '73AC', 'ZKQ3', 'Y1WG', 'IQFS', 'I31I', 'U9RX', '7UDQ', 'VREH',\n",
            "       'XHJD', 'Q6J6', '2YAO', 'TUN1', 'WSID', 'OYQF', 'Q57T', 'C8F6',\n",
            "       'LQ0W', '3NHZ', 'APO0', 'IE90', 'S9KU', 'K5LB', 'F35Z', '2JHV',\n",
            "       'Q0LY', '2R78', '1NFK', 'JHU5', 'SF1X', 'JSAX', 'L4PL', 'T6AB',\n",
            "       '00MO', 'E39I', 'V4XX', 'GWEP', 'C1E3', '31GG', 'FSXG', 'WE7U',\n",
            "       '2HLT', '6XXU', '6YZA', 'WIWP', 'H1K7', 'DPRV', 'GVZ1', '8HRZ',\n",
            "       'WV7U', '5JRZ', '7KM4', '9HD1', 'RY9B', 'IJ01', '2BE6', 'XC1N',\n",
            "       'RE69', 'BWBW', '44SU', '7G9M', '734F', 'HAXM', '7UHW', 'NSJX',\n",
            "       'KPG9', 'OQMY', 'NQW1', 'WVQF', 'K5GV', 'INEJ', 'VZN9', 'RSN9',\n",
            "       'UC7E', '0PO7', '6KYM', '1MSV', '3X46', '1H8Y', 'FJBW', 'JS7M',\n",
            "       'A793', 'DZRV', 'ZCQR', 'DE5D', 'SSTX', 'PSUY', 'AQIB', '834U',\n",
            "       'WSRG', 'XVMH', 'JQH3', 'AIIN', 'K0DL', 'LGTN', 'CV2C', 'W3Y9',\n",
            "       'RXV3', 'QS0L', '738L', 'MU16', '0S50', 'FSWO', 'LAYD', 'L1P3',\n",
            "       'UBBX', 'N7K2', 'PWCW', 'QQUP', '2XZ1', '9IP9', '8Y24', 'CAAV',\n",
            "       'LLLH', 'JN20', 'IUT9', '74BF', 'IZ77', 'W1X2', 'WE0G', 'X1JO',\n",
            "       'I2OD', 'QJID', 'DHSN', 'QX54', 'IX8T', '2US6', 'VVTC', 'ZWPL',\n",
            "       'ZA1S', 'BX9E', 'NFJH', 'MEFQ', '1MB4', '1DT6', 'Q231', 'RM3L',\n",
            "       '9B5B', 'JUIP', 'Q2L0', '9FA1', 'RF6M', '2G86', '0SH6', '7UWC',\n",
            "       '820B', 'BFD1', 'YX47', 'A4ZC', 'IMHI', 'CYDC', 'FLNZ', 'Y7G1',\n",
            "       'E5PF', 'GZA8', 'S96O', 'DD8W', 'EE5R', 'AIDS', '3YQ1', '0VYC',\n",
            "       'HTQS', 'PJR4', 'NDL9', 'Z7PM', '2346', 'HJF4', '4M0E', 'PPNK',\n",
            "       '2686', '1YKL', 'KNVN', '5LNN', '374O', 'QQVA', 'NX5Y', 'URYD',\n",
            "       'M0WG', '5OVC', 'GQ0N', 'CEL6', '2MBB', 'KBWO', 'ONY7', 'VYSA',\n",
            "       'KUPK', 'OME4', 'R7GL', '1AN5', 'HSVE', 'BER4', 'OEH6', 'P2K2',\n",
            "       '6SKY', 'RH2K', 'ZHC2', 'W3ZV', 'FLXH', '6LKA', 'UYDZ', 'YJXM',\n",
            "       '59QM'], dtype=object), 'occupation_category_code': array(['T4MS', '90QI', '56SI', 'JD7X', 'L44T', 'AHH5'], dtype=object), 'P5DA': array([0, 1]), 'RIBP': array([0, 1]), '8NN1': array([0, 1]), '7POT': array([0, 1]), '66FJ': array([0, 1]), 'GYSR': array([0, 1]), 'SOP4': array([0, 1]), 'RVSZ': array([1, 0]), 'PYUQ': array([0, 1]), 'LJR9': array([0, 1]), 'N2MW': array([0, 1]), 'AHXO': array([0, 1]), 'BSTQ': array([0, 1]), 'FM3X': array([0, 1]), 'K6QO': array([1, 0]), 'QBOL': array([0, 1]), 'JWFN': array([0, 1]), 'JZ9D': array([0, 1]), 'J9JW': array([0, 1]), 'GHYX': array([0, 1]), 'ECY3': array([0, 1])}\n"
          ],
          "name": "stdout"
        }
      ]
    },
    {
      "cell_type": "code",
      "metadata": {
        "id": "vmndPFDxB_al",
        "colab_type": "code",
        "colab": {
          "base_uri": "https://localhost:8080/"
        },
        "outputId": "55b35656-9b80-456a-8852-68d391de270e"
      },
      "source": [
        "#Drop the two records with missing join dates\n",
        "train_data.dropna(inplace = True)\n",
        "print(NACount(train_data))"
      ],
      "execution_count": null,
      "outputs": [
        {
          "output_type": "stream",
          "text": [
            "{'ID': 0, 'join_date': 0, 'sex': 0, 'marital_status': 0, 'birth_year': 0, 'branch_code': 0, 'occupation_code': 0, 'occupation_category_code': 0, 'P5DA': 0, 'RIBP': 0, '8NN1': 0, '7POT': 0, '66FJ': 0, 'GYSR': 0, 'SOP4': 0, 'RVSZ': 0, 'PYUQ': 0, 'LJR9': 0, 'N2MW': 0, 'AHXO': 0, 'BSTQ': 0, 'FM3X': 0, 'K6QO': 0, 'QBOL': 0, 'JWFN': 0, 'JZ9D': 0, 'J9JW': 0, 'GHYX': 0, 'ECY3': 0}\n"
          ],
          "name": "stdout"
        }
      ]
    },
    {
      "cell_type": "code",
      "metadata": {
        "id": "GxutosJ22DYy",
        "colab_type": "code",
        "colab": {}
      },
      "source": [
        "test_data.fillna('2018-11-08', inplace=True)"
      ],
      "execution_count": null,
      "outputs": []
    },
    {
      "cell_type": "code",
      "metadata": {
        "id": "SmJdNRl-Crds",
        "colab_type": "code",
        "colab": {
          "base_uri": "https://localhost:8080/"
        },
        "outputId": "b889c957-25cc-4405-a2b5-0f5d776e675b"
      },
      "source": [
        "#Drop the one record with a missing join date from the Test Data\n",
        "test_data.dropna(inplace = True)\n",
        "print(NACount(train_data))"
      ],
      "execution_count": null,
      "outputs": [
        {
          "output_type": "stream",
          "text": [
            "{'ID': 0, 'join_date': 0, 'sex': 0, 'marital_status': 0, 'birth_year': 0, 'branch_code': 0, 'occupation_code': 0, 'occupation_category_code': 0, 'P5DA': 0, 'RIBP': 0, '8NN1': 0, '7POT': 0, '66FJ': 0, 'GYSR': 0, 'SOP4': 0, 'RVSZ': 0, 'PYUQ': 0, 'LJR9': 0, 'N2MW': 0, 'AHXO': 0, 'BSTQ': 0, 'FM3X': 0, 'K6QO': 0, 'QBOL': 0, 'JWFN': 0, 'JZ9D': 0, 'J9JW': 0, 'GHYX': 0, 'ECY3': 0}\n"
          ],
          "name": "stdout"
        }
      ]
    },
    {
      "cell_type": "code",
      "metadata": {
        "id": "hdawYoemC-xS",
        "colab_type": "code",
        "colab": {}
      },
      "source": [
        "#Replacing little f with big F\n",
        "train_data.marital_status.replace([\"f\"], [\"F\"], inplace = True)"
      ],
      "execution_count": null,
      "outputs": []
    },
    {
      "cell_type": "code",
      "metadata": {
        "id": "f0nsg5qanJP9",
        "colab_type": "code",
        "colab": {
          "base_uri": "https://localhost:8080/"
        },
        "outputId": "690bf66e-6330-4d9b-a34e-6ad0e3daae3e"
      },
      "source": [
        "print(NACount(test_data))"
      ],
      "execution_count": null,
      "outputs": [
        {
          "output_type": "stream",
          "text": [
            "{'ID': 0, 'join_date': 0, 'sex': 0, 'marital_status': 0, 'birth_year': 0, 'branch_code': 0, 'occupation_code': 0, 'occupation_category_code': 0, 'P5DA': 0, 'RIBP': 0, '8NN1': 0, '7POT': 0, '66FJ': 0, 'GYSR': 0, 'SOP4': 0, 'RVSZ': 0, 'PYUQ': 0, 'LJR9': 0, 'N2MW': 0, 'AHXO': 0, 'BSTQ': 0, 'FM3X': 0, 'K6QO': 0, 'QBOL': 0, 'JWFN': 0, 'JZ9D': 0, 'J9JW': 0, 'GHYX': 0, 'ECY3': 0}\n"
          ],
          "name": "stdout"
        }
      ]
    },
    {
      "cell_type": "markdown",
      "metadata": {
        "id": "VR3SmzZLA_ED",
        "colab_type": "text"
      },
      "source": [
        "# Data Type Checking"
      ]
    },
    {
      "cell_type": "code",
      "metadata": {
        "id": "ZzZx9HIqKHwT",
        "colab_type": "code",
        "colab": {}
      },
      "source": [
        "def catDataType(data):\n",
        "  for feature in data.columns:\n",
        "    if data[feature].dtype == \"object\" and feature != \"ID\":\n",
        "      data[feature] = data[feature].astype('category')\n",
        "\n",
        "  return data\n",
        "\n"
      ],
      "execution_count": null,
      "outputs": []
    },
    {
      "cell_type": "code",
      "metadata": {
        "id": "QBioScizFNe-",
        "colab_type": "code",
        "colab": {
          "base_uri": "https://localhost:8080/"
        },
        "outputId": "5791831d-0425-4c02-9b16-55bb21879a0d"
      },
      "source": [
        "#Check the data types of the training data\n",
        "train_data.dtypes"
      ],
      "execution_count": null,
      "outputs": [
        {
          "output_type": "execute_result",
          "data": {
            "text/plain": [
              "ID                          object\n",
              "join_date                   object\n",
              "sex                         object\n",
              "marital_status              object\n",
              "birth_year                   int64\n",
              "branch_code                 object\n",
              "occupation_code             object\n",
              "occupation_category_code    object\n",
              "P5DA                         int64\n",
              "RIBP                         int64\n",
              "8NN1                         int64\n",
              "7POT                         int64\n",
              "66FJ                         int64\n",
              "GYSR                         int64\n",
              "SOP4                         int64\n",
              "RVSZ                         int64\n",
              "PYUQ                         int64\n",
              "LJR9                         int64\n",
              "N2MW                         int64\n",
              "AHXO                         int64\n",
              "BSTQ                         int64\n",
              "FM3X                         int64\n",
              "K6QO                         int64\n",
              "QBOL                         int64\n",
              "JWFN                         int64\n",
              "JZ9D                         int64\n",
              "J9JW                         int64\n",
              "GHYX                         int64\n",
              "ECY3                         int64\n",
              "dtype: object"
            ]
          },
          "metadata": {
            "tags": []
          },
          "execution_count": 18
        }
      ]
    },
    {
      "cell_type": "code",
      "metadata": {
        "id": "knlhERwLJVUc",
        "colab_type": "code",
        "colab": {
          "base_uri": "https://localhost:8080/"
        },
        "outputId": "9f6edb89-c8e0-4477-faba-5cbc27d5f7c2"
      },
      "source": [
        "#Check the data types of the test data\n",
        "test_data.dtypes"
      ],
      "execution_count": null,
      "outputs": [
        {
          "output_type": "execute_result",
          "data": {
            "text/plain": [
              "ID                          object\n",
              "join_date                   object\n",
              "sex                         object\n",
              "marital_status              object\n",
              "birth_year                   int64\n",
              "branch_code                 object\n",
              "occupation_code             object\n",
              "occupation_category_code    object\n",
              "P5DA                         int64\n",
              "RIBP                         int64\n",
              "8NN1                         int64\n",
              "7POT                         int64\n",
              "66FJ                         int64\n",
              "GYSR                         int64\n",
              "SOP4                         int64\n",
              "RVSZ                         int64\n",
              "PYUQ                         int64\n",
              "LJR9                         int64\n",
              "N2MW                         int64\n",
              "AHXO                         int64\n",
              "BSTQ                         int64\n",
              "FM3X                         int64\n",
              "K6QO                         int64\n",
              "QBOL                         int64\n",
              "JWFN                         int64\n",
              "JZ9D                         int64\n",
              "J9JW                         int64\n",
              "GHYX                         int64\n",
              "ECY3                         int64\n",
              "dtype: object"
            ]
          },
          "metadata": {
            "tags": []
          },
          "execution_count": 19
        }
      ]
    },
    {
      "cell_type": "code",
      "metadata": {
        "id": "6oUHbp9Ak117",
        "colab_type": "code",
        "colab": {}
      },
      "source": [
        ""
      ],
      "execution_count": null,
      "outputs": []
    },
    {
      "cell_type": "code",
      "metadata": {
        "id": "un4YkJyjVYcy",
        "colab_type": "code",
        "colab": {}
      },
      "source": [
        "cut_bins = [1930, 1940, 1950, 1960, 1970, 1980, 1990, 2000, 2020]\n",
        "train_data['birth_year'] = pd.cut(train_data['birth_year'], bins=cut_bins)\n",
        "test_data['birth_year'] = pd.cut(test_data['birth_year'], bins=cut_bins)"
      ],
      "execution_count": null,
      "outputs": []
    },
    {
      "cell_type": "code",
      "metadata": {
        "id": "rUimAbXGJt5j",
        "colab_type": "code",
        "colab": {
          "base_uri": "https://localhost:8080/"
        },
        "outputId": "0e06b862-3c51-41dd-89fd-c7fa623bb756"
      },
      "source": [
        "#Convert the join date to datetime\n",
        "train_data['join_date'] = pd.to_datetime(train_data['join_date'])\n",
        "test_data['join_date'] = pd.to_datetime(test_data['join_date'])\n",
        "train_data.dtypes"
      ],
      "execution_count": null,
      "outputs": [
        {
          "output_type": "execute_result",
          "data": {
            "text/plain": [
              "ID                                  object\n",
              "join_date                   datetime64[ns]\n",
              "sex                                 object\n",
              "marital_status                      object\n",
              "birth_year                        category\n",
              "branch_code                         object\n",
              "occupation_code                     object\n",
              "occupation_category_code            object\n",
              "P5DA                                 int64\n",
              "RIBP                                 int64\n",
              "8NN1                                 int64\n",
              "7POT                                 int64\n",
              "66FJ                                 int64\n",
              "GYSR                                 int64\n",
              "SOP4                                 int64\n",
              "RVSZ                                 int64\n",
              "PYUQ                                 int64\n",
              "LJR9                                 int64\n",
              "N2MW                                 int64\n",
              "AHXO                                 int64\n",
              "BSTQ                                 int64\n",
              "FM3X                                 int64\n",
              "K6QO                                 int64\n",
              "QBOL                                 int64\n",
              "JWFN                                 int64\n",
              "JZ9D                                 int64\n",
              "J9JW                                 int64\n",
              "GHYX                                 int64\n",
              "ECY3                                 int64\n",
              "dtype: object"
            ]
          },
          "metadata": {
            "tags": []
          },
          "execution_count": 21
        }
      ]
    },
    {
      "cell_type": "code",
      "metadata": {
        "id": "TeHjh3NPYVVZ",
        "colab_type": "code",
        "colab": {}
      },
      "source": [
        "\n",
        "train_data['join_date'], bins_jd = pd.cut(train_data['join_date'], bins=8, retbins=True)\n",
        "test_data['join_date'] = pd.cut(test_data['join_date'], bins = bins_jd)"
      ],
      "execution_count": null,
      "outputs": []
    },
    {
      "cell_type": "code",
      "metadata": {
        "id": "3CVmFZikZH6Y",
        "colab_type": "code",
        "colab": {
          "base_uri": "https://localhost:8080/"
        },
        "outputId": "e3d9868b-ef5c-44da-c231-8b81b2303391"
      },
      "source": [
        "train_data.join_date.value_counts()"
      ],
      "execution_count": null,
      "outputs": [
        {
          "output_type": "execute_result",
          "data": {
            "text/plain": [
              "(2018-10-08 03:00:00, 2020-01-08]             12062\n",
              "(2017-07-08 06:00:00, 2018-10-08 03:00:00]     7352\n",
              "(2016-04-07 09:00:00, 2017-07-08 06:00:00]     4415\n",
              "(2015-01-06 12:00:00, 2016-04-07 09:00:00]     2570\n",
              "(2013-10-06 15:00:00, 2015-01-06 12:00:00]     1198\n",
              "(2012-07-06 18:00:00, 2013-10-06 15:00:00]      615\n",
              "(2011-04-06 21:00:00, 2012-07-06 18:00:00]      530\n",
              "(2010-01-01 08:16:48, 2011-04-06 21:00:00]      388\n",
              "Name: join_date, dtype: int64"
            ]
          },
          "metadata": {
            "tags": []
          },
          "execution_count": 23
        }
      ]
    },
    {
      "cell_type": "code",
      "metadata": {
        "id": "jVyxvyu0N9iE",
        "colab_type": "code",
        "colab": {
          "base_uri": "https://localhost:8080/"
        },
        "outputId": "8a9186ff-fe36-44b6-e0d4-6744f17503c4"
      },
      "source": [
        "#Convert the categorial features into the category data type\n",
        "train_data = catDataType(train_data)\n",
        "test_data = catDataType(test_data)\n",
        "train_data.dtypes"
      ],
      "execution_count": null,
      "outputs": [
        {
          "output_type": "execute_result",
          "data": {
            "text/plain": [
              "ID                            object\n",
              "join_date                   category\n",
              "sex                         category\n",
              "marital_status              category\n",
              "birth_year                  category\n",
              "branch_code                 category\n",
              "occupation_code             category\n",
              "occupation_category_code    category\n",
              "P5DA                           int64\n",
              "RIBP                           int64\n",
              "8NN1                           int64\n",
              "7POT                           int64\n",
              "66FJ                           int64\n",
              "GYSR                           int64\n",
              "SOP4                           int64\n",
              "RVSZ                           int64\n",
              "PYUQ                           int64\n",
              "LJR9                           int64\n",
              "N2MW                           int64\n",
              "AHXO                           int64\n",
              "BSTQ                           int64\n",
              "FM3X                           int64\n",
              "K6QO                           int64\n",
              "QBOL                           int64\n",
              "JWFN                           int64\n",
              "JZ9D                           int64\n",
              "J9JW                           int64\n",
              "GHYX                           int64\n",
              "ECY3                           int64\n",
              "dtype: object"
            ]
          },
          "metadata": {
            "tags": []
          },
          "execution_count": 24
        }
      ]
    },
    {
      "cell_type": "code",
      "metadata": {
        "id": "dWXY2opRPtqS",
        "colab_type": "code",
        "colab": {
          "base_uri": "https://localhost:8080/"
        },
        "outputId": "e7c15f6f-dc90-48db-d306-ff130568f07d"
      },
      "source": [
        "test_data.join_date.value_counts()"
      ],
      "execution_count": null,
      "outputs": [
        {
          "output_type": "execute_result",
          "data": {
            "text/plain": [
              "(2018-10-08 03:00:00, 2020-01-08]             4150\n",
              "(2017-07-08 06:00:00, 2018-10-08 03:00:00]    2476\n",
              "(2016-04-07 09:00:00, 2017-07-08 06:00:00]    1516\n",
              "(2015-01-06 12:00:00, 2016-04-07 09:00:00]     921\n",
              "(2013-10-06 15:00:00, 2015-01-06 12:00:00]     396\n",
              "(2012-07-06 18:00:00, 2013-10-06 15:00:00]     222\n",
              "(2011-04-06 21:00:00, 2012-07-06 18:00:00]     173\n",
              "(2010-01-01 08:16:48, 2011-04-06 21:00:00]     146\n",
              "Name: join_date, dtype: int64"
            ]
          },
          "metadata": {
            "tags": []
          },
          "execution_count": 25
        }
      ]
    },
    {
      "cell_type": "code",
      "metadata": {
        "id": "KiNrM-9hQKRd",
        "colab_type": "code",
        "colab": {
          "base_uri": "https://localhost:8080/"
        },
        "outputId": "7cd68257-af2d-471d-90f0-7f282aaae726"
      },
      "source": [
        "train_data.info()"
      ],
      "execution_count": null,
      "outputs": [
        {
          "output_type": "stream",
          "text": [
            "<class 'pandas.core.frame.DataFrame'>\n",
            "Int64Index: 29130 entries, 0 to 29131\n",
            "Data columns (total 29 columns):\n",
            " #   Column                    Non-Null Count  Dtype   \n",
            "---  ------                    --------------  -----   \n",
            " 0   ID                        29130 non-null  object  \n",
            " 1   join_date                 29130 non-null  category\n",
            " 2   sex                       29130 non-null  category\n",
            " 3   marital_status            29130 non-null  category\n",
            " 4   birth_year                29130 non-null  category\n",
            " 5   branch_code               29130 non-null  category\n",
            " 6   occupation_code           29130 non-null  category\n",
            " 7   occupation_category_code  29130 non-null  category\n",
            " 8   P5DA                      29130 non-null  int64   \n",
            " 9   RIBP                      29130 non-null  int64   \n",
            " 10  8NN1                      29130 non-null  int64   \n",
            " 11  7POT                      29130 non-null  int64   \n",
            " 12  66FJ                      29130 non-null  int64   \n",
            " 13  GYSR                      29130 non-null  int64   \n",
            " 14  SOP4                      29130 non-null  int64   \n",
            " 15  RVSZ                      29130 non-null  int64   \n",
            " 16  PYUQ                      29130 non-null  int64   \n",
            " 17  LJR9                      29130 non-null  int64   \n",
            " 18  N2MW                      29130 non-null  int64   \n",
            " 19  AHXO                      29130 non-null  int64   \n",
            " 20  BSTQ                      29130 non-null  int64   \n",
            " 21  FM3X                      29130 non-null  int64   \n",
            " 22  K6QO                      29130 non-null  int64   \n",
            " 23  QBOL                      29130 non-null  int64   \n",
            " 24  JWFN                      29130 non-null  int64   \n",
            " 25  JZ9D                      29130 non-null  int64   \n",
            " 26  J9JW                      29130 non-null  int64   \n",
            " 27  GHYX                      29130 non-null  int64   \n",
            " 28  ECY3                      29130 non-null  int64   \n",
            "dtypes: category(7), int64(21), object(1)\n",
            "memory usage: 5.3+ MB\n"
          ],
          "name": "stdout"
        }
      ]
    },
    {
      "cell_type": "code",
      "metadata": {
        "id": "rgSXx9F8evXc",
        "colab_type": "code",
        "colab": {}
      },
      "source": [
        ""
      ],
      "execution_count": null,
      "outputs": []
    },
    {
      "cell_type": "markdown",
      "metadata": {
        "id": "7K5skJM6S3bP",
        "colab_type": "text"
      },
      "source": [
        "# Exploratory Data Analysis Function"
      ]
    },
    {
      "cell_type": "code",
      "metadata": {
        "id": "34cQUxtAX7qW",
        "colab_type": "code",
        "colab": {
          "base_uri": "https://localhost:8080/"
        },
        "outputId": "df72112b-f65d-459e-fc6c-56634a006de9"
      },
      "source": [
        "#Importing the graphing libraries\n",
        "import matplotlib.pyplot as plt \n",
        "import seaborn as sns"
      ],
      "execution_count": null,
      "outputs": [
        {
          "output_type": "stream",
          "text": [
            "/usr/local/lib/python3.6/dist-packages/statsmodels/tools/_testing.py:19: FutureWarning: pandas.util.testing is deprecated. Use the functions in the public API at pandas.testing instead.\n",
            "  import pandas.util.testing as tm\n"
          ],
          "name": "stderr"
        }
      ]
    },
    {
      "cell_type": "code",
      "metadata": {
        "id": "UtTNCpXKS80O",
        "colab_type": "code",
        "colab": {}
      },
      "source": [
        "#Defining graphing function\n",
        "def ExploreGraphs(x_feature, y_result, df, choice, custom):\n",
        "  \n",
        "  #Setting the visual features of the graph\n",
        "  sns.set_style(\"darkgrid\")\n",
        "  plt.figure(figsize=(10,10))\n",
        "  \n",
        "  #Bar Chart choice\n",
        "  if choice == \"bar\":\n",
        "\n",
        "    barplot = sns.barplot(x = x_feature, y = y_result, data = df, ci=custom)\n",
        "    plt.show()\n",
        "\n",
        "  #Histogram choice\n",
        "  elif choice == \"hist\":\n",
        "\n",
        "    histplot = plt.hist(x = df[x_feature])\n",
        "    plt.show()\n",
        "\n",
        "  #Count Plot Choice\n",
        "  elif choice == \"count\":\n",
        "\n",
        "    barplot = sns.countplot(x = x_feature, data = df)\n",
        "    plt.show()\n",
        "\n",
        "  #Heat map choice\n",
        "  elif choice == \"heat\":\n",
        "\n",
        "    plt.figure(figsize=(30,30))\n",
        "    sns.heatmap(df.corr(), vmax=0.8, square=True, annot = True)\n",
        "\n",
        "  #Pair plot choice\n",
        "  elif choice == \"pair\":\n",
        "\n",
        "    sns.pairplot(df)\n",
        "\n",
        "  #In case the choice input is not defined in the function\n",
        "  else:\n",
        "    print(\"Not a valid choice\")"
      ],
      "execution_count": null,
      "outputs": []
    },
    {
      "cell_type": "markdown",
      "metadata": {
        "id": "FUhOEdCCUs2u",
        "colab_type": "text"
      },
      "source": [
        "# Graphing Area"
      ]
    },
    {
      "cell_type": "code",
      "metadata": {
        "id": "XT6Vv_GcUzWL",
        "colab_type": "code",
        "colab": {
          "base_uri": "https://localhost:8080/",
          "height": 606
        },
        "outputId": "b45dbc46-fdac-4bd8-85e3-0123016ab28e"
      },
      "source": [
        "'''\n",
        "How to use function\n",
        "FIRST PARAMETER: X Feature (Pandas Column Name)\n",
        "\n",
        "SECOND PARAMETER: Y FEATURE (Pandas Column Name)\n",
        "\n",
        "THIRD PARAMETER: DATA (Pandas Dataframe)\n",
        "\n",
        "FOURTH PARAMETER: Choice of graph: \"bar\" for Bar Plot (Good for comparing one insurance product with a feature),\n",
        "                                    \"hist\" for Histogram (Good for continuous distrbution of one feature),\n",
        "                                    \"count\" for a count plot (Good for the discontinuous distribution of one feature),\n",
        "                                    \"heat\" for a heatmap between the variables of the dataset,\n",
        "                                    \"pair\" for a pairplot between the variables of a dataset (Be careful of the number of features you're comparing)\n",
        "\n",
        "FIFTH PARAMETER: Confidence Interval error bar for Bar Plot = number (number% Confidence Interval), None (No error bar) \n",
        "'''\n",
        "ExploreGraphs(\"occupation_category_code\", \"RVSZ\", train_data, \"count\", 95)"
      ],
      "execution_count": null,
      "outputs": [
        {
          "output_type": "display_data",
          "data": {
            "image/png": "[encoded data removed]",
            "text/plain": [
              "<Figure size 720x720 with 1 Axes>"
            ]
          },
          "metadata": {
            "tags": []
          }
        }
      ]
    },
    {
      "cell_type": "markdown",
      "metadata": {
        "id": "ZStWvnxBSOng",
        "colab_type": "text"
      },
      "source": [
        "# Feature Engineering"
      ]
    },
    {
      "cell_type": "code",
      "metadata": {
        "id": "wE0i2icesnnZ",
        "colab_type": "code",
        "colab": {}
      },
      "source": [
        "def labelEncoder(data):\n",
        "  for feature in data.columns:\n",
        "    if feature == \"occupation_code\" and feature == \"occupation_code\":\n",
        "      data[feature] = data[feature].astype('category')\n",
        "\n",
        "  return data"
      ],
      "execution_count": null,
      "outputs": []
    },
    {
      "cell_type": "code",
      "metadata": {
        "id": "zV9TDDGCP0M5",
        "colab_type": "code",
        "colab": {}
      },
      "source": [
        "#Creating a copy of the features\n",
        "train_data_features = train_data.iloc[:,1:8]\n",
        "test_data_features = test_data.iloc[:,1:8]\n"
      ],
      "execution_count": null,
      "outputs": []
    },
    {
      "cell_type": "code",
      "metadata": {
        "id": "juEClvjXWcsm",
        "colab_type": "code",
        "colab": {
          "base_uri": "https://localhost:8080/",
          "height": 195
        },
        "outputId": "5a2fd882-dad2-40d5-d559-d3fdadc3963f"
      },
      "source": [
        "#Creating a copy of the products\n",
        "train_data_products = train_data.iloc[:,8:]\n",
        "test_data_products = test_data.iloc[:,8:]\n",
        "test_data_products.head()"
      ],
      "execution_count": null,
      "outputs": [
        {
          "output_type": "execute_result",
          "data": {
            "text/html": [
              "<div>\n",
              "<style scoped>\n",
              "    .dataframe tbody tr th:only-of-type {\n",
              "        vertical-align: middle;\n",
              "    }\n",
              "\n",
              "    .dataframe tbody tr th {\n",
              "        vertical-align: top;\n",
              "    }\n",
              "\n",
              "    .dataframe thead th {\n",
              "        text-align: right;\n",
              "    }\n",
              "</style>\n",
              "<table border=\"1\" class=\"dataframe\">\n",
              "  <thead>\n",
              "    <tr style=\"text-align: right;\">\n",
              "      <th></th>\n",
              "      <th>P5DA</th>\n",
              "      <th>RIBP</th>\n",
              "      <th>8NN1</th>\n",
              "      <th>7POT</th>\n",
              "      <th>66FJ</th>\n",
              "      <th>GYSR</th>\n",
              "      <th>SOP4</th>\n",
              "      <th>RVSZ</th>\n",
              "      <th>PYUQ</th>\n",
              "      <th>LJR9</th>\n",
              "      <th>N2MW</th>\n",
              "      <th>AHXO</th>\n",
              "      <th>BSTQ</th>\n",
              "      <th>FM3X</th>\n",
              "      <th>K6QO</th>\n",
              "      <th>QBOL</th>\n",
              "      <th>JWFN</th>\n",
              "      <th>JZ9D</th>\n",
              "      <th>J9JW</th>\n",
              "      <th>GHYX</th>\n",
              "      <th>ECY3</th>\n",
              "    </tr>\n",
              "  </thead>\n",
              "  <tbody>\n",
              "    <tr>\n",
              "      <th>0</th>\n",
              "      <td>0</td>\n",
              "      <td>0</td>\n",
              "      <td>0</td>\n",
              "      <td>0</td>\n",
              "      <td>0</td>\n",
              "      <td>0</td>\n",
              "      <td>0</td>\n",
              "      <td>1</td>\n",
              "      <td>0</td>\n",
              "      <td>0</td>\n",
              "      <td>0</td>\n",
              "      <td>0</td>\n",
              "      <td>0</td>\n",
              "      <td>0</td>\n",
              "      <td>0</td>\n",
              "      <td>0</td>\n",
              "      <td>0</td>\n",
              "      <td>0</td>\n",
              "      <td>0</td>\n",
              "      <td>0</td>\n",
              "      <td>0</td>\n",
              "    </tr>\n",
              "    <tr>\n",
              "      <th>1</th>\n",
              "      <td>0</td>\n",
              "      <td>0</td>\n",
              "      <td>0</td>\n",
              "      <td>0</td>\n",
              "      <td>0</td>\n",
              "      <td>0</td>\n",
              "      <td>0</td>\n",
              "      <td>1</td>\n",
              "      <td>0</td>\n",
              "      <td>0</td>\n",
              "      <td>0</td>\n",
              "      <td>0</td>\n",
              "      <td>0</td>\n",
              "      <td>0</td>\n",
              "      <td>1</td>\n",
              "      <td>0</td>\n",
              "      <td>0</td>\n",
              "      <td>0</td>\n",
              "      <td>0</td>\n",
              "      <td>0</td>\n",
              "      <td>0</td>\n",
              "    </tr>\n",
              "    <tr>\n",
              "      <th>2</th>\n",
              "      <td>0</td>\n",
              "      <td>0</td>\n",
              "      <td>0</td>\n",
              "      <td>0</td>\n",
              "      <td>0</td>\n",
              "      <td>0</td>\n",
              "      <td>0</td>\n",
              "      <td>1</td>\n",
              "      <td>0</td>\n",
              "      <td>0</td>\n",
              "      <td>0</td>\n",
              "      <td>0</td>\n",
              "      <td>0</td>\n",
              "      <td>0</td>\n",
              "      <td>1</td>\n",
              "      <td>0</td>\n",
              "      <td>0</td>\n",
              "      <td>0</td>\n",
              "      <td>0</td>\n",
              "      <td>0</td>\n",
              "      <td>0</td>\n",
              "    </tr>\n",
              "    <tr>\n",
              "      <th>3</th>\n",
              "      <td>0</td>\n",
              "      <td>0</td>\n",
              "      <td>0</td>\n",
              "      <td>0</td>\n",
              "      <td>0</td>\n",
              "      <td>0</td>\n",
              "      <td>0</td>\n",
              "      <td>1</td>\n",
              "      <td>0</td>\n",
              "      <td>0</td>\n",
              "      <td>0</td>\n",
              "      <td>0</td>\n",
              "      <td>0</td>\n",
              "      <td>0</td>\n",
              "      <td>0</td>\n",
              "      <td>0</td>\n",
              "      <td>0</td>\n",
              "      <td>0</td>\n",
              "      <td>0</td>\n",
              "      <td>0</td>\n",
              "      <td>0</td>\n",
              "    </tr>\n",
              "    <tr>\n",
              "      <th>4</th>\n",
              "      <td>0</td>\n",
              "      <td>0</td>\n",
              "      <td>0</td>\n",
              "      <td>0</td>\n",
              "      <td>0</td>\n",
              "      <td>0</td>\n",
              "      <td>0</td>\n",
              "      <td>0</td>\n",
              "      <td>0</td>\n",
              "      <td>0</td>\n",
              "      <td>0</td>\n",
              "      <td>0</td>\n",
              "      <td>0</td>\n",
              "      <td>0</td>\n",
              "      <td>0</td>\n",
              "      <td>0</td>\n",
              "      <td>0</td>\n",
              "      <td>1</td>\n",
              "      <td>0</td>\n",
              "      <td>0</td>\n",
              "      <td>0</td>\n",
              "    </tr>\n",
              "  </tbody>\n",
              "</table>\n",
              "</div>"
            ],
            "text/plain": [
              "   P5DA  RIBP  8NN1  7POT  66FJ  GYSR  ...  QBOL  JWFN  JZ9D  J9JW  GHYX  ECY3\n",
              "0     0     0     0     0     0     0  ...     0     0     0     0     0     0\n",
              "1     0     0     0     0     0     0  ...     0     0     0     0     0     0\n",
              "2     0     0     0     0     0     0  ...     0     0     0     0     0     0\n",
              "3     0     0     0     0     0     0  ...     0     0     0     0     0     0\n",
              "4     0     0     0     0     0     0  ...     0     0     1     0     0     0\n",
              "\n",
              "[5 rows x 21 columns]"
            ]
          },
          "metadata": {
            "tags": []
          },
          "execution_count": 32
        }
      ]
    },
    {
      "cell_type": "code",
      "metadata": {
        "id": "RHXBF_5qtXHh",
        "colab_type": "code",
        "colab": {
          "base_uri": "https://localhost:8080/",
          "height": 168
        },
        "outputId": "3cf7e120-a4db-4f5a-9183-9316f40d677a"
      },
      "source": [
        "test_data.birth_year.value_counts()"
      ],
      "execution_count": null,
      "outputs": [
        {
          "output_type": "execute_result",
          "data": {
            "text/plain": [
              "(1980, 1990]    3751\n",
              "(1970, 1980]    3155\n",
              "(1960, 1970]    1580\n",
              "(1990, 2000]    1241\n",
              "(1950, 1960]     265\n",
              "(2000, 2020]       4\n",
              "(1940, 1950]       2\n",
              "(1930, 1940]       2\n",
              "Name: birth_year, dtype: int64"
            ]
          },
          "metadata": {
            "tags": []
          },
          "execution_count": 33
        }
      ]
    },
    {
      "cell_type": "code",
      "metadata": {
        "id": "E9ua85VqZs_j",
        "colab_type": "code",
        "colab": {
          "base_uri": "https://localhost:8080/",
          "height": 402
        },
        "outputId": "9d99722e-15ca-48e2-fceb-606ef02a9c38"
      },
      "source": [
        "train_data_features.drop(columns = 'occupation_code', inplace = True)\n",
        "test_data_features.drop(columns = 'occupation_code', inplace = True)\n",
        "test_data_features"
      ],
      "execution_count": null,
      "outputs": [
        {
          "output_type": "execute_result",
          "data": {
            "text/html": [
              "<div>\n",
              "<style scoped>\n",
              "    .dataframe tbody tr th:only-of-type {\n",
              "        vertical-align: middle;\n",
              "    }\n",
              "\n",
              "    .dataframe tbody tr th {\n",
              "        vertical-align: top;\n",
              "    }\n",
              "\n",
              "    .dataframe thead th {\n",
              "        text-align: right;\n",
              "    }\n",
              "</style>\n",
              "<table border=\"1\" class=\"dataframe\">\n",
              "  <thead>\n",
              "    <tr style=\"text-align: right;\">\n",
              "      <th></th>\n",
              "      <th>join_date</th>\n",
              "      <th>sex</th>\n",
              "      <th>marital_status</th>\n",
              "      <th>birth_year</th>\n",
              "      <th>branch_code</th>\n",
              "      <th>occupation_category_code</th>\n",
              "    </tr>\n",
              "  </thead>\n",
              "  <tbody>\n",
              "    <tr>\n",
              "      <th>0</th>\n",
              "      <td>(2017-07-08 06:00:00, 2018-10-08 03:00:00]</td>\n",
              "      <td>M</td>\n",
              "      <td>M</td>\n",
              "      <td>(1980, 1990]</td>\n",
              "      <td>94KC</td>\n",
              "      <td>90QI</td>\n",
              "    </tr>\n",
              "    <tr>\n",
              "      <th>1</th>\n",
              "      <td>(2018-10-08 03:00:00, 2020-01-08]</td>\n",
              "      <td>M</td>\n",
              "      <td>M</td>\n",
              "      <td>(1990, 2000]</td>\n",
              "      <td>1X1H</td>\n",
              "      <td>90QI</td>\n",
              "    </tr>\n",
              "    <tr>\n",
              "      <th>2</th>\n",
              "      <td>(2018-10-08 03:00:00, 2020-01-08]</td>\n",
              "      <td>F</td>\n",
              "      <td>W</td>\n",
              "      <td>(1960, 1970]</td>\n",
              "      <td>UAOD</td>\n",
              "      <td>T4MS</td>\n",
              "    </tr>\n",
              "    <tr>\n",
              "      <th>3</th>\n",
              "      <td>(2018-10-08 03:00:00, 2020-01-08]</td>\n",
              "      <td>M</td>\n",
              "      <td>M</td>\n",
              "      <td>(1980, 1990]</td>\n",
              "      <td>94KC</td>\n",
              "      <td>T4MS</td>\n",
              "    </tr>\n",
              "    <tr>\n",
              "      <th>4</th>\n",
              "      <td>(2018-10-08 03:00:00, 2020-01-08]</td>\n",
              "      <td>F</td>\n",
              "      <td>M</td>\n",
              "      <td>(1980, 1990]</td>\n",
              "      <td>UAOD</td>\n",
              "      <td>T4MS</td>\n",
              "    </tr>\n",
              "    <tr>\n",
              "      <th>...</th>\n",
              "      <td>...</td>\n",
              "      <td>...</td>\n",
              "      <td>...</td>\n",
              "      <td>...</td>\n",
              "      <td>...</td>\n",
              "      <td>...</td>\n",
              "    </tr>\n",
              "    <tr>\n",
              "      <th>9995</th>\n",
              "      <td>(2018-10-08 03:00:00, 2020-01-08]</td>\n",
              "      <td>F</td>\n",
              "      <td>M</td>\n",
              "      <td>(1980, 1990]</td>\n",
              "      <td>748L</td>\n",
              "      <td>T4MS</td>\n",
              "    </tr>\n",
              "    <tr>\n",
              "      <th>9996</th>\n",
              "      <td>(2018-10-08 03:00:00, 2020-01-08]</td>\n",
              "      <td>M</td>\n",
              "      <td>M</td>\n",
              "      <td>(1970, 1980]</td>\n",
              "      <td>UAOD</td>\n",
              "      <td>T4MS</td>\n",
              "    </tr>\n",
              "    <tr>\n",
              "      <th>9997</th>\n",
              "      <td>(2017-07-08 06:00:00, 2018-10-08 03:00:00]</td>\n",
              "      <td>M</td>\n",
              "      <td>M</td>\n",
              "      <td>(1990, 2000]</td>\n",
              "      <td>748L</td>\n",
              "      <td>56SI</td>\n",
              "    </tr>\n",
              "    <tr>\n",
              "      <th>9998</th>\n",
              "      <td>(2013-10-06 15:00:00, 2015-01-06 12:00:00]</td>\n",
              "      <td>F</td>\n",
              "      <td>U</td>\n",
              "      <td>(1980, 1990]</td>\n",
              "      <td>49BM</td>\n",
              "      <td>T4MS</td>\n",
              "    </tr>\n",
              "    <tr>\n",
              "      <th>9999</th>\n",
              "      <td>(2017-07-08 06:00:00, 2018-10-08 03:00:00]</td>\n",
              "      <td>M</td>\n",
              "      <td>U</td>\n",
              "      <td>(1970, 1980]</td>\n",
              "      <td>94KC</td>\n",
              "      <td>T4MS</td>\n",
              "    </tr>\n",
              "  </tbody>\n",
              "</table>\n",
              "<p>10000 rows × 6 columns</p>\n",
              "</div>"
            ],
            "text/plain": [
              "                                       join_date  ... occupation_category_code\n",
              "0     (2017-07-08 06:00:00, 2018-10-08 03:00:00]  ...                     90QI\n",
              "1              (2018-10-08 03:00:00, 2020-01-08]  ...                     90QI\n",
              "2              (2018-10-08 03:00:00, 2020-01-08]  ...                     T4MS\n",
              "3              (2018-10-08 03:00:00, 2020-01-08]  ...                     T4MS\n",
              "4              (2018-10-08 03:00:00, 2020-01-08]  ...                     T4MS\n",
              "...                                          ...  ...                      ...\n",
              "9995           (2018-10-08 03:00:00, 2020-01-08]  ...                     T4MS\n",
              "9996           (2018-10-08 03:00:00, 2020-01-08]  ...                     T4MS\n",
              "9997  (2017-07-08 06:00:00, 2018-10-08 03:00:00]  ...                     56SI\n",
              "9998  (2013-10-06 15:00:00, 2015-01-06 12:00:00]  ...                     T4MS\n",
              "9999  (2017-07-08 06:00:00, 2018-10-08 03:00:00]  ...                     T4MS\n",
              "\n",
              "[10000 rows x 6 columns]"
            ]
          },
          "metadata": {
            "tags": []
          },
          "execution_count": 34
        }
      ]
    },
    {
      "cell_type": "code",
      "metadata": {
        "id": "e-wbGMa-oy6g",
        "colab_type": "code",
        "colab": {
          "base_uri": "https://localhost:8080/",
          "height": 286
        },
        "outputId": "0252edec-feb5-4feb-ff49-84779f8acfa0"
      },
      "source": [
        "test_data_features.branch_code.value_counts()"
      ],
      "execution_count": null,
      "outputs": [
        {
          "output_type": "execute_result",
          "data": {
            "text/plain": [
              "748L    2783\n",
              "UAOD    1207\n",
              "94KC    1191\n",
              "30H5    1114\n",
              "E5SW    1069\n",
              "XX25     999\n",
              "1X1H     435\n",
              "O67J     413\n",
              "ZFER     274\n",
              "49BM     196\n",
              "9F9T     146\n",
              "BOAS     130\n",
              "X23B      33\n",
              "O4JC       6\n",
              "EU3L       4\n",
              "Name: branch_code, dtype: int64"
            ]
          },
          "metadata": {
            "tags": []
          },
          "execution_count": 40
        }
      ]
    },
    {
      "cell_type": "code",
      "metadata": {
        "id": "pbT4zCFBe8To",
        "colab_type": "code",
        "colab": {
          "base_uri": "https://localhost:8080/",
          "height": 168
        },
        "outputId": "d33dd8e6-8933-4d22-f5cd-d8966330a2d7"
      },
      "source": [
        "test_data.join_date.value_counts()"
      ],
      "execution_count": null,
      "outputs": [
        {
          "output_type": "execute_result",
          "data": {
            "text/plain": [
              "(2018-10-08 03:00:00, 2020-01-08]             4150\n",
              "(2017-07-08 06:00:00, 2018-10-08 03:00:00]    2476\n",
              "(2016-04-07 09:00:00, 2017-07-08 06:00:00]    1516\n",
              "(2015-01-06 12:00:00, 2016-04-07 09:00:00]     921\n",
              "(2013-10-06 15:00:00, 2015-01-06 12:00:00]     396\n",
              "(2012-07-06 18:00:00, 2013-10-06 15:00:00]     222\n",
              "(2011-04-06 21:00:00, 2012-07-06 18:00:00]     173\n",
              "(2010-01-01 08:16:48, 2011-04-06 21:00:00]     146\n",
              "Name: join_date, dtype: int64"
            ]
          },
          "metadata": {
            "tags": []
          },
          "execution_count": 36
        }
      ]
    },
    {
      "cell_type": "code",
      "metadata": {
        "id": "VWZ4QX6Mq7K1",
        "colab_type": "code",
        "colab": {}
      },
      "source": [
        "pd.DataFrame(train_data_features).to_csv(\"drive/My Drive/train_data_features.csv\")\n",
        "pd.DataFrame(test_data_features).to_csv(\"drive/My Drive/test_data_features.csv\")\n",
        "pd.DataFrame(train_data_products).to_csv(\"drive/My Drive/train_data_products.csv\")\n",
        "pd.DataFrame(test_data_products).to_csv(\"drive/My Drive/test_data_products.csv\")"
      ],
      "execution_count": null,
      "outputs": []
    },
    {
      "cell_type": "markdown",
      "metadata": {
        "id": "WZhVmu6sGbrf",
        "colab_type": "text"
      },
      "source": [
        ""
      ]
    },
    {
      "cell_type": "code",
      "metadata": {
        "id": "33XfaWyvHNgt",
        "colab_type": "code",
        "colab": {
          "base_uri": "https://localhost:8080/",
          "height": 296
        },
        "outputId": "4037125f-51a0-4125-a11c-79adba0be696"
      },
      "source": [
        ""
      ],
      "execution_count": null,
      "outputs": [
        {
          "output_type": "error",
          "ename": "AttributeError",
          "evalue": "ignored",
          "traceback": [
            "\u001b[0;31m---------------------------------------------------------------------------\u001b[0m",
            "\u001b[0;31mAttributeError\u001b[0m                            Traceback (most recent call last)",
            "\u001b[0;32m<ipython-input-38-4f9794ac250f>\u001b[0m in \u001b[0;36m<module>\u001b[0;34m()\u001b[0m\n\u001b[0;32m----> 1\u001b[0;31m \u001b[0mtrain_data_features\u001b[0m\u001b[0;34m.\u001b[0m\u001b[0mbranch_code\u001b[0m \u001b[0;34m=\u001b[0m \u001b[0mtrain_data_features\u001b[0m\u001b[0;34m.\u001b[0m\u001b[0mbranch_code\u001b[0m\u001b[0;34m.\u001b[0m\u001b[0mcodes\u001b[0m\u001b[0;34m(\u001b[0m\u001b[0;34m)\u001b[0m\u001b[0;34m\u001b[0m\u001b[0;34m\u001b[0m\u001b[0m\n\u001b[0m\u001b[1;32m      2\u001b[0m \u001b[0mtest_data_features\u001b[0m\u001b[0;34m.\u001b[0m\u001b[0mbranch_code\u001b[0m \u001b[0;34m=\u001b[0m \u001b[0mtest_data_features\u001b[0m\u001b[0;34m.\u001b[0m\u001b[0mbranch_code\u001b[0m\u001b[0;34m.\u001b[0m\u001b[0mcodes\u001b[0m\u001b[0;34m(\u001b[0m\u001b[0;34m)\u001b[0m\u001b[0;34m\u001b[0m\u001b[0;34m\u001b[0m\u001b[0m\n",
            "\u001b[0;32m/usr/local/lib/python3.6/dist-packages/pandas/core/generic.py\u001b[0m in \u001b[0;36m__getattr__\u001b[0;34m(self, name)\u001b[0m\n\u001b[1;32m   5272\u001b[0m             \u001b[0;32mif\u001b[0m \u001b[0mself\u001b[0m\u001b[0;34m.\u001b[0m\u001b[0m_info_axis\u001b[0m\u001b[0;34m.\u001b[0m\u001b[0m_can_hold_identifiers_and_holds_name\u001b[0m\u001b[0;34m(\u001b[0m\u001b[0mname\u001b[0m\u001b[0;34m)\u001b[0m\u001b[0;34m:\u001b[0m\u001b[0;34m\u001b[0m\u001b[0;34m\u001b[0m\u001b[0m\n\u001b[1;32m   5273\u001b[0m                 \u001b[0;32mreturn\u001b[0m \u001b[0mself\u001b[0m\u001b[0;34m[\u001b[0m\u001b[0mname\u001b[0m\u001b[0;34m]\u001b[0m\u001b[0;34m\u001b[0m\u001b[0;34m\u001b[0m\u001b[0m\n\u001b[0;32m-> 5274\u001b[0;31m             \u001b[0;32mreturn\u001b[0m \u001b[0mobject\u001b[0m\u001b[0;34m.\u001b[0m\u001b[0m__getattribute__\u001b[0m\u001b[0;34m(\u001b[0m\u001b[0mself\u001b[0m\u001b[0;34m,\u001b[0m \u001b[0mname\u001b[0m\u001b[0;34m)\u001b[0m\u001b[0;34m\u001b[0m\u001b[0;34m\u001b[0m\u001b[0m\n\u001b[0m\u001b[1;32m   5275\u001b[0m \u001b[0;34m\u001b[0m\u001b[0m\n\u001b[1;32m   5276\u001b[0m     \u001b[0;32mdef\u001b[0m \u001b[0m__setattr__\u001b[0m\u001b[0;34m(\u001b[0m\u001b[0mself\u001b[0m\u001b[0;34m,\u001b[0m \u001b[0mname\u001b[0m\u001b[0;34m:\u001b[0m \u001b[0mstr\u001b[0m\u001b[0;34m,\u001b[0m \u001b[0mvalue\u001b[0m\u001b[0;34m)\u001b[0m \u001b[0;34m->\u001b[0m \u001b[0;32mNone\u001b[0m\u001b[0;34m:\u001b[0m\u001b[0;34m\u001b[0m\u001b[0;34m\u001b[0m\u001b[0m\n",
            "\u001b[0;31mAttributeError\u001b[0m: 'Series' object has no attribute 'codes'"
          ]
        }
      ]
    },
    {
      "cell_type": "markdown",
      "metadata": {
        "id": "O-NrRxjmbt0r",
        "colab_type": "text"
      },
      "source": [
        "# Encoding the Categorial Data"
      ]
    },
    {
      "cell_type": "code",
      "metadata": {
        "id": "_5vWjsJocj5w",
        "colab_type": "code",
        "colab": {}
      },
      "source": [
        "#Importing One Hot Encoding libraries\n",
        "from sklearn.compose import ColumnTransformer\n",
        "from sklearn.preprocessing import OneHotEncoder"
      ],
      "execution_count": null,
      "outputs": []
    },
    {
      "cell_type": "code",
      "metadata": {
        "id": "c8087wHwgFhZ",
        "colab_type": "code",
        "colab": {}
      },
      "source": [
        "train_data_features"
      ],
      "execution_count": null,
      "outputs": []
    },
    {
      "cell_type": "code",
      "metadata": {
        "id": "PmphSZVziuca",
        "colab_type": "code",
        "colab": {}
      },
      "source": [
        ""
      ],
      "execution_count": null,
      "outputs": []
    },
    {
      "cell_type": "code",
      "metadata": {
        "id": "4k3NE0Bnb5c8",
        "colab_type": "code",
        "colab": {}
      },
      "source": [
        "\n",
        "ct = ColumnTransformer(transformers=[('encoder', OneHotEncoder(sparse=False), [0,1,2,3,5])], remainder='passthrough')\n",
        "train_data_features = (ct.fit_transform(train_data_features))\n",
        "test_data_features = (ct.fit_transform(test_data_features))"
      ],
      "execution_count": null,
      "outputs": []
    },
    {
      "cell_type": "code",
      "metadata": {
        "id": "PD5SLUztn1bM",
        "colab_type": "code",
        "colab": {}
      },
      "source": [
        ""
      ],
      "execution_count": null,
      "outputs": []
    },
    {
      "cell_type": "code",
      "metadata": {
        "id": "Fs7HCgG_kftM",
        "colab_type": "code",
        "colab": {}
      },
      "source": [
        "train_data_features.shape"
      ],
      "execution_count": null,
      "outputs": []
    },
    {
      "cell_type": "markdown",
      "metadata": {
        "id": "VsnYYbHmdDs0",
        "colab_type": "text"
      },
      "source": [
        "# Split Encoded Data"
      ]
    },
    {
      "cell_type": "code",
      "metadata": {
        "id": "Px5tVQAidDJ5",
        "colab_type": "code",
        "colab": {}
      },
      "source": [
        "from sklearn.model_selection import train_test_split\n",
        "X_train_70, X_valid_30, Y_train_70, Y_valid_30 = train_test_split(train_data_features, train_data_products, test_size = 0.3, random_state=1)"
      ],
      "execution_count": null,
      "outputs": []
    },
    {
      "cell_type": "code",
      "metadata": {
        "id": "bS957kP3QOy7",
        "colab_type": "code",
        "colab": {}
      },
      "source": [
        "pd.DataFrame(X_train_70).to_csv(\"drive/My Drive/unscaled_X_train_70.csv\")\n",
        "pd.DataFrame(X_valid_30).to_csv(\"drive/My Drive/unscaled_X_valid_30.csv\")\n",
        "pd.DataFrame(Y_train_70).to_csv(\"drive/My Drive/unscaled_Y_train_70.csv\")\n",
        "pd.DataFrame(Y_valid_30).to_csv(\"drive/My Drive/unscaled_Y_valid_30.csv\")\n",
        "\n",
        "pd.DataFrame(test_data_features).to_csv(\"drive/My Drive/unscaled_test_data_features.csv\")\n",
        "pd.DataFrame(test_data_products).to_csv(\"drive/My Drive/unscaled_test_data_products.csv\")"
      ],
      "execution_count": null,
      "outputs": []
    },
    {
      "cell_type": "markdown",
      "metadata": {
        "id": "pe0pU2jefNzy",
        "colab_type": "text"
      },
      "source": [
        "# Feature Scaling"
      ]
    },
    {
      "cell_type": "code",
      "metadata": {
        "id": "WlmTtVGte63s",
        "colab_type": "code",
        "colab": {}
      },
      "source": [
        "from sklearn.preprocessing import StandardScaler\n",
        "sc = StandardScaler()\n",
        "X_train_70 = sc.fit_transform(X_train_70)\n",
        "X_valid_30 = sc.transform(X_valid_30)"
      ],
      "execution_count": null,
      "outputs": []
    },
    {
      "cell_type": "code",
      "metadata": {
        "id": "kIsXuvDNffXx",
        "colab_type": "code",
        "colab": {}
      },
      "source": [
        "test_data_features = sc.fit_transform(test_data_features)"
      ],
      "execution_count": null,
      "outputs": []
    },
    {
      "cell_type": "markdown",
      "metadata": {
        "id": "ARGpxW07fwRK",
        "colab_type": "text"
      },
      "source": [
        "# Export Cleaned Data"
      ]
    },
    {
      "cell_type": "code",
      "metadata": {
        "id": "EOjF-RcWfvV7",
        "colab_type": "code",
        "colab": {}
      },
      "source": [
        "pd.DataFrame(X_train_70).to_csv(\"drive/My Drive/X_train_70.csv\")\n",
        "pd.DataFrame(X_valid_30).to_csv(\"drive/My Drive/X_valid_30.csv\")\n",
        "pd.DataFrame(Y_train_70).to_csv(\"drive/My Drive/Y_train_70.csv\")\n",
        "pd.DataFrame(Y_valid_30).to_csv(\"drive/My Drive/Y_valid_30.csv\")"
      ],
      "execution_count": null,
      "outputs": []
    },
    {
      "cell_type": "code",
      "metadata": {
        "id": "lAf-jOH-hgFb",
        "colab_type": "code",
        "colab": {}
      },
      "source": [
        "pd.DataFrame(test_data_features).to_csv(\"drive/My Drive/encoded_test_data_features.csv\")\n",
        "pd.DataFrame(test_data_products).to_csv(\"drive/My Drive/encoded_test_data_products.csv\")"
      ],
      "execution_count": null,
      "outputs": []
    },
    {
      "cell_type": "code",
      "metadata": {
        "id": "ovjnBQ-pzcjq",
        "colab_type": "code",
        "colab": {}
      },
      "source": [
        "pd.DataFrame(test_data).to_csv(\"drive/My Drive/test_data_samples.csv\")"
      ],
      "execution_count": null,
      "outputs": []
    }
  ]
}
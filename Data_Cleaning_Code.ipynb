{
  "nbformat": 4,
  "nbformat_minor": 0,
  "metadata": {
    "colab": {
      "name": "Data_Cleaning_Code",
      "provenance": [],
      "toc_visible": true,
      "mount_file_id": "1iKRgrGHfJgq9kQZoqVoYAKt8eAhh-3XZ",
      "authorship_tag": "ABX9TyP2pWVRC/dooPfT3GW9A1P6",
      "include_colab_link": true
    },
    "kernelspec": {
      "name": "python3",
      "display_name": "Python 3"
    }
  },
  "cells": [
    {
      "cell_type": "markdown",
      "metadata": {
        "id": "view-in-github",
        "colab_type": "text"
      },
      "source": [
        "<a href=\"https://colab.research.google.com/github/malcolmrite-dsi/CPT-House-Predictions/blob/master/Data_Cleaning_Code.ipynb\" target=\"_parent\"><img src=\"https://colab.research.google.com/assets/colab-badge.svg\" alt=\"Open In Colab\"/></a>"
      ]
    },
    {
      "cell_type": "markdown",
      "metadata": {
        "id": "4BiOaTPxTU9F",
        "colab_type": "text"
      },
      "source": [
        "# Importing Libraries"
      ]
    },
    {
      "cell_type": "code",
      "metadata": {
        "id": "QUBvgsZs0Qpn",
        "colab_type": "code",
        "colab": {
          "base_uri": "https://localhost:8080/",
          "height": 70
        },
        "outputId": "ff34c4b3-3568-455b-8639-f11de69d1274"
      },
      "source": [
        "import pandas as pd\n",
        "import numpy as np\n",
        "\n",
        "import matplotlib.pyplot as plt\n",
        "import seaborn as sns"
      ],
      "execution_count": 1,
      "outputs": [
        {
          "output_type": "stream",
          "text": [
            "/usr/local/lib/python3.6/dist-packages/statsmodels/tools/_testing.py:19: FutureWarning: pandas.util.testing is deprecated. Use the functions in the public API at pandas.testing instead.\n",
            "  import pandas.util.testing as tm\n"
          ],
          "name": "stderr"
        }
      ]
    },
    {
      "cell_type": "code",
      "metadata": {
        "id": "qNgcGzyWUZfe",
        "colab_type": "code",
        "colab": {}
      },
      "source": [
        "#Importing One Hot Encoding libraries\n",
        "from sklearn.compose import ColumnTransformer\n",
        "from sklearn.preprocessing import OneHotEncoder"
      ],
      "execution_count": 44,
      "outputs": []
    },
    {
      "cell_type": "markdown",
      "metadata": {
        "id": "pflhCJyaXtAh",
        "colab_type": "text"
      },
      "source": [
        "# Importing the Datasets"
      ]
    },
    {
      "cell_type": "markdown",
      "metadata": {
        "id": "Sj3BTN0uXy0w",
        "colab_type": "text"
      },
      "source": [
        "## Property 24 Dataset"
      ]
    },
    {
      "cell_type": "code",
      "metadata": {
        "id": "_uJMSIiCXkCw",
        "colab_type": "code",
        "colab": {
          "base_uri": "https://localhost:8080/",
          "height": 195
        },
        "outputId": "4b66ad52-6cbc-42b6-ef13-c6e51f447eef"
      },
      "source": [
        "p24_df = pd.read_csv(\"drive/My Drive/cpt-houseprices_p24.csv\")\n",
        "p24_df.head()"
      ],
      "execution_count": 6,
      "outputs": [
        {
          "output_type": "execute_result",
          "data": {
            "text/html": [
              "<div>\n",
              "<style scoped>\n",
              "    .dataframe tbody tr th:only-of-type {\n",
              "        vertical-align: middle;\n",
              "    }\n",
              "\n",
              "    .dataframe tbody tr th {\n",
              "        vertical-align: top;\n",
              "    }\n",
              "\n",
              "    .dataframe thead th {\n",
              "        text-align: right;\n",
              "    }\n",
              "</style>\n",
              "<table border=\"1\" class=\"dataframe\">\n",
              "  <thead>\n",
              "    <tr style=\"text-align: right;\">\n",
              "      <th></th>\n",
              "      <th>Description</th>\n",
              "      <th>Suburb</th>\n",
              "      <th>Price</th>\n",
              "    </tr>\n",
              "  </thead>\n",
              "  <tbody>\n",
              "    <tr>\n",
              "      <th>0</th>\n",
              "      <td>2 Bedroom Apartment</td>\n",
              "      <td>Muizenberg</td>\n",
              "      <td>R 1 425 000</td>\n",
              "    </tr>\n",
              "    <tr>\n",
              "      <th>1</th>\n",
              "      <td>5 Bedroom House</td>\n",
              "      <td>Pinelands</td>\n",
              "      <td>R 3 200 000</td>\n",
              "    </tr>\n",
              "    <tr>\n",
              "      <th>2</th>\n",
              "      <td>3 Bedroom Apartment</td>\n",
              "      <td>Diep River</td>\n",
              "      <td>R 19 500 000</td>\n",
              "    </tr>\n",
              "    <tr>\n",
              "      <th>3</th>\n",
              "      <td>6 Bedroom House</td>\n",
              "      <td>Cape Town City Centre</td>\n",
              "      <td>R 4 495 000</td>\n",
              "    </tr>\n",
              "    <tr>\n",
              "      <th>4</th>\n",
              "      <td>3 Bedroom House</td>\n",
              "      <td>Kenilworth</td>\n",
              "      <td>R 6 995 000</td>\n",
              "    </tr>\n",
              "  </tbody>\n",
              "</table>\n",
              "</div>"
            ],
            "text/plain": [
              "           Description                 Suburb         Price\n",
              "0  2 Bedroom Apartment             Muizenberg   R 1 425 000\n",
              "1      5 Bedroom House              Pinelands   R 3 200 000\n",
              "2  3 Bedroom Apartment             Diep River  R 19 500 000\n",
              "3      6 Bedroom House  Cape Town City Centre   R 4 495 000\n",
              "4      3 Bedroom House             Kenilworth   R 6 995 000"
            ]
          },
          "metadata": {
            "tags": []
          },
          "execution_count": 6
        }
      ]
    },
    {
      "cell_type": "markdown",
      "metadata": {
        "id": "XOTEiKM7EX_w",
        "colab_type": "text"
      },
      "source": [
        "# Feature Engineering"
      ]
    },
    {
      "cell_type": "code",
      "metadata": {
        "id": "D0NhRQCBEcRB",
        "colab_type": "code",
        "colab": {}
      },
      "source": [
        "def featureGeneration(df):\n",
        "  Bedrooms = []\n",
        "  HouseType = []\n",
        "  for i, descr in enumerate(df[\"Description\"]):\n",
        "    desc = str(descr).split()\n",
        "    if desc[0].isdigit():\n",
        "      Bedrooms.append(desc[0]) \n",
        "      HouseType.append(desc[-1])\n",
        "    else:\n",
        "      df.drop(i, inplace = True)\n",
        "  \n",
        "  df.insert(loc = 1, column = \"Bedrooms\", value = Bedrooms)\n",
        "  df.insert(loc = 2, column = \"HouseType\", value = HouseType)\n",
        "  return df"
      ],
      "execution_count": 5,
      "outputs": []
    },
    {
      "cell_type": "code",
      "metadata": {
        "id": "4vqjm6WPIn2F",
        "colab_type": "code",
        "colab": {
          "base_uri": "https://localhost:8080/",
          "height": 195
        },
        "outputId": "f2842a0b-1da5-4cf1-e3e3-b25dc9b02986"
      },
      "source": [
        "p24_df = featureGeneration(p24_df)\n",
        "p24_df.head()"
      ],
      "execution_count": 7,
      "outputs": [
        {
          "output_type": "execute_result",
          "data": {
            "text/html": [
              "<div>\n",
              "<style scoped>\n",
              "    .dataframe tbody tr th:only-of-type {\n",
              "        vertical-align: middle;\n",
              "    }\n",
              "\n",
              "    .dataframe tbody tr th {\n",
              "        vertical-align: top;\n",
              "    }\n",
              "\n",
              "    .dataframe thead th {\n",
              "        text-align: right;\n",
              "    }\n",
              "</style>\n",
              "<table border=\"1\" class=\"dataframe\">\n",
              "  <thead>\n",
              "    <tr style=\"text-align: right;\">\n",
              "      <th></th>\n",
              "      <th>Description</th>\n",
              "      <th>Bedrooms</th>\n",
              "      <th>HouseType</th>\n",
              "      <th>Suburb</th>\n",
              "      <th>Price</th>\n",
              "    </tr>\n",
              "  </thead>\n",
              "  <tbody>\n",
              "    <tr>\n",
              "      <th>0</th>\n",
              "      <td>2 Bedroom Apartment</td>\n",
              "      <td>2</td>\n",
              "      <td>Apartment</td>\n",
              "      <td>Muizenberg</td>\n",
              "      <td>R 1 425 000</td>\n",
              "    </tr>\n",
              "    <tr>\n",
              "      <th>1</th>\n",
              "      <td>5 Bedroom House</td>\n",
              "      <td>5</td>\n",
              "      <td>House</td>\n",
              "      <td>Pinelands</td>\n",
              "      <td>R 3 200 000</td>\n",
              "    </tr>\n",
              "    <tr>\n",
              "      <th>2</th>\n",
              "      <td>3 Bedroom Apartment</td>\n",
              "      <td>3</td>\n",
              "      <td>Apartment</td>\n",
              "      <td>Diep River</td>\n",
              "      <td>R 19 500 000</td>\n",
              "    </tr>\n",
              "    <tr>\n",
              "      <th>3</th>\n",
              "      <td>6 Bedroom House</td>\n",
              "      <td>6</td>\n",
              "      <td>House</td>\n",
              "      <td>Cape Town City Centre</td>\n",
              "      <td>R 4 495 000</td>\n",
              "    </tr>\n",
              "    <tr>\n",
              "      <th>4</th>\n",
              "      <td>3 Bedroom House</td>\n",
              "      <td>3</td>\n",
              "      <td>House</td>\n",
              "      <td>Kenilworth</td>\n",
              "      <td>R 6 995 000</td>\n",
              "    </tr>\n",
              "  </tbody>\n",
              "</table>\n",
              "</div>"
            ],
            "text/plain": [
              "           Description Bedrooms  HouseType                 Suburb         Price\n",
              "0  2 Bedroom Apartment        2  Apartment             Muizenberg   R 1 425 000\n",
              "1      5 Bedroom House        5      House              Pinelands   R 3 200 000\n",
              "2  3 Bedroom Apartment        3  Apartment             Diep River  R 19 500 000\n",
              "3      6 Bedroom House        6      House  Cape Town City Centre   R 4 495 000\n",
              "4      3 Bedroom House        3      House             Kenilworth   R 6 995 000"
            ]
          },
          "metadata": {
            "tags": []
          },
          "execution_count": 7
        }
      ]
    },
    {
      "cell_type": "code",
      "metadata": {
        "id": "5Q1xLN8TN6ks",
        "colab_type": "code",
        "colab": {
          "base_uri": "https://localhost:8080/",
          "height": 218
        },
        "outputId": "465dfd9f-51e4-4d05-b051-00cdfeb453c2"
      },
      "source": [
        "p24_df.info()"
      ],
      "execution_count": 8,
      "outputs": [
        {
          "output_type": "stream",
          "text": [
            "<class 'pandas.core.frame.DataFrame'>\n",
            "Int64Index: 655 entries, 0 to 749\n",
            "Data columns (total 5 columns):\n",
            " #   Column       Non-Null Count  Dtype \n",
            "---  ------       --------------  ----- \n",
            " 0   Description  655 non-null    object\n",
            " 1   Bedrooms     655 non-null    object\n",
            " 2   HouseType    655 non-null    object\n",
            " 3   Suburb       655 non-null    object\n",
            " 4   Price        655 non-null    object\n",
            "dtypes: object(5)\n",
            "memory usage: 30.7+ KB\n"
          ],
          "name": "stdout"
        }
      ]
    },
    {
      "cell_type": "code",
      "metadata": {
        "id": "tJfOl99oOb_L",
        "colab_type": "code",
        "colab": {
          "base_uri": "https://localhost:8080/",
          "height": 195
        },
        "outputId": "0376039b-c5f4-451b-ea3e-428e6df7811d"
      },
      "source": [
        "p24_df.drop(\"Description\", axis = 1, inplace=True)\n",
        "p24_df.head()"
      ],
      "execution_count": 12,
      "outputs": [
        {
          "output_type": "execute_result",
          "data": {
            "text/html": [
              "<div>\n",
              "<style scoped>\n",
              "    .dataframe tbody tr th:only-of-type {\n",
              "        vertical-align: middle;\n",
              "    }\n",
              "\n",
              "    .dataframe tbody tr th {\n",
              "        vertical-align: top;\n",
              "    }\n",
              "\n",
              "    .dataframe thead th {\n",
              "        text-align: right;\n",
              "    }\n",
              "</style>\n",
              "<table border=\"1\" class=\"dataframe\">\n",
              "  <thead>\n",
              "    <tr style=\"text-align: right;\">\n",
              "      <th></th>\n",
              "      <th>Bedrooms</th>\n",
              "      <th>HouseType</th>\n",
              "      <th>Suburb</th>\n",
              "      <th>Price</th>\n",
              "    </tr>\n",
              "  </thead>\n",
              "  <tbody>\n",
              "    <tr>\n",
              "      <th>0</th>\n",
              "      <td>2</td>\n",
              "      <td>Apartment</td>\n",
              "      <td>Muizenberg</td>\n",
              "      <td>1425000</td>\n",
              "    </tr>\n",
              "    <tr>\n",
              "      <th>1</th>\n",
              "      <td>5</td>\n",
              "      <td>House</td>\n",
              "      <td>Pinelands</td>\n",
              "      <td>3200000</td>\n",
              "    </tr>\n",
              "    <tr>\n",
              "      <th>2</th>\n",
              "      <td>3</td>\n",
              "      <td>Apartment</td>\n",
              "      <td>Diep River</td>\n",
              "      <td>19500000</td>\n",
              "    </tr>\n",
              "    <tr>\n",
              "      <th>3</th>\n",
              "      <td>6</td>\n",
              "      <td>House</td>\n",
              "      <td>Cape Town City Centre</td>\n",
              "      <td>4495000</td>\n",
              "    </tr>\n",
              "    <tr>\n",
              "      <th>4</th>\n",
              "      <td>3</td>\n",
              "      <td>House</td>\n",
              "      <td>Kenilworth</td>\n",
              "      <td>6995000</td>\n",
              "    </tr>\n",
              "  </tbody>\n",
              "</table>\n",
              "</div>"
            ],
            "text/plain": [
              "  Bedrooms  HouseType                 Suburb     Price\n",
              "0        2  Apartment             Muizenberg   1425000\n",
              "1        5      House              Pinelands   3200000\n",
              "2        3  Apartment             Diep River  19500000\n",
              "3        6      House  Cape Town City Centre   4495000\n",
              "4        3      House             Kenilworth   6995000"
            ]
          },
          "metadata": {
            "tags": []
          },
          "execution_count": 12
        }
      ]
    },
    {
      "cell_type": "markdown",
      "metadata": {
        "id": "ROHqxgwGbTox",
        "colab_type": "text"
      },
      "source": [
        "# Data Type Changes"
      ]
    },
    {
      "cell_type": "code",
      "metadata": {
        "id": "LYEQaWgpcIo5",
        "colab_type": "code",
        "colab": {}
      },
      "source": [
        "def fixPrice(df):\n",
        "  \n",
        "  for i, price in enumerate(df[\"Price\"]):\n",
        "    numbers = []\n",
        "    for character in str(price).split():\n",
        "      if character.isdigit():\n",
        "        numbers.append(character)\n",
        "  \n",
        "    df[\"Price\"].iloc[i] = (''.join([str(elem) for elem in numbers]))\n",
        "  return df"
      ],
      "execution_count": 9,
      "outputs": []
    },
    {
      "cell_type": "code",
      "metadata": {
        "id": "puO3CvwUmMxh",
        "colab_type": "code",
        "colab": {}
      },
      "source": [
        "def catDataType(data):\n",
        "  for feature in data.columns:\n",
        "    if data[feature].dtype == \"object\":\n",
        "      data[feature] = data[feature].astype('category')\n",
        "\n",
        "  return data"
      ],
      "execution_count": 10,
      "outputs": []
    },
    {
      "cell_type": "code",
      "metadata": {
        "id": "Cf-Z6-gpbitB",
        "colab_type": "code",
        "colab": {
          "base_uri": "https://localhost:8080/",
          "height": 195
        },
        "outputId": "72256b20-62fa-4269-d6ee-a99dfe1cb07b"
      },
      "source": [
        "p24_df = fixPrice(p24_df)\n",
        "p24_df.head()"
      ],
      "execution_count": 11,
      "outputs": [
        {
          "output_type": "execute_result",
          "data": {
            "text/html": [
              "<div>\n",
              "<style scoped>\n",
              "    .dataframe tbody tr th:only-of-type {\n",
              "        vertical-align: middle;\n",
              "    }\n",
              "\n",
              "    .dataframe tbody tr th {\n",
              "        vertical-align: top;\n",
              "    }\n",
              "\n",
              "    .dataframe thead th {\n",
              "        text-align: right;\n",
              "    }\n",
              "</style>\n",
              "<table border=\"1\" class=\"dataframe\">\n",
              "  <thead>\n",
              "    <tr style=\"text-align: right;\">\n",
              "      <th></th>\n",
              "      <th>Description</th>\n",
              "      <th>Bedrooms</th>\n",
              "      <th>HouseType</th>\n",
              "      <th>Suburb</th>\n",
              "      <th>Price</th>\n",
              "    </tr>\n",
              "  </thead>\n",
              "  <tbody>\n",
              "    <tr>\n",
              "      <th>0</th>\n",
              "      <td>2 Bedroom Apartment</td>\n",
              "      <td>2</td>\n",
              "      <td>Apartment</td>\n",
              "      <td>Muizenberg</td>\n",
              "      <td>1425000</td>\n",
              "    </tr>\n",
              "    <tr>\n",
              "      <th>1</th>\n",
              "      <td>5 Bedroom House</td>\n",
              "      <td>5</td>\n",
              "      <td>House</td>\n",
              "      <td>Pinelands</td>\n",
              "      <td>3200000</td>\n",
              "    </tr>\n",
              "    <tr>\n",
              "      <th>2</th>\n",
              "      <td>3 Bedroom Apartment</td>\n",
              "      <td>3</td>\n",
              "      <td>Apartment</td>\n",
              "      <td>Diep River</td>\n",
              "      <td>19500000</td>\n",
              "    </tr>\n",
              "    <tr>\n",
              "      <th>3</th>\n",
              "      <td>6 Bedroom House</td>\n",
              "      <td>6</td>\n",
              "      <td>House</td>\n",
              "      <td>Cape Town City Centre</td>\n",
              "      <td>4495000</td>\n",
              "    </tr>\n",
              "    <tr>\n",
              "      <th>4</th>\n",
              "      <td>3 Bedroom House</td>\n",
              "      <td>3</td>\n",
              "      <td>House</td>\n",
              "      <td>Kenilworth</td>\n",
              "      <td>6995000</td>\n",
              "    </tr>\n",
              "  </tbody>\n",
              "</table>\n",
              "</div>"
            ],
            "text/plain": [
              "           Description Bedrooms  HouseType                 Suburb     Price\n",
              "0  2 Bedroom Apartment        2  Apartment             Muizenberg   1425000\n",
              "1      5 Bedroom House        5      House              Pinelands   3200000\n",
              "2  3 Bedroom Apartment        3  Apartment             Diep River  19500000\n",
              "3      6 Bedroom House        6      House  Cape Town City Centre   4495000\n",
              "4      3 Bedroom House        3      House             Kenilworth   6995000"
            ]
          },
          "metadata": {
            "tags": []
          },
          "execution_count": 11
        }
      ]
    },
    {
      "cell_type": "code",
      "metadata": {
        "id": "d2qxZh6uhNUE",
        "colab_type": "code",
        "colab": {}
      },
      "source": [
        "p24_df.Price = p24_df.Price.replace('',None)"
      ],
      "execution_count": 13,
      "outputs": []
    },
    {
      "cell_type": "code",
      "metadata": {
        "id": "q-XTkMa0h2nz",
        "colab_type": "code",
        "colab": {
          "base_uri": "https://localhost:8080/",
          "height": 195
        },
        "outputId": "8bbd793a-1c01-4c55-d359-ecc16cd50c9e"
      },
      "source": [
        "p24_df.Price = p24_df.Price.astype(float)\n",
        "p24_df.Bedrooms = p24_df.Bedrooms.astype(int)\n",
        "p24_df.head()"
      ],
      "execution_count": 16,
      "outputs": [
        {
          "output_type": "execute_result",
          "data": {
            "text/html": [
              "<div>\n",
              "<style scoped>\n",
              "    .dataframe tbody tr th:only-of-type {\n",
              "        vertical-align: middle;\n",
              "    }\n",
              "\n",
              "    .dataframe tbody tr th {\n",
              "        vertical-align: top;\n",
              "    }\n",
              "\n",
              "    .dataframe thead th {\n",
              "        text-align: right;\n",
              "    }\n",
              "</style>\n",
              "<table border=\"1\" class=\"dataframe\">\n",
              "  <thead>\n",
              "    <tr style=\"text-align: right;\">\n",
              "      <th></th>\n",
              "      <th>Bedrooms</th>\n",
              "      <th>HouseType</th>\n",
              "      <th>Suburb</th>\n",
              "      <th>Price</th>\n",
              "    </tr>\n",
              "  </thead>\n",
              "  <tbody>\n",
              "    <tr>\n",
              "      <th>0</th>\n",
              "      <td>2</td>\n",
              "      <td>Apartment</td>\n",
              "      <td>Muizenberg</td>\n",
              "      <td>1425000.0</td>\n",
              "    </tr>\n",
              "    <tr>\n",
              "      <th>1</th>\n",
              "      <td>5</td>\n",
              "      <td>House</td>\n",
              "      <td>Pinelands</td>\n",
              "      <td>3200000.0</td>\n",
              "    </tr>\n",
              "    <tr>\n",
              "      <th>2</th>\n",
              "      <td>3</td>\n",
              "      <td>Apartment</td>\n",
              "      <td>Diep River</td>\n",
              "      <td>19500000.0</td>\n",
              "    </tr>\n",
              "    <tr>\n",
              "      <th>3</th>\n",
              "      <td>6</td>\n",
              "      <td>House</td>\n",
              "      <td>Cape Town City Centre</td>\n",
              "      <td>4495000.0</td>\n",
              "    </tr>\n",
              "    <tr>\n",
              "      <th>4</th>\n",
              "      <td>3</td>\n",
              "      <td>House</td>\n",
              "      <td>Kenilworth</td>\n",
              "      <td>6995000.0</td>\n",
              "    </tr>\n",
              "  </tbody>\n",
              "</table>\n",
              "</div>"
            ],
            "text/plain": [
              "   Bedrooms  HouseType                 Suburb       Price\n",
              "0         2  Apartment             Muizenberg   1425000.0\n",
              "1         5      House              Pinelands   3200000.0\n",
              "2         3  Apartment             Diep River  19500000.0\n",
              "3         6      House  Cape Town City Centre   4495000.0\n",
              "4         3      House             Kenilworth   6995000.0"
            ]
          },
          "metadata": {
            "tags": []
          },
          "execution_count": 16
        }
      ]
    },
    {
      "cell_type": "code",
      "metadata": {
        "id": "WFCfX2rsl9KD",
        "colab_type": "code",
        "colab": {
          "base_uri": "https://localhost:8080/",
          "height": 202
        },
        "outputId": "ba0a55c0-86d2-43cd-e5c8-491b1fcd47c4"
      },
      "source": [
        "p24_df.info()"
      ],
      "execution_count": 17,
      "outputs": [
        {
          "output_type": "stream",
          "text": [
            "<class 'pandas.core.frame.DataFrame'>\n",
            "Int64Index: 655 entries, 0 to 749\n",
            "Data columns (total 4 columns):\n",
            " #   Column     Non-Null Count  Dtype  \n",
            "---  ------     --------------  -----  \n",
            " 0   Bedrooms   655 non-null    int64  \n",
            " 1   HouseType  655 non-null    object \n",
            " 2   Suburb     655 non-null    object \n",
            " 3   Price      655 non-null    float64\n",
            "dtypes: float64(1), int64(1), object(2)\n",
            "memory usage: 25.6+ KB\n"
          ],
          "name": "stdout"
        }
      ]
    },
    {
      "cell_type": "code",
      "metadata": {
        "id": "NpiPx0fEmDXx",
        "colab_type": "code",
        "colab": {}
      },
      "source": [
        "p24_df = catDataType(p24_df)"
      ],
      "execution_count": 18,
      "outputs": []
    },
    {
      "cell_type": "code",
      "metadata": {
        "id": "50L5qyYGPQK2",
        "colab_type": "code",
        "colab": {
          "base_uri": "https://localhost:8080/",
          "height": 218
        },
        "outputId": "6775c106-d88e-4480-c61f-87bba6db2353"
      },
      "source": [
        "p24_df.Suburb.value_counts()"
      ],
      "execution_count": 22,
      "outputs": [
        {
          "output_type": "execute_result",
          "data": {
            "text/plain": [
              "Sea Point                58\n",
              "Cape Town City Centre    36\n",
              "Rondebosch               29\n",
              "Constantia               26\n",
              "Claremont Upper          25\n",
              "                         ..\n",
              "Rondebosch Village        1\n",
              "Fairways                  1\n",
              "Factreton                 1\n",
              "Dreyersdal Estate         1\n",
              "Adriaanse                 1\n",
              "Name: Suburb, Length: 103, dtype: int64"
            ]
          },
          "metadata": {
            "tags": []
          },
          "execution_count": 22
        }
      ]
    },
    {
      "cell_type": "markdown",
      "metadata": {
        "id": "E2kWFEgeDj2z",
        "colab_type": "text"
      },
      "source": [
        "# Missing Data Code"
      ]
    },
    {
      "cell_type": "code",
      "metadata": {
        "id": "gvVbncRbDsHy",
        "colab_type": "code",
        "colab": {}
      },
      "source": [
        "#Check Missing Values in a Dataset\n",
        "def NACount(data):\n",
        "  NaCount = {}\n",
        "  for feature in data.columns:\n",
        "    NaCount[feature] = data[feature].isna().sum()\n",
        "\n",
        "  return NaCount"
      ],
      "execution_count": 19,
      "outputs": []
    },
    {
      "cell_type": "code",
      "metadata": {
        "id": "3jHv2rl_JFcU",
        "colab_type": "code",
        "colab": {}
      },
      "source": [
        "#Check Unique Values in Training Data\n",
        "def UniqueCount(data):\n",
        "  UnCount = {}\n",
        "  for feature in data.columns:\n",
        "    UnCount[feature] = data[feature].unique()\n",
        "\n",
        "  return UnCount"
      ],
      "execution_count": 20,
      "outputs": []
    },
    {
      "cell_type": "code",
      "metadata": {
        "id": "Rxwjmg5SJJBz",
        "colab_type": "code",
        "colab": {
          "base_uri": "https://localhost:8080/",
          "height": 34
        },
        "outputId": "6dfeb371-30df-40a1-e426-7f455bb19fe0"
      },
      "source": [
        "print(NACount(p24_df))"
      ],
      "execution_count": 42,
      "outputs": [
        {
          "output_type": "stream",
          "text": [
            "{'Bedrooms': 0, 'HouseType': 0, 'Suburb': 0, 'Price': 0}\n"
          ],
          "name": "stdout"
        }
      ]
    },
    {
      "cell_type": "markdown",
      "metadata": {
        "id": "V8-i4UczYlRC",
        "colab_type": "text"
      },
      "source": [
        "# Data Exploration"
      ]
    },
    {
      "cell_type": "code",
      "metadata": {
        "id": "HYAoUVcVYtut",
        "colab_type": "code",
        "colab": {
          "base_uri": "https://localhost:8080/",
          "height": 284
        },
        "outputId": "2e8402a0-c383-4e57-f845-df6f04006423"
      },
      "source": [
        "p24_df.describe()"
      ],
      "execution_count": 24,
      "outputs": [
        {
          "output_type": "execute_result",
          "data": {
            "text/html": [
              "<div>\n",
              "<style scoped>\n",
              "    .dataframe tbody tr th:only-of-type {\n",
              "        vertical-align: middle;\n",
              "    }\n",
              "\n",
              "    .dataframe tbody tr th {\n",
              "        vertical-align: top;\n",
              "    }\n",
              "\n",
              "    .dataframe thead th {\n",
              "        text-align: right;\n",
              "    }\n",
              "</style>\n",
              "<table border=\"1\" class=\"dataframe\">\n",
              "  <thead>\n",
              "    <tr style=\"text-align: right;\">\n",
              "      <th></th>\n",
              "      <th>Bedrooms</th>\n",
              "      <th>Price</th>\n",
              "    </tr>\n",
              "  </thead>\n",
              "  <tbody>\n",
              "    <tr>\n",
              "      <th>count</th>\n",
              "      <td>655.000000</td>\n",
              "      <td>6.550000e+02</td>\n",
              "    </tr>\n",
              "    <tr>\n",
              "      <th>mean</th>\n",
              "      <td>2.839695</td>\n",
              "      <td>5.237445e+06</td>\n",
              "    </tr>\n",
              "    <tr>\n",
              "      <th>std</th>\n",
              "      <td>1.678324</td>\n",
              "      <td>6.743300e+06</td>\n",
              "    </tr>\n",
              "    <tr>\n",
              "      <th>min</th>\n",
              "      <td>1.000000</td>\n",
              "      <td>1.990000e+05</td>\n",
              "    </tr>\n",
              "    <tr>\n",
              "      <th>25%</th>\n",
              "      <td>2.000000</td>\n",
              "      <td>1.750000e+06</td>\n",
              "    </tr>\n",
              "    <tr>\n",
              "      <th>50%</th>\n",
              "      <td>3.000000</td>\n",
              "      <td>2.850000e+06</td>\n",
              "    </tr>\n",
              "    <tr>\n",
              "      <th>75%</th>\n",
              "      <td>3.000000</td>\n",
              "      <td>5.900000e+06</td>\n",
              "    </tr>\n",
              "    <tr>\n",
              "      <th>max</th>\n",
              "      <td>18.000000</td>\n",
              "      <td>6.900000e+07</td>\n",
              "    </tr>\n",
              "  </tbody>\n",
              "</table>\n",
              "</div>"
            ],
            "text/plain": [
              "         Bedrooms         Price\n",
              "count  655.000000  6.550000e+02\n",
              "mean     2.839695  5.237445e+06\n",
              "std      1.678324  6.743300e+06\n",
              "min      1.000000  1.990000e+05\n",
              "25%      2.000000  1.750000e+06\n",
              "50%      3.000000  2.850000e+06\n",
              "75%      3.000000  5.900000e+06\n",
              "max     18.000000  6.900000e+07"
            ]
          },
          "metadata": {
            "tags": []
          },
          "execution_count": 24
        }
      ]
    },
    {
      "cell_type": "code",
      "metadata": {
        "id": "QNyx3DNTbI8g",
        "colab_type": "code",
        "colab": {}
      },
      "source": [
        ""
      ],
      "execution_count": null,
      "outputs": []
    },
    {
      "cell_type": "markdown",
      "metadata": {
        "id": "7K5skJM6S3bP",
        "colab_type": "text"
      },
      "source": [
        "## Exploratory Data Analysis Function"
      ]
    },
    {
      "cell_type": "code",
      "metadata": {
        "id": "UtTNCpXKS80O",
        "colab_type": "code",
        "colab": {}
      },
      "source": [
        "#Defining graphing function\n",
        "def ExploreGraphs(x_feature, y_result, df, choice, custom):\n",
        "  \n",
        "  #Setting the visual features of the graph\n",
        "  sns.set_style(\"darkgrid\")\n",
        "  plt.figure(figsize=(20,10))\n",
        "  \n",
        "  #Bar Chart choice\n",
        "  if choice == \"bar\":\n",
        "\n",
        "    barplot = sns.barplot(x = x_feature, y = y_result, data = df, ci=custom)\n",
        "    plt.xticks(rotation=90)\n",
        "    plt.show()\n",
        "\n",
        "  #Boxplot Choice\n",
        "  elif choice == \"box\":\n",
        "\n",
        "    boxplot = sns.boxplot(x= x_feature, y = y_result, data = df)\n",
        "    plt.xticks(rotation=90)\n",
        "    plt.show()\n",
        "\n",
        "  #Histogram choice\n",
        "  elif choice == \"hist\":\n",
        "\n",
        "    histplot = sns.distplot(df[x_feature])\n",
        "    plt.show()\n",
        "\n",
        "  #Count Plot Choice\n",
        "  elif choice == \"count\":\n",
        "\n",
        "    barplot = sns.countplot(x = x_feature, data = df)\n",
        "    plt.show()\n",
        "\n",
        "  #Heat map choice\n",
        "  elif choice == \"heat\":\n",
        "\n",
        "    plt.figure(figsize=(30,30))\n",
        "    sns.heatmap(df.corr(), vmax=0.8, square=True, annot = True)\n",
        "\n",
        "  #Pair plot choice\n",
        "  elif choice == \"pair\":\n",
        "\n",
        "    sns.pairplot(df)\n",
        "\n",
        "  #In case the choice input is not defined in the function\n",
        "  else:\n",
        "    print(\"Not a valid choice\")"
      ],
      "execution_count": 39,
      "outputs": []
    },
    {
      "cell_type": "markdown",
      "metadata": {
        "id": "FUhOEdCCUs2u",
        "colab_type": "text"
      },
      "source": [
        "## Graphing Area"
      ]
    },
    {
      "cell_type": "code",
      "metadata": {
        "id": "XT6Vv_GcUzWL",
        "colab_type": "code",
        "colab": {
          "base_uri": "https://localhost:8080/",
          "height": 596
        },
        "outputId": "8e150bac-daba-4bb8-87ac-68c90cfd7e41"
      },
      "source": [
        "'''\n",
        "How to use function\n",
        "FIRST PARAMETER: X Feature (Pandas Column Name)\n",
        "\n",
        "SECOND PARAMETER: Y FEATURE (Pandas Column Name)\n",
        "\n",
        "THIRD PARAMETER: DATA (Pandas Dataframe)\n",
        "\n",
        "FOURTH PARAMETER: Choice of graph: \"bar\" for Bar Plot (Good for comparing one numeric feature with a feature),\n",
        "                                    \"box\" for Box Plot (Good for comparing one insurance product with a feature),\n",
        "                                    \"hist\" for Histogram (Good for continuous distrbution of one feature),\n",
        "                                    \"count\" for a count plot (Good for the discontinuous distribution of one feature),\n",
        "                                    \"heat\" for a heatmap between the variables of the dataset,\n",
        "                                    \"pair\" for a pairplot between the variables of a dataset (Be careful of the number of features you're comparing)\n",
        "\n",
        "FIFTH PARAMETER: Confidence Interval error bar for Bar Plot = number (number% Confidence Interval), None (No error bar) \n",
        "'''\n",
        "ExploreGraphs(\"Bedrooms\", \"Price\", p24_df, \"box\", 95)"
      ],
      "execution_count": 48,
      "outputs": [
        {
          "output_type": "display_data",
          "data": {
            "image/png": "[encoded data removed]",
            "text/plain": [
              "<Figure size 1440x720 with 1 Axes>"
            ]
          },
          "metadata": {
            "tags": []
          }
        }
      ]
    },
    {
      "cell_type": "markdown",
      "metadata": {
        "id": "YXHKKDD_VB99",
        "colab_type": "text"
      },
      "source": [
        "# Encoding the Data"
      ]
    },
    {
      "cell_type": "code",
      "metadata": {
        "id": "ps5wbYxbTHpG",
        "colab_type": "code",
        "colab": {}
      },
      "source": [
        "ct = ColumnTransformer(transformers=[('encoder', OneHotEncoder(sparse=False), [0,1,2,3,5])], remainder='passthrough')\n",
        "train_data_features = (ct.fit_transform(train_data_features))\n",
        "test_data_features = (ct.fit_transform(test_data_features))"
      ],
      "execution_count": null,
      "outputs": []
    }
  ]
}
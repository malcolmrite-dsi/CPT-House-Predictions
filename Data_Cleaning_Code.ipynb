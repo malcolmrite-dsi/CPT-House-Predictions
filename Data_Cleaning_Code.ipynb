{
  "nbformat": 4,
  "nbformat_minor": 0,
  "metadata": {
    "colab": {
      "name": "Data_Cleaning_Code",
      "provenance": [],
      "toc_visible": true,
      "mount_file_id": "1iKRgrGHfJgq9kQZoqVoYAKt8eAhh-3XZ",
      "authorship_tag": "ABX9TyNg0YPmimpEae9TTl/fDwcE",
      "include_colab_link": true
    },
    "kernelspec": {
      "name": "python3",
      "display_name": "Python 3"
    }
  },
  "cells": [
    {
      "cell_type": "markdown",
      "metadata": {
        "id": "view-in-github",
        "colab_type": "text"
      },
      "source": [
        "<a href=\"https://colab.research.google.com/github/malcolmrite-dsi/CPT-House-Predictions/blob/master/Data_Cleaning_Code.ipynb\" target=\"_parent\"><img src=\"https://colab.research.google.com/assets/colab-badge.svg\" alt=\"Open In Colab\"/></a>"
      ]
    },
    {
      "cell_type": "markdown",
      "metadata": {
        "id": "4BiOaTPxTU9F",
        "colab_type": "text"
      },
      "source": [
        "# Importing Libraries"
      ]
    },
    {
      "cell_type": "code",
      "metadata": {
        "id": "QUBvgsZs0Qpn",
        "colab_type": "code",
        "colab": {
          "base_uri": "https://localhost:8080/",
          "height": 70
        },
        "outputId": "1fba9d6b-184a-43b0-9ecd-86fc2655b66e"
      },
      "source": [
        "import pandas as pd\n",
        "import numpy as np\n",
        "\n",
        "import matplotlib.pyplot as plt\n",
        "import seaborn as sns"
      ],
      "execution_count": null,
      "outputs": [
        {
          "output_type": "stream",
          "text": [
            "/usr/local/lib/python3.6/dist-packages/statsmodels/tools/_testing.py:19: FutureWarning: pandas.util.testing is deprecated. Use the functions in the public API at pandas.testing instead.\n",
            "  import pandas.util.testing as tm\n"
          ],
          "name": "stderr"
        }
      ]
    },
    {
      "cell_type": "markdown",
      "metadata": {
        "id": "pflhCJyaXtAh",
        "colab_type": "text"
      },
      "source": [
        "# Importing the Datasets"
      ]
    },
    {
      "cell_type": "markdown",
      "metadata": {
        "id": "Sj3BTN0uXy0w",
        "colab_type": "text"
      },
      "source": [
        "## Property 24 Dataset"
      ]
    },
    {
      "cell_type": "code",
      "metadata": {
        "id": "_uJMSIiCXkCw",
        "colab_type": "code",
        "colab": {
          "base_uri": "https://localhost:8080/",
          "height": 195
        },
        "outputId": "dda7a12f-ed35-4caa-95b8-7cee4e3b63dc"
      },
      "source": [
        "p24_df = pd.read_csv(\"drive/My Drive/cpt-houseprices_p24.csv\")\n",
        "p24_df.head()"
      ],
      "execution_count": null,
      "outputs": [
        {
          "output_type": "execute_result",
          "data": {
            "text/html": [
              "<div>\n",
              "<style scoped>\n",
              "    .dataframe tbody tr th:only-of-type {\n",
              "        vertical-align: middle;\n",
              "    }\n",
              "\n",
              "    .dataframe tbody tr th {\n",
              "        vertical-align: top;\n",
              "    }\n",
              "\n",
              "    .dataframe thead th {\n",
              "        text-align: right;\n",
              "    }\n",
              "</style>\n",
              "<table border=\"1\" class=\"dataframe\">\n",
              "  <thead>\n",
              "    <tr style=\"text-align: right;\">\n",
              "      <th></th>\n",
              "      <th>Description</th>\n",
              "      <th>Suburb</th>\n",
              "      <th>Price</th>\n",
              "    </tr>\n",
              "  </thead>\n",
              "  <tbody>\n",
              "    <tr>\n",
              "      <th>0</th>\n",
              "      <td>2 Bedroom Apartment</td>\n",
              "      <td>Muizenberg</td>\n",
              "      <td>R 1 425 000</td>\n",
              "    </tr>\n",
              "    <tr>\n",
              "      <th>1</th>\n",
              "      <td>5 Bedroom House</td>\n",
              "      <td>Pinelands</td>\n",
              "      <td>R 3 200 000</td>\n",
              "    </tr>\n",
              "    <tr>\n",
              "      <th>2</th>\n",
              "      <td>3 Bedroom Apartment</td>\n",
              "      <td>Diep River</td>\n",
              "      <td>R 19 500 000</td>\n",
              "    </tr>\n",
              "    <tr>\n",
              "      <th>3</th>\n",
              "      <td>6 Bedroom House</td>\n",
              "      <td>Cape Town City Centre</td>\n",
              "      <td>R 4 495 000</td>\n",
              "    </tr>\n",
              "    <tr>\n",
              "      <th>4</th>\n",
              "      <td>3 Bedroom House</td>\n",
              "      <td>Kenilworth</td>\n",
              "      <td>R 6 995 000</td>\n",
              "    </tr>\n",
              "  </tbody>\n",
              "</table>\n",
              "</div>"
            ],
            "text/plain": [
              "           Description                 Suburb         Price\n",
              "0  2 Bedroom Apartment             Muizenberg   R 1 425 000\n",
              "1      5 Bedroom House              Pinelands   R 3 200 000\n",
              "2  3 Bedroom Apartment             Diep River  R 19 500 000\n",
              "3      6 Bedroom House  Cape Town City Centre   R 4 495 000\n",
              "4      3 Bedroom House             Kenilworth   R 6 995 000"
            ]
          },
          "metadata": {
            "tags": []
          },
          "execution_count": 2
        }
      ]
    },
    {
      "cell_type": "markdown",
      "metadata": {
        "id": "ROHqxgwGbTox",
        "colab_type": "text"
      },
      "source": [
        "# Data Type Changes"
      ]
    },
    {
      "cell_type": "code",
      "metadata": {
        "id": "LYEQaWgpcIo5",
        "colab_type": "code",
        "colab": {}
      },
      "source": [
        "def fixPrice(df):\n",
        "  \n",
        "  for i, price in enumerate(df[\"Price\"]):\n",
        "    numbers = []\n",
        "    for character in str(price).split():\n",
        "      if character.isdigit():\n",
        "        numbers.append(character)\n",
        "  \n",
        "    df[\"Price\"].iloc[i] = (''.join([str(elem) for elem in numbers]))\n",
        "  return df"
      ],
      "execution_count": null,
      "outputs": []
    },
    {
      "cell_type": "code",
      "metadata": {
        "id": "puO3CvwUmMxh",
        "colab_type": "code",
        "colab": {}
      },
      "source": [
        "def catDataType(data):\n",
        "  for feature in data.columns:\n",
        "    if data[feature].dtype == \"object\":\n",
        "      data[feature] = data[feature].astype('category')\n",
        "\n",
        "  return data"
      ],
      "execution_count": null,
      "outputs": []
    },
    {
      "cell_type": "code",
      "metadata": {
        "id": "3RUNPWUbC7dj",
        "colab_type": "code",
        "colab": {}
      },
      "source": [
        ""
      ],
      "execution_count": null,
      "outputs": []
    },
    {
      "cell_type": "code",
      "metadata": {
        "id": "Cf-Z6-gpbitB",
        "colab_type": "code",
        "colab": {
          "base_uri": "https://localhost:8080/",
          "height": 195
        },
        "outputId": "8cbbf92a-d7ac-4b30-99de-6d9a99da7d43"
      },
      "source": [
        "\n",
        "p24_df = fixPrice(p24_df)\n",
        "p24_df.head()"
      ],
      "execution_count": null,
      "outputs": [
        {
          "output_type": "execute_result",
          "data": {
            "text/html": [
              "<div>\n",
              "<style scoped>\n",
              "    .dataframe tbody tr th:only-of-type {\n",
              "        vertical-align: middle;\n",
              "    }\n",
              "\n",
              "    .dataframe tbody tr th {\n",
              "        vertical-align: top;\n",
              "    }\n",
              "\n",
              "    .dataframe thead th {\n",
              "        text-align: right;\n",
              "    }\n",
              "</style>\n",
              "<table border=\"1\" class=\"dataframe\">\n",
              "  <thead>\n",
              "    <tr style=\"text-align: right;\">\n",
              "      <th></th>\n",
              "      <th>Description</th>\n",
              "      <th>Suburb</th>\n",
              "      <th>Price</th>\n",
              "    </tr>\n",
              "  </thead>\n",
              "  <tbody>\n",
              "    <tr>\n",
              "      <th>0</th>\n",
              "      <td>2 Bedroom Apartment</td>\n",
              "      <td>Muizenberg</td>\n",
              "      <td>1425000</td>\n",
              "    </tr>\n",
              "    <tr>\n",
              "      <th>1</th>\n",
              "      <td>5 Bedroom House</td>\n",
              "      <td>Pinelands</td>\n",
              "      <td>3200000</td>\n",
              "    </tr>\n",
              "    <tr>\n",
              "      <th>2</th>\n",
              "      <td>3 Bedroom Apartment</td>\n",
              "      <td>Diep River</td>\n",
              "      <td>19500000</td>\n",
              "    </tr>\n",
              "    <tr>\n",
              "      <th>3</th>\n",
              "      <td>6 Bedroom House</td>\n",
              "      <td>Cape Town City Centre</td>\n",
              "      <td>4495000</td>\n",
              "    </tr>\n",
              "    <tr>\n",
              "      <th>4</th>\n",
              "      <td>3 Bedroom House</td>\n",
              "      <td>Kenilworth</td>\n",
              "      <td>6995000</td>\n",
              "    </tr>\n",
              "  </tbody>\n",
              "</table>\n",
              "</div>"
            ],
            "text/plain": [
              "           Description                 Suburb     Price\n",
              "0  2 Bedroom Apartment             Muizenberg   1425000\n",
              "1      5 Bedroom House              Pinelands   3200000\n",
              "2  3 Bedroom Apartment             Diep River  19500000\n",
              "3      6 Bedroom House  Cape Town City Centre   4495000\n",
              "4      3 Bedroom House             Kenilworth   6995000"
            ]
          },
          "metadata": {
            "tags": []
          },
          "execution_count": 14
        }
      ]
    },
    {
      "cell_type": "code",
      "metadata": {
        "id": "d2qxZh6uhNUE",
        "colab_type": "code",
        "colab": {}
      },
      "source": [
        "p24_df.Price = p24_df.Price.replace('',None)"
      ],
      "execution_count": null,
      "outputs": []
    },
    {
      "cell_type": "code",
      "metadata": {
        "id": "q-XTkMa0h2nz",
        "colab_type": "code",
        "colab": {
          "base_uri": "https://localhost:8080/",
          "height": 195
        },
        "outputId": "773f04f5-be41-458f-f63f-37b49092c698"
      },
      "source": [
        "p24_df.Price = p24_df.Price.astype(float)\n",
        "p24_df.head()"
      ],
      "execution_count": null,
      "outputs": [
        {
          "output_type": "execute_result",
          "data": {
            "text/html": [
              "<div>\n",
              "<style scoped>\n",
              "    .dataframe tbody tr th:only-of-type {\n",
              "        vertical-align: middle;\n",
              "    }\n",
              "\n",
              "    .dataframe tbody tr th {\n",
              "        vertical-align: top;\n",
              "    }\n",
              "\n",
              "    .dataframe thead th {\n",
              "        text-align: right;\n",
              "    }\n",
              "</style>\n",
              "<table border=\"1\" class=\"dataframe\">\n",
              "  <thead>\n",
              "    <tr style=\"text-align: right;\">\n",
              "      <th></th>\n",
              "      <th>Description</th>\n",
              "      <th>Suburb</th>\n",
              "      <th>Price</th>\n",
              "    </tr>\n",
              "  </thead>\n",
              "  <tbody>\n",
              "    <tr>\n",
              "      <th>0</th>\n",
              "      <td>2 Bedroom Apartment</td>\n",
              "      <td>Muizenberg</td>\n",
              "      <td>1425000.0</td>\n",
              "    </tr>\n",
              "    <tr>\n",
              "      <th>1</th>\n",
              "      <td>5 Bedroom House</td>\n",
              "      <td>Pinelands</td>\n",
              "      <td>3200000.0</td>\n",
              "    </tr>\n",
              "    <tr>\n",
              "      <th>2</th>\n",
              "      <td>3 Bedroom Apartment</td>\n",
              "      <td>Diep River</td>\n",
              "      <td>19500000.0</td>\n",
              "    </tr>\n",
              "    <tr>\n",
              "      <th>3</th>\n",
              "      <td>6 Bedroom House</td>\n",
              "      <td>Cape Town City Centre</td>\n",
              "      <td>4495000.0</td>\n",
              "    </tr>\n",
              "    <tr>\n",
              "      <th>4</th>\n",
              "      <td>3 Bedroom House</td>\n",
              "      <td>Kenilworth</td>\n",
              "      <td>6995000.0</td>\n",
              "    </tr>\n",
              "  </tbody>\n",
              "</table>\n",
              "</div>"
            ],
            "text/plain": [
              "           Description                 Suburb       Price\n",
              "0  2 Bedroom Apartment             Muizenberg   1425000.0\n",
              "1      5 Bedroom House              Pinelands   3200000.0\n",
              "2  3 Bedroom Apartment             Diep River  19500000.0\n",
              "3      6 Bedroom House  Cape Town City Centre   4495000.0\n",
              "4      3 Bedroom House             Kenilworth   6995000.0"
            ]
          },
          "metadata": {
            "tags": []
          },
          "execution_count": 23
        }
      ]
    },
    {
      "cell_type": "code",
      "metadata": {
        "id": "WFCfX2rsl9KD",
        "colab_type": "code",
        "colab": {
          "base_uri": "https://localhost:8080/",
          "height": 185
        },
        "outputId": "dabed485-0864-43bb-d5b3-2ebb97a034ee"
      },
      "source": [
        "p24_df.info()"
      ],
      "execution_count": null,
      "outputs": [
        {
          "output_type": "stream",
          "text": [
            "<class 'pandas.core.frame.DataFrame'>\n",
            "RangeIndex: 750 entries, 0 to 749\n",
            "Data columns (total 3 columns):\n",
            " #   Column       Non-Null Count  Dtype   \n",
            "---  ------       --------------  -----   \n",
            " 0   Description  750 non-null    category\n",
            " 1   Suburb       750 non-null    category\n",
            " 2   Price        750 non-null    float64 \n",
            "dtypes: category(2), float64(1)\n",
            "memory usage: 14.8 KB\n"
          ],
          "name": "stdout"
        }
      ]
    },
    {
      "cell_type": "code",
      "metadata": {
        "id": "NpiPx0fEmDXx",
        "colab_type": "code",
        "colab": {}
      },
      "source": [
        "p24_df = catDataType(p24_df)"
      ],
      "execution_count": null,
      "outputs": []
    },
    {
      "cell_type": "markdown",
      "metadata": {
        "id": "E2kWFEgeDj2z",
        "colab_type": "text"
      },
      "source": [
        "# Missing Data Code"
      ]
    },
    {
      "cell_type": "code",
      "metadata": {
        "id": "gvVbncRbDsHy",
        "colab_type": "code",
        "colab": {}
      },
      "source": [
        "#Check Missing Values in a Dataset\n",
        "def NACount(data):\n",
        "  NaCount = {}\n",
        "  for feature in data.columns:\n",
        "    NaCount[feature] = data[feature].isna().sum()\n",
        "\n",
        "  return NaCount"
      ],
      "execution_count": null,
      "outputs": []
    },
    {
      "cell_type": "markdown",
      "metadata": {
        "id": "V8-i4UczYlRC",
        "colab_type": "text"
      },
      "source": [
        "# Data Exploration"
      ]
    },
    {
      "cell_type": "code",
      "metadata": {
        "id": "HYAoUVcVYtut",
        "colab_type": "code",
        "colab": {
          "base_uri": "https://localhost:8080/",
          "height": 284
        },
        "outputId": "b8b887c1-8fdc-4c96-815e-4af45783b687"
      },
      "source": [
        "p24_df.describe()"
      ],
      "execution_count": null,
      "outputs": [
        {
          "output_type": "execute_result",
          "data": {
            "text/html": [
              "<div>\n",
              "<style scoped>\n",
              "    .dataframe tbody tr th:only-of-type {\n",
              "        vertical-align: middle;\n",
              "    }\n",
              "\n",
              "    .dataframe tbody tr th {\n",
              "        vertical-align: top;\n",
              "    }\n",
              "\n",
              "    .dataframe thead th {\n",
              "        text-align: right;\n",
              "    }\n",
              "</style>\n",
              "<table border=\"1\" class=\"dataframe\">\n",
              "  <thead>\n",
              "    <tr style=\"text-align: right;\">\n",
              "      <th></th>\n",
              "      <th>Price</th>\n",
              "    </tr>\n",
              "  </thead>\n",
              "  <tbody>\n",
              "    <tr>\n",
              "      <th>count</th>\n",
              "      <td>7.500000e+02</td>\n",
              "    </tr>\n",
              "    <tr>\n",
              "      <th>mean</th>\n",
              "      <td>5.533913e+06</td>\n",
              "    </tr>\n",
              "    <tr>\n",
              "      <th>std</th>\n",
              "      <td>1.025144e+07</td>\n",
              "    </tr>\n",
              "    <tr>\n",
              "      <th>min</th>\n",
              "      <td>1.990000e+05</td>\n",
              "    </tr>\n",
              "    <tr>\n",
              "      <th>25%</th>\n",
              "      <td>1.650000e+06</td>\n",
              "    </tr>\n",
              "    <tr>\n",
              "      <th>50%</th>\n",
              "      <td>2.799500e+06</td>\n",
              "    </tr>\n",
              "    <tr>\n",
              "      <th>75%</th>\n",
              "      <td>5.983750e+06</td>\n",
              "    </tr>\n",
              "    <tr>\n",
              "      <th>max</th>\n",
              "      <td>2.120000e+08</td>\n",
              "    </tr>\n",
              "  </tbody>\n",
              "</table>\n",
              "</div>"
            ],
            "text/plain": [
              "              Price\n",
              "count  7.500000e+02\n",
              "mean   5.533913e+06\n",
              "std    1.025144e+07\n",
              "min    1.990000e+05\n",
              "25%    1.650000e+06\n",
              "50%    2.799500e+06\n",
              "75%    5.983750e+06\n",
              "max    2.120000e+08"
            ]
          },
          "metadata": {
            "tags": []
          },
          "execution_count": 24
        }
      ]
    },
    {
      "cell_type": "code",
      "metadata": {
        "id": "QNyx3DNTbI8g",
        "colab_type": "code",
        "colab": {}
      },
      "source": [
        ""
      ],
      "execution_count": null,
      "outputs": []
    },
    {
      "cell_type": "markdown",
      "metadata": {
        "id": "7K5skJM6S3bP",
        "colab_type": "text"
      },
      "source": [
        "# Exploratory Data Analysis Function"
      ]
    },
    {
      "cell_type": "code",
      "metadata": {
        "id": "UtTNCpXKS80O",
        "colab_type": "code",
        "colab": {}
      },
      "source": [
        "#Defining graphing function\n",
        "def ExploreGraphs(x_feature, y_result, df, choice, custom):\n",
        "  \n",
        "  #Setting the visual features of the graph\n",
        "  sns.set_style(\"darkgrid\")\n",
        "  plt.figure(figsize=(10,10))\n",
        "  \n",
        "  #Bar Chart choice\n",
        "  if choice == \"bar\":\n",
        "\n",
        "    barplot = sns.barplot(x = x_feature, y = y_result, data = df, ci=custom)\n",
        "    plt.show()\n",
        "\n",
        "  #Histogram choice\n",
        "  elif choice == \"hist\":\n",
        "\n",
        "    histplot = sns.distplot(df[x_feature])\n",
        "    plt.show()\n",
        "\n",
        "  #Count Plot Choice\n",
        "  elif choice == \"count\":\n",
        "\n",
        "    barplot = sns.countplot(x = x_feature, data = df)\n",
        "    plt.show()\n",
        "\n",
        "  #Heat map choice\n",
        "  elif choice == \"heat\":\n",
        "\n",
        "    plt.figure(figsize=(30,30))\n",
        "    sns.heatmap(df.corr(), vmax=0.8, square=True, annot = True)\n",
        "\n",
        "  #Pair plot choice\n",
        "  elif choice == \"pair\":\n",
        "\n",
        "    sns.pairplot(df)\n",
        "\n",
        "  #In case the choice input is not defined in the function\n",
        "  else:\n",
        "    print(\"Not a valid choice\")"
      ],
      "execution_count": null,
      "outputs": []
    },
    {
      "cell_type": "markdown",
      "metadata": {
        "id": "FUhOEdCCUs2u",
        "colab_type": "text"
      },
      "source": [
        "# Graphing Area"
      ]
    },
    {
      "cell_type": "code",
      "metadata": {
        "id": "XT6Vv_GcUzWL",
        "colab_type": "code",
        "colab": {
          "base_uri": "https://localhost:8080/",
          "height": 616
        },
        "outputId": "2eb7640b-613c-4472-d87b-000d184b203a"
      },
      "source": [
        "'''\n",
        "How to use function\n",
        "FIRST PARAMETER: X Feature (Pandas Column Name)\n",
        "\n",
        "SECOND PARAMETER: Y FEATURE (Pandas Column Name)\n",
        "\n",
        "THIRD PARAMETER: DATA (Pandas Dataframe)\n",
        "\n",
        "FOURTH PARAMETER: Choice of graph: \"bar\" for Bar Plot (Good for comparing one insurance product with a feature),\n",
        "                                    \"hist\" for Histogram (Good for continuous distrbution of one feature),\n",
        "                                    \"count\" for a count plot (Good for the discontinuous distribution of one feature),\n",
        "                                    \"heat\" for a heatmap between the variables of the dataset,\n",
        "                                    \"pair\" for a pairplot between the variables of a dataset (Be careful of the number of features you're comparing)\n",
        "\n",
        "FIFTH PARAMETER: Confidence Interval error bar for Bar Plot = number (number% Confidence Interval), None (No error bar) \n",
        "'''\n",
        "ExploreGraphs(\"Suburb\", \"Price\", p24_df, \"bar\", 95)"
      ],
      "execution_count": null,
      "outputs": [
        {
          "output_type": "display_data",
          "data": {
            "image/png": "[encoded data removed]",
            "text/plain": [
              "<Figure size 720x720 with 1 Axes>"
            ]
          },
          "metadata": {
            "tags": []
          }
        }
      ]
    }
  ]
}
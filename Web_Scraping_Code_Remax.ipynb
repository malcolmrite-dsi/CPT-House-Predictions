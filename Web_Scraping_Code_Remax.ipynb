{
  "nbformat": 4,
  "nbformat_minor": 0,
  "metadata": {
    "colab": {
      "name": "Web_Scraping_Code_Remax.ipynb",
      "provenance": [],
      "toc_visible": true,
      "mount_file_id": "1rkRUe1VcY49mQdV3ZrIt-C17-xoWETfR",
      "authorship_tag": "ABX9TyNvOVzSpcC2yePuxjp/mwww",
      "include_colab_link": true
    },
    "kernelspec": {
      "name": "python3",
      "display_name": "Python 3"
    }
  },
  "cells": [
    {
      "cell_type": "markdown",
      "metadata": {
        "id": "view-in-github",
        "colab_type": "text"
      },
      "source": [
        "<a href=\"https://colab.research.google.com/github/malcolmrite-dsi/CPT-House-Predictions/blob/master/Web_Scraping_Code_Remax.ipynb\" target=\"_parent\"><img src=\"https://colab.research.google.com/assets/colab-badge.svg\" alt=\"Open In Colab\"/></a>"
      ]
    },
    {
      "cell_type": "markdown",
      "metadata": {
        "id": "QmOzKDMJWWqL",
        "colab_type": "text"
      },
      "source": [
        "# Importing Libraries"
      ]
    },
    {
      "cell_type": "markdown",
      "metadata": {
        "id": "rKOUewpGWujH",
        "colab_type": "text"
      },
      "source": [
        "\n",
        "*   BeautifulSoup: Handles the actual web scraping.\n",
        "*   CSV: A python library that creates the csv file from the scraped text\n",
        "*   requests: Library that sends an HTML request to the web server.\n",
        "\n",
        "\n",
        "\n",
        "\n"
      ]
    },
    {
      "cell_type": "code",
      "metadata": {
        "id": "DfLvh-J3WOqQ",
        "colab_type": "code",
        "colab": {}
      },
      "source": [
        "from bs4 import BeautifulSoup as bs\n",
        "import csv\n",
        "import requests"
      ],
      "execution_count": 2,
      "outputs": []
    },
    {
      "cell_type": "markdown",
      "metadata": {
        "id": "I7M90Pwyb2po",
        "colab_type": "text"
      },
      "source": [
        "# Open the CSV File"
      ]
    },
    {
      "cell_type": "markdown",
      "metadata": {
        "id": "wF1PSy8Nele5",
        "colab_type": "text"
      },
      "source": [
        "Opens a new csv file and sets the headers for that file"
      ]
    },
    {
      "cell_type": "code",
      "metadata": {
        "id": "_c_wuZT2Wf_5",
        "colab_type": "code",
        "colab": {
          "base_uri": "https://localhost:8080/",
          "height": 34
        },
        "outputId": "193680e7-8125-4266-ce58-d508efa854e4"
      },
      "source": [
        "df = open(\"drive/My Drive/cpt-houseprices_remax.csv\",\"w\")\n",
        "csv_writer = csv.writer(df)\n",
        "csv_writer.writerow([\"Description\", \"Price\"])"
      ],
      "execution_count": 23,
      "outputs": [
        {
          "output_type": "execute_result",
          "data": {
            "text/plain": [
              "19"
            ]
          },
          "metadata": {
            "tags": []
          },
          "execution_count": 23
        }
      ]
    },
    {
      "cell_type": "markdown",
      "metadata": {
        "id": "v6WzbSA3e2ex",
        "colab_type": "text"
      },
      "source": [
        "# Send HTML Request"
      ]
    },
    {
      "cell_type": "code",
      "metadata": {
        "id": "fihyWHD_fAyy",
        "colab_type": "code",
        "colab": {}
      },
      "source": [
        "src = {}\n",
        "\n",
        "src[1] = requests.get(f\"https://www.remax.co.za/property/for-sale/south-africa/western-cape/cape-town/?pt=1_2_3\").text\n",
        "page = bs(src[1], 'lxml')\n"
      ],
      "execution_count": 5,
      "outputs": []
    },
    {
      "cell_type": "markdown",
      "metadata": {
        "id": "cgxBAV21RXZb",
        "colab_type": "text"
      },
      "source": [
        "# Testing Each Scrape"
      ]
    },
    {
      "cell_type": "markdown",
      "metadata": {
        "id": "1PUnaPb3hZMc",
        "colab_type": "text"
      },
      "source": [
        "## Get Price"
      ]
    },
    {
      "cell_type": "code",
      "metadata": {
        "id": "Hipg6pKjhrrN",
        "colab_type": "code",
        "colab": {
          "base_uri": "https://localhost:8080/",
          "height": 353
        },
        "outputId": "62cc86b8-134e-4bf3-d3b1-5b7dbba0b250"
      },
      "source": [
        "all_prices = page.find_all('div', class_= \"property-card-info__price\")\n",
        "for price in all_prices:\n",
        "  print(price.text.strip())"
      ],
      "execution_count": 21,
      "outputs": [
        {
          "output_type": "stream",
          "text": [
            "R1 790 000\n",
            "R2 775 000\n",
            "R2 700 000\n",
            "R2 600 000\n",
            "R1 495 000\n",
            "R795 000\n",
            "R1 045 000\n",
            "R2 350 000\n",
            "POA\n",
            "R6 200 000\n",
            "R4 450 000\n",
            "R1 250 000\n",
            "R650 000\n",
            "R1 720 000\n",
            "R2 199 000\n",
            "R1 950 000\n",
            "R995 000\n",
            "R1 200 000\n",
            "R1 995 000\n",
            "R2 650 000\n"
          ],
          "name": "stdout"
        }
      ]
    },
    {
      "cell_type": "markdown",
      "metadata": {
        "id": "xnr4MsxPn4zU",
        "colab_type": "text"
      },
      "source": [
        "## Get Bedrooms, Bathrooms and Parkings"
      ]
    },
    {
      "cell_type": "code",
      "metadata": {
        "id": "HpAvAy55oTPr",
        "colab_type": "code",
        "colab": {}
      },
      "source": [
        "'''all_floor_areas = page.find_all('span', class_= \"p24_size\")\n",
        "all_bedrooms = page.find_all('span', class_= \"p24_featureDetails\", title=\"Bedrooms\")\n",
        "all_bathrooms = page.find_all('span', class_= \"p24_featureDetails\", title=\"Bathrooms\")\n",
        "all_parking = page.find_all('span', class_= \"p24_featureDetails\", title=\"Parking Spaces\")\n",
        "\n",
        "for price in all_parking:\n",
        "  print(price.text.strip())'''"
      ],
      "execution_count": null,
      "outputs": []
    },
    {
      "cell_type": "markdown",
      "metadata": {
        "id": "k5KUS2uOrquo",
        "colab_type": "text"
      },
      "source": [
        "## Get Description (Suburb)"
      ]
    },
    {
      "cell_type": "code",
      "metadata": {
        "id": "-XxHa5EhrpVJ",
        "colab_type": "code",
        "colab": {
          "base_uri": "https://localhost:8080/",
          "height": 353
        },
        "outputId": "f40d516a-5f13-41db-fbe2-39a5b5a6fc69"
      },
      "source": [
        "all_description = page.find_all('div', class_= \"property-card-info__suburb\")\n",
        "for price in all_description:\n",
        "  print(price.text.strip())"
      ],
      "execution_count": 11,
      "outputs": [
        {
          "output_type": "stream",
          "text": [
            "3 Bedroom Townhouse in Kenilworth\n",
            "4 Bedroom House in Ferness Estate\n",
            "4 Bedroom House in Sybrand Park\n",
            "3 Bedroom House in Coniston Park\n",
            "2 Bedroom House in Steenberg\n",
            "1 Bedroom Apartment / Flat in Wynberg Upper\n",
            "6 Bedroom House in Penlyn Estate\n",
            "3 Bedroom Apartment / Flat in Sea Point\n",
            "4 Bedroom House in Newlands\n",
            "4 Bedroom House in Tokai\n",
            "1 Bedroom Apartment / Flat in Cape Town City Cen...\n",
            "6 Bedroom House in Crossroads\n",
            "3 Bedroom House in Costa Da Gama\n",
            "3 Bedroom House in Heathfield\n",
            "2 Bedroom Apartment / Flat in Gardens\n",
            "2 Bedroom Townhouse in Costa Da Gama\n",
            "2 Bedroom House in Muizenberg\n",
            "4 Bedroom House in Surrey Estate\n",
            "4 Bedroom House in Thornton\n",
            "1 Bedroom Apartment / Flat in Southfield\n"
          ],
          "name": "stdout"
        }
      ]
    },
    {
      "cell_type": "markdown",
      "metadata": {
        "id": "qa6b1L2Ysg9t",
        "colab_type": "text"
      },
      "source": [
        "# Bringing it All Together"
      ]
    },
    {
      "cell_type": "markdown",
      "metadata": {
        "id": "j1XrfNrhsg2E",
        "colab_type": "text"
      },
      "source": [
        "Iterating over the first 50 pages that is set to most recent. To ensure data is based on recent trends. The values are then placed in the created csv file."
      ]
    },
    {
      "cell_type": "code",
      "metadata": {
        "id": "pmWfexG5s9ae",
        "colab_type": "code",
        "colab": {}
      },
      "source": [
        "for i in range(1,81):\n",
        "    print(\"Page\",i)\n",
        "    src = requests.get(f\"https://www.remax.co.za/property/for-sale/south-africa/western-cape/cape-town/?pt=1_2_3&page={i}\").text\n",
        "    page = bs(src, 'lxml')\n",
        "    \n",
        "    all_description = page.find_all('div', class_= \"property-card-info__suburb\")\n",
        "    \n",
        "    all_prices = page.find_all('div', class_= \"property-card-info__price\")  \n",
        "\n",
        "\n",
        "    for i, loc in enumerate(range(15)):\n",
        "      csv_writer.writerow([all_description[i].text.strip(), all_prices[i].text.strip()])\n",
        "    \n",
        "df.close()\n"
      ],
      "execution_count": null,
      "outputs": []
    },
    {
      "cell_type": "code",
      "metadata": {
        "id": "hf3y24WM6JXo",
        "colab_type": "code",
        "colab": {
          "base_uri": "https://localhost:8080/",
          "height": 34
        },
        "outputId": "f24daa2f-6355-4aa0-ca00-a43f8060e75f"
      },
      "source": [
        "    \n",
        "all_prices\n",
        "    "
      ],
      "execution_count": 15,
      "outputs": [
        {
          "output_type": "execute_result",
          "data": {
            "text/plain": [
              "[]"
            ]
          },
          "metadata": {
            "tags": []
          },
          "execution_count": 15
        }
      ]
    }
  ]
}